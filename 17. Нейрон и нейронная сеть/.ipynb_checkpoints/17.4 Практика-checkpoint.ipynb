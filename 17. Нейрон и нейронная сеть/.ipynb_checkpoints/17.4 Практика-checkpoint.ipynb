{
 "cells": [
  {
   "cell_type": "markdown",
   "metadata": {
    "id": "YaAddKggN-H2"
   },
   "source": [
    "# Модуль 17. Практическая работа\n",
    "\n",
    "## Цель работы\n",
    "\n",
    "Реализовать обучение простой нейронной сети, используя цепное правило (для вычисления производной сложной функции).\n",
    "\n",
    "Выполненное задание не нужно сдавать на проверку, оно факультативно. Решите его, чтобы потренироваться.\n",
    "\n",
    "## Что нужно сделать\n",
    "\n",
    "В видео говорилось, что метод обратного распространения ошибки – главный алгоритм обучения нейронных сетей. Мы выяснили, что метод основывается на правиле дифференцирования сложной функции, так называемом цепном правиле. Более того, вычислили градиент функции потерь и увидели, как он (взятый со знаком минус) указывает направление, в котором функция убывает быстрее всего. Нейронная сеть, с которой мы экспериментировали, имела два входа, один внутренний нейрон и один выход. Мы использовали скалярные значения: в наших данных был всего один объект из двух атрибутов. \n",
    "\n",
    "В этом задании давайте попробуем обучить ту же нейронную сеть с двумя входами и одним нейроном (функция активации – гиперболический тангенс), но данных будет больше. Например, 100 объектов, по два атрибута в каждом. Для всех объектов известно значение целевой переменной. Решим задачу регрессии. Для представления объектов данных и весов сети будем использовать numpy-массивы, так как для них реализованы все необходимые математические операции (включая гиперболический тангенс). \n",
    "\n",
    "## Алгоритм выполнения задания\n",
    "\n",
    "1. В `ЯЧЕЙКЕ 1` заданы входные данные сети, инициализированы её веса и определены необходимые функции: сама сеть и её функция потерь. Запустите ячейку.\n",
    "1. В `ЯЧЕЙКЕ 2` объявлены функции `grad_w1` и `grad_w2`, вам **нужно наполнить их кодом.** Функции `grad_w1` и `grad_w2` должны вычислять производную функцию потерь по `w1` и `w2` соотвественно. Как это сделать, вы знаете: мы разбирали всё в первом видео об обратном распространении ошибки. Вы умеете вычислять производную функции потерь (среднеквадратичная ошибка) для нейронной сети при скалярных значениях, с векторами всё будет так же, только вместо скаляров numpy-массивы. Попробуйте. \n",
    "1. В `ЯЧЕЙКЕ 3` реализован тренировочный цикл: итерация за итерацией выполняется прямой проход по сети, вычисляется функция потерь и её градиент, обновляются веса. Значение функции потерь сохраняется в список. Когда цикл завершается, список со значениями функции потерь выводится в виде графика. Если вы правильно реализовали `grad_w1` и `grad_w2`, то увидите график убывающей функции: потери становятся всё меньше и меньше, сеть учится. \n",
    "\n",
    "Если что-то не получается (или всё получилось, но просто интересно), можете свериться с решением, оно в конце ноутбука. То, что мы сейчас сделали, – это настоящее обучение нейронной сети, выполненное без всяких фреймворков, что называется, с нуля. В следующих видео вы познакомитесь с `pytorch` и узнаете, как это реализовано в нём. "
   ]
  },
  {
   "cell_type": "code",
   "execution_count": 1,
   "metadata": {
    "id": "-Kc19Fn2XYg8"
   },
   "outputs": [],
   "source": [
    "### ЯЧЕЙКА 1\n",
    "\n",
    "import numpy as np\n",
    "import matplotlib.pyplot as plt\n",
    "\n",
    "# Число семплов в датасете\n",
    "n_samples = 100\n",
    "\n",
    "#\n",
    "# Генерируем данные. Векторы X1 и X2 случайны\n",
    "#\n",
    "X1 = np.random.rand(n_samples)\n",
    "X2 = np.random.rand(n_samples)\n",
    "\n",
    "#\n",
    "# Целевая переменная y – нелинейная функция от X1 и X2\n",
    "#\n",
    "y = np.sin(np.sqrt(X1**2 + X2**2))\n",
    "\n",
    "#\n",
    "# Инициализируем веса модели случайными значениями\n",
    "# Входа у нас всего два, поэтому веса тоже два\n",
    "#\n",
    "w1 = np.random.rand()\n",
    "w2 = np.random.rand()\n",
    "\n",
    "#\n",
    "# Это прямой проход сети: гиперболический тангенс от линейной комбинации\n",
    "# входных данных и весов сети (сдвиг для простоты считаем нулевым)\n",
    "#\n",
    "def forward_pass(x1, x2, w1, w2):\n",
    "  return np.tanh(x1*w1 + x2*w2)\n",
    "\n",
    "#\n",
    "# Определяем функцию потерь – это среднеквадратичная ошибка (MSE)\n",
    "#\n",
    "def loss_fn(y, pred):\n",
    "  # На этот раз усредняем по всей выборке данных\n",
    "  return np.square(y - pred).mean()"
   ]
  },
  {
   "cell_type": "code",
   "execution_count": 2,
   "metadata": {
    "id": "p7z2Cq-YcBCI"
   },
   "outputs": [],
   "source": [
    "### ЯЧЕЙКА 2\n",
    "\n",
    "# Вычисляет и возвращает частную производную функции потерь по w1\n",
    "def grad_w1(x1, x2, w1, w2, y):\n",
    "  #\n",
    "  # ВАШ КОД ЗДЕСЬ\n",
    "    v = x1*w1 + x2*w2\n",
    "    q = np.tanh(v)\n",
    "    u = y - q\n",
    "    e = np.square(u)\n",
    "  # \n",
    "    de_du = 2*u\n",
    "    du_dq = -1\n",
    "    dq_dv = 1 - np.square(q)\n",
    "    dv_dw1 = x1\n",
    "    return de_du * du_dq * dq_dv * dv_dw1\n",
    " \n",
    "# Вычисляет и возвращает частную производную функции потерь по w1\n",
    "def grad_w2(x1, x2, w1, w2, y):\n",
    "  #\n",
    "  # ВАШ КОД ЗДЕСЬ\n",
    "    v = x1*w1 + x2*w2\n",
    "    q = np.tanh(v)\n",
    "    u = y - q\n",
    "    e = np.square(u)\n",
    "  # \n",
    "    de_du = 2*u\n",
    "    du_dq = -1\n",
    "    dq_dv = 1 - np.square(q)\n",
    "    dv_dw2 = x2\n",
    "    return de_du * du_dq * dq_dv * dv_dw2"
   ]
  },
  {
   "cell_type": "code",
   "execution_count": 3,
   "metadata": {
    "id": "lYqbwBlhdDDd"
   },
   "outputs": [
    {
     "data": {
      "image/png": "[encoded data removed]",
      "text/plain": [
       "<Figure size 800x500 with 1 Axes>"
      ]
     },
     "metadata": {},
     "output_type": "display_data"
    }
   ],
   "source": [
    "### ЯЧЕЙКА 3\n",
    "\n",
    "# Сделаем 100 циклов градиентного спуска\n",
    "num_epochs = 100\n",
    "\n",
    "# На каждом будем немного менять веса в направлении, \n",
    "# противоположном градиенту\n",
    "step = 0.1\n",
    "\n",
    "# В конце каждого цикла сохраним текущее значение функции потерь\n",
    "loss_values = []\n",
    "\n",
    "#\n",
    "# Обучающий цикл\n",
    "#\n",
    "for i in range(num_epochs):\n",
    "  #\n",
    "  # Прямой проход: вычисляем предсказания сети\n",
    "  #\n",
    "  pred = forward_pass(X1, X2, w1, w2)\n",
    "\n",
    "  #\n",
    "  # Вычисляем значение функции потерь\n",
    "  #\n",
    "  loss = loss_fn(pred, y)\n",
    "\n",
    "  #\n",
    "  # Сохраняем значение функции потерь в список\n",
    "  #\n",
    "  loss_values.append(loss)\n",
    "\n",
    "  #\n",
    "  # Обновляем веса в направлении антиградиента\n",
    "  #      \n",
    "  w1 -= step*grad_w1(X1, X2, w1, w2, y) \n",
    "  w2 -= step*grad_w2(X1, X2, w1, w2, y)\n",
    "\n",
    "#\n",
    "# Рисуем график потерь\n",
    "#\n",
    "dx = np.arange(0, num_epochs, 1)\n",
    "fig, ax = plt.subplots(figsize=(8,5))\n",
    "plt.plot(dx, np.array(loss_values))\n",
    "plt.title(\"Loss\")\n",
    "plt.xlabel(\"Epochs\")\n",
    "plt.ylabel(\"Loss\")\n",
    "plt.show()"
   ]
  },
  {
   "cell_type": "markdown",
   "metadata": {
    "id": "rnfHMrzgeB4_"
   },
   "source": [
    "## Решение"
   ]
  },
  {
   "cell_type": "code",
   "execution_count": null,
   "metadata": {
    "id": "_P67BaOmeRzJ"
   },
   "outputs": [],
   "source": [
    "import numpy as np\n",
    "import matplotlib.pyplot as plt\n",
    "\n",
    "# Число семплов в датасете\n",
    "n_samples = 100\n",
    "\n",
    "#\n",
    "# Генерируем данные. Векторы X1 и X2 случайны\n",
    "#\n",
    "X1 = np.random.rand(n_samples)\n",
    "X2 = np.random.rand(n_samples)\n",
    "\n",
    "#\n",
    "# Целевая переменная y – нелинейная функция от X1 и X2\n",
    "#\n",
    "y = np.sin(np.sqrt(X1**2 + X2**2))\n",
    "\n",
    "#\n",
    "# Инициализируем веса модели случайными значениями\n",
    "# Входа у нас всего два, поэтому веса тоже два\n",
    "#\n",
    "w1 = np.random.rand()\n",
    "w2 = np.random.rand()\n",
    "\n",
    "#\n",
    "# Это прямой проход сети: гиперболический тангенс от линейной комбинации\n",
    "# входных данных и весов сети (сдвиг для простоты считаем нулевым)\n",
    "#\n",
    "def forward_pass(x1, x2, w1, w2):\n",
    "  return np.tanh(x1*w1 + x2*w2)\n",
    "\n",
    "#\n",
    "# Определяем функцию потерь – это среднеквадратичная ошибка (MSE)\n",
    "#\n",
    "def loss_fn(y, pred):\n",
    "  # На этот раз усредняем по всей выборке данных\n",
    "  return np.square(y - pred).mean()"
   ]
  },
  {
   "cell_type": "code",
   "execution_count": null,
   "metadata": {
    "id": "V2bzsYIMcgB_"
   },
   "outputs": [],
   "source": [
    "def grad_w1(x1, x2, w1, w2, gt):\n",
    "  v = x1*w1 + x2*w2\n",
    "  q = np.tanh(v)\n",
    "  u = gt - q\n",
    "  e = np.square(u)\n",
    "\n",
    "  de_du = 2*u\n",
    "  du_dq = -1\n",
    "  dq_dv = 1 - np.square(q)\n",
    "  dv_dw1 = x1 \n",
    "\n",
    "  return de_du*du_dq*dq_dv*dv_dw1\n",
    "\n",
    "def grad_w2(x1, x2, w1, w2, gt):\n",
    "  v = x1*w1 + x2*w2\n",
    "  q = np.tanh(v)\n",
    "  u = gt - q\n",
    "  e = np.square(u)\n",
    "\n",
    "  de_du = 2*u\n",
    "  du_dq = -1\n",
    "  dq_dv = 1 - np.square(q)\n",
    "  dv_dw1 = x2 \n",
    "\n",
    "  return de_du*du_dq*dq_dv*dv_dw1"
   ]
  },
  {
   "cell_type": "code",
   "execution_count": null,
   "metadata": {
    "colab": {
     "base_uri": "https://localhost:8080/",
     "height": 350
    },
    "id": "_qyuuH4fbjNm",
    "outputId": "ed8ec47a-945f-43bd-b743-f3a8febb4d77"
   },
   "outputs": [
    {
     "data": {
      "image/png": "[encoded data removed]",
      "text/plain": [
       "<Figure size 576x360 with 1 Axes>"
      ]
     },
     "metadata": {
      "needs_background": "light"
     },
     "output_type": "display_data"
    }
   ],
   "source": [
    "# Сделаем 100 циклов градиентного спуска\n",
    "num_epochs = 100\n",
    "\n",
    "# На каждом будем немного менять веса в направлении, \n",
    "# противоположном градиенту\n",
    "step = 0.1\n",
    "\n",
    "# В конце каждого цикла сохраним текущее значение функции потерь\n",
    "loss_values = []\n",
    "\n",
    "#\n",
    "# Обучающий цикл\n",
    "#\n",
    "for i in range(num_epochs):\n",
    "  #\n",
    "  # Прямой проход: вычисляем предсказания сети\n",
    "  #\n",
    "  pred = forward_pass(X1, X2, w1, w2)\n",
    "\n",
    "  #\n",
    "  # Вычисляем значение функции потерь\n",
    "  #\n",
    "  loss = loss_fn(pred, y)\n",
    "\n",
    "  #\n",
    "  # Сохраняем значение функции потерь в список\n",
    "  #\n",
    "  loss_values.append(loss)\n",
    "\n",
    "  #\n",
    "  # Обновляем веса в направлении антиградиента\n",
    "  #      \n",
    "  w1 -= step*grad_w1(X1, X2, w1, w2, y) \n",
    "  w2 -= step*grad_w2(X1, X2, w1, w2, y)\n",
    "\n",
    "\n",
    "#\n",
    "# Рисуем график потерь\n",
    "#\n",
    "dx = np.arange(0, num_epochs, 1)\n",
    "fig, ax = plt.subplots(figsize=(8,5))\n",
    "plt.plot(dx, np.array(loss_values))\n",
    "plt.title(\"Loss\")\n",
    "plt.xlabel(\"Epochs\")\n",
    "plt.ylabel(\"Loss\")\n",
    "plt.show()"
   ]
  }
 ],
 "metadata": {
  "colab": {
   "provenance": []
  },
  "kernelspec": {
   "display_name": "Python 3 (ipykernel)",
   "language": "python",
   "name": "python3"
  },
  "language_info": {
   "codemirror_mode": {
    "name": "ipython",
    "version": 3
   },
   "file_extension": ".py",
   "mimetype": "text/x-python",
   "name": "python",
   "nbconvert_exporter": "python",
   "pygments_lexer": "ipython3",
   "version": "3.10.9"
  }
 },
 "nbformat": 4,
 "nbformat_minor": 1
}
