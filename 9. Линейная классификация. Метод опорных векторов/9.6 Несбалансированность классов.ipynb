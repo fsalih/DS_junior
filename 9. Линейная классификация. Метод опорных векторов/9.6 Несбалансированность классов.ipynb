{
  "nbformat": 4,
  "nbformat_minor": 0,
  "metadata": {
    "colab": {
      "provenance": [],
      "collapsed_sections": []
    },
    "kernelspec": {
      "name": "python3",
      "display_name": "Python 3"
    },
    "language_info": {
      "name": "python"
    }
  },
  "cells": [
    {
      "cell_type": "markdown",
      "source": [
        "Рассмотрим задачу бинарной классификации. В этой задаче мы работаем с данными о мошенниках в банковской сфере.\n",
        "\n",
        "В качестве признаков f1 и f2 даны нормализованные рейтинги каждого клиента, полученные от двух независимых скоринговых компаний.\n",
        "\n",
        "Целевая переменная target — ответ, является клиент мошенником или нет. Если 0 — не мошенник, 1 — мошенник."
      ],
      "metadata": {
        "id": "N_8Vd5PcvKmU"
      }
    },
    {
      "cell_type": "code",
      "execution_count": null,
      "metadata": {
        "id": "2W9DjSpSscIj",
        "colab": {
          "base_uri": "https://localhost:8080/"
        },
        "outputId": "c8d85b95-8c3c-4959-e6ce-ef6660bac1f9"
      },
      "outputs": [
        {
          "output_type": "stream",
          "name": "stdout",
          "text": [
            "         f1        f2  target\n",
            "0  1.147058  1.047703       0\n",
            "1  0.733064  0.497771       0\n",
            "2  1.184146  1.630681       0\n",
            "3  1.409791  1.738476       0\n",
            "4  0.929529  0.581425       0\n"
          ]
        }
      ],
      "source": [
        "import pandas as pd\n",
        "\n",
        "df = pd.read_csv(\"example_unbalanced.csv\")\n",
        "print(df.head())\n",
        "\n",
        "X = df[['f1','f2']]\n",
        "y = df['target']"
      ]
    },
    {
      "cell_type": "markdown",
      "source": [
        "Посмотрим на количество объектов в каждом классе."
      ],
      "metadata": {
        "id": "ZA3BVjPEPBct"
      }
    },
    {
      "cell_type": "code",
      "source": [
        "y.value_counts()"
      ],
      "metadata": {
        "id": "xsfHnw7GPEde",
        "colab": {
          "base_uri": "https://localhost:8080/"
        },
        "outputId": "a38bfe07-eeaa-463c-ab11-1f81ac1880d4"
      },
      "execution_count": null,
      "outputs": [
        {
          "output_type": "execute_result",
          "data": {
            "text/plain": [
              "0    4724\n",
              "1     276\n",
              "Name: target, dtype: int64"
            ]
          },
          "metadata": {},
          "execution_count": 8
        }
      ]
    },
    {
      "cell_type": "markdown",
      "source": [
        "Видим, что выборка сильно несбалансированная.\n",
        "\n",
        "Разобъём выборку на тренировочную и тестовую части."
      ],
      "metadata": {
        "id": "76CxQNMOwAHD"
      }
    },
    {
      "cell_type": "code",
      "source": [
        "from sklearn.model_selection import train_test_split\n",
        "\n",
        "X_train, X_test, y_train, y_test = train_test_split(X, y, test_size=0.25)"
      ],
      "metadata": {
        "id": "yy_P6ujgs11d"
      },
      "execution_count": null,
      "outputs": []
    },
    {
      "cell_type": "markdown",
      "source": [
        "Обучим на тренировочных данных метод опорных векторов с параметрами по умолчанию, затем оценим качество на тестовой выборке."
      ],
      "metadata": {
        "id": "Fib8w5lLwFo5"
      }
    },
    {
      "cell_type": "code",
      "source": [
        "from sklearn.svm import SVC\n",
        "\n",
        "model = SVC()\n",
        "model.fit(X_train, y_train)\n",
        "\n",
        "pred_unb = model.predict(X_test)"
      ],
      "metadata": {
        "id": "QFP9lOMGtMpd"
      },
      "execution_count": null,
      "outputs": []
    },
    {
      "cell_type": "code",
      "source": [
        "from sklearn.metrics import classification_report\n",
        "\n",
        "print(classification_report(y_test, pred_unb))"
      ],
      "metadata": {
        "id": "Tz7Wf-j0tkld",
        "colab": {
          "base_uri": "https://localhost:8080/"
        },
        "outputId": "c3fef916-660a-4f8f-e9e0-35b469d1f241"
      },
      "execution_count": null,
      "outputs": [
        {
          "output_type": "stream",
          "name": "stdout",
          "text": [
            "              precision    recall  f1-score   support\n",
            "\n",
            "           0       0.98      1.00      0.99      1169\n",
            "           1       1.00      0.67      0.80        81\n",
            "\n",
            "    accuracy                           0.98      1250\n",
            "   macro avg       0.99      0.83      0.89      1250\n",
            "weighted avg       0.98      0.98      0.98      1250\n",
            "\n"
          ]
        }
      ]
    },
    {
      "cell_type": "markdown",
      "source": [
        "Модель хорошо справилась с нахождением объектов большего класса, при этом она не очень хорошо находит мошенников (только 70% среди всех мошенников найдены).\n",
        "\n",
        "Поставим параметр class_weight='balanced', тем самым заставляя модель обращать больше внимания на меньший класс."
      ],
      "metadata": {
        "id": "GICaXpRkwsD4"
      }
    },
    {
      "cell_type": "code",
      "source": [
        "model = SVC(class_weight='balanced')\n",
        "model.fit(X_train, y_train)\n",
        "\n",
        "pred_b = model.predict(X_test)\n",
        "\n",
        "print(classification_report(y_test, pred_b))"
      ],
      "metadata": {
        "id": "kW_kouemtrBm",
        "colab": {
          "base_uri": "https://localhost:8080/"
        },
        "outputId": "6a009e41-fbc1-4bc4-eb42-16899d209918"
      },
      "execution_count": null,
      "outputs": [
        {
          "output_type": "stream",
          "name": "stdout",
          "text": [
            "              precision    recall  f1-score   support\n",
            "\n",
            "           0       0.99      0.95      0.97      1169\n",
            "           1       0.54      0.84      0.65        81\n",
            "\n",
            "    accuracy                           0.94      1250\n",
            "   macro avg       0.76      0.89      0.81      1250\n",
            "weighted avg       0.96      0.94      0.95      1250\n",
            "\n"
          ]
        }
      ]
    },
    {
      "cell_type": "markdown",
      "source": [
        "Видим, что модель гораздо лучше находит мошенников, если задать веса (найдено 86% мошенников). При этом качество модели остаётся почти таким же хорошим."
      ],
      "metadata": {
        "id": "ZB2ERHiGvJTe"
      }
    }
  ]
}