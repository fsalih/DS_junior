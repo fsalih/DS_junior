{
  "nbformat": 4,
  "nbformat_minor": 0,
  "metadata": {
    "colab": {
      "provenance": [],
      "collapsed_sections": []
    },
    "kernelspec": {
      "name": "python3",
      "display_name": "Python 3"
    },
    "language_info": {
      "name": "python"
    }
  },
  "cells": [
    {
      "cell_type": "markdown",
      "source": [
        "Посмотрим, как с помощью ядрового метода опорных векторов можно решать задачи классификации с нелинейной зависимостью целевой переменной от признаков.\n",
        "\n",
        "Сгенерируем данные для задачи."
      ],
      "metadata": {
        "id": "f7uHmP9pEF0O"
      }
    },
    {
      "cell_type": "code",
      "execution_count": null,
      "metadata": {
        "id": "z70chspNBHzI"
      },
      "outputs": [],
      "source": [
        "import numpy as np\n",
        "from sklearn.datasets import make_circles\n",
        "from sklearn.svm import SVC\n",
        "from matplotlib import pyplot as plt\n",
        "\n",
        "X, y = make_circles(100, factor=.1, noise=.1)"
      ]
    },
    {
      "cell_type": "markdown",
      "source": [
        "Ниже указана функция для визуализации разделяющей поверхности и разделяющей полосы метода опорных векторов."
      ],
      "metadata": {
        "id": "YuR3CbW5EUTm"
      }
    },
    {
      "cell_type": "code",
      "source": [
        "def plot_svc_decision_function(model, ax=None, plot_support=True):\n",
        "\n",
        "    if ax is None:\n",
        "        ax = plt.gca()\n",
        "    xlim = ax.get_xlim()\n",
        "    ylim = ax.get_ylim()\n",
        "    \n",
        "    x = np.linspace(xlim[0], xlim[1], 30)\n",
        "    y = np.linspace(ylim[0], ylim[1], 30)\n",
        "    Y, X = np.meshgrid(y, x)\n",
        "    xy = np.vstack([X.ravel(), Y.ravel()]).T\n",
        "    P = model.decision_function(xy).reshape(X.shape)\n",
        "    \n",
        "    ax.contour(X, Y, P, colors='k',\n",
        "               levels=[-1, 0, 1], alpha=0.5,\n",
        "               linestyles=['--', '-', '--'])\n",
        "    \n",
        "    if plot_support:\n",
        "        ax.scatter(model.support_vectors_[:, 0],\n",
        "                   model.support_vectors_[:, 1],\n",
        "                   s=300, linewidth=1, facecolors='none');\n",
        "    ax.set_xlim(xlim)\n",
        "    ax.set_ylim(ylim)"
      ],
      "metadata": {
        "id": "z6ucEk4dDeBA"
      },
      "execution_count": null,
      "outputs": []
    },
    {
      "cell_type": "markdown",
      "source": [
        "Сначала обучим линейный метод опорных векторов и нарисуем результат."
      ],
      "metadata": {
        "id": "NJgPjLImEbX4"
      }
    },
    {
      "cell_type": "code",
      "source": [],
      "metadata": {
        "id": "ddDwzAnECO8Z"
      },
      "execution_count": null,
      "outputs": []
    },
    {
      "cell_type": "code",
      "source": [],
      "metadata": {
        "id": "Ix1LQ23WDOjt"
      },
      "execution_count": null,
      "outputs": []
    },
    {
      "cell_type": "markdown",
      "source": [
        "Очевидно, метод плохо справился с решением задачи.\n",
        "\n",
        "Попробуем другое ядро, например, сигмоидальное.\n",
        "\n",
        "Среди стандартных ядер в sklearn есть:\n",
        "*  rbf,\n",
        "*  sigmoid,\n",
        "*  poly.\n",
        "\n",
        "Явные формулы для этих преобразований довольно сложные, их можно изучить в [документации библиотеки](https://scikit-learn.org/stable/modules/svm.html#svm-kernels)."
      ],
      "metadata": {
        "id": "LtPTETjtEfUZ"
      }
    },
    {
      "cell_type": "markdown",
      "source": [
        "Попробуем применить SVM с сигмоидальным ядром."
      ],
      "metadata": {
        "id": "KtNRMMmlFMZq"
      }
    },
    {
      "cell_type": "code",
      "source": [],
      "metadata": {
        "id": "SblfYISiDWaW"
      },
      "execution_count": null,
      "outputs": []
    },
    {
      "cell_type": "markdown",
      "source": [
        "А теперь — SVM с радиальным ядром."
      ],
      "metadata": {
        "id": "uxYgTWqNEDpn"
      }
    },
    {
      "cell_type": "code",
      "source": [],
      "metadata": {
        "id": "YVZ_zDluD1vG"
      },
      "execution_count": null,
      "outputs": []
    },
    {
      "cell_type": "markdown",
      "source": [
        "SVM с радиальным ядром очень хорошо сработал на таких данных, потому что в данных легко угадываются круги. На практике, однако, подобрать нужное ядро не всегда просто, и нет гарантии, что подбор ядра из списка стандартных ядер sklearn поможет методу хорошо справиться с задачей классификации. Но нужно пробовать!"
      ],
      "metadata": {
        "id": "asOP17EiFSKa"
      }
    }
  ]
}