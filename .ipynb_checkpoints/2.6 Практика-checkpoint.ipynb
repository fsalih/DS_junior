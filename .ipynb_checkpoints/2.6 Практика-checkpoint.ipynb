{
 "cells": [
  {
   "cell_type": "markdown",
   "metadata": {
    "id": "F45tKvHwtETt"
   },
   "source": [
    "# Функция потерь. Практика"
   ]
  },
  {
   "cell_type": "markdown",
   "metadata": {
    "id": "uToe7utstGcj"
   },
   "source": [
    "## Цели практической работы\n",
    "\n",
    "- Узнать новые виды функции потерь\n",
    "- Потренироваться в расчетах функции потерь\n",
    "- Познакомиться с функционалом библиотеки Scikit-learn"
   ]
  },
  {
   "cell_type": "markdown",
   "metadata": {
    "id": "vKWv2SAfvjIY"
   },
   "source": [
    "## Что входит в практическую работу\n",
    "\n",
    "- Загрузить данные и ознакомиться с ними\n",
    "- Изучить формулы для новых функций потерь\n",
    "- Реализовать расчет с помощью стандартных средств python\n",
    "- Реализовать расчет с помощью  библиотеки Scikit-learn"
   ]
  },
  {
   "cell_type": "markdown",
   "metadata": {
    "id": "f7Yu82JfwBSp"
   },
   "source": [
    "## Что оценивается \n",
    "\n",
    "- Программа выдаёт верный ответ на заданном наборе данных"
   ]
  },
  {
   "cell_type": "markdown",
   "metadata": {
    "id": "zul4s0HPvjLY"
   },
   "source": [
    "Откройте Jupyter Notebook и выполните задачи.\n",
    "Задание не нужно сдавать на проверку."
   ]
  },
  {
   "cell_type": "markdown",
   "metadata": {
    "id": "Kw0_Bz2Jwh0t"
   },
   "source": [
    "## Задача"
   ]
  },
  {
   "cell_type": "markdown",
   "metadata": {
    "id": "U7iPvmv8wlPG"
   },
   "source": [
    "Пусть у нас имеется некоторый набор данных, где `y` - это правильные ответы, а `y_pred` - ответы, предсказанные моделью."
   ]
  },
  {
   "cell_type": "code",
   "execution_count": 1,
   "metadata": {
    "id": "mBc2wUa3zkSx"
   },
   "outputs": [],
   "source": [
    "%matplotlib inline\n",
    "import matplotlib.pyplot as plt\n",
    "import numpy as np"
   ]
  },
  {
   "cell_type": "code",
   "execution_count": 2,
   "metadata": {
    "id": "b1fw9buDtDne"
   },
   "outputs": [],
   "source": [
    "np.random.seed(0) # для воспроизведения результатов\n",
    "x = np.random.rand(100, 1)\n",
    "y = 1 + 5 * x + np.random.randn(100, 1)\n",
    "y_pred = 1 + 5 * x"
   ]
  },
  {
   "cell_type": "code",
   "execution_count": 3,
   "metadata": {
    "colab": {
     "base_uri": "https://localhost:8080/",
     "height": 280
    },
    "executionInfo": {
     "elapsed": 500,
     "status": "ok",
     "timestamp": 1651425475763,
     "user": {
      "displayName": "Маргарита Широбокова",
      "userId": "15867443346324107010"
     },
     "user_tz": -240
    },
    "id": "IJoOLs4Ezpyq",
    "outputId": "24f39d77-03b9-4fa2-e992-61376c9f7529"
   },
   "outputs": [
    {
     "data": {
      "image/png": "[encoded data removed]",
      "text/plain": [
       "<Figure size 640x480 with 1 Axes>"
      ]
     },
     "metadata": {},
     "output_type": "display_data"
    }
   ],
   "source": [
    "# plot\n",
    "plt.scatter(x, y, s=5)\n",
    "plt.plot(x, y_pred, 'g')\n",
    "plt.xlabel('x')\n",
    "plt.ylabel('y')\n",
    "plt.show()"
   ]
  },
  {
   "cell_type": "markdown",
   "metadata": {
    "id": "wYVqBhtd1CLV"
   },
   "source": [
    "На уроке вы рассмотрели для задачи регрессии функцию потерь `MAE`, ваша задача для этого же примера рассмотреть `MSE` и `RMSE`. "
   ]
  },
  {
   "cell_type": "markdown",
   "metadata": {
    "id": "7p8AcpSwz1Yo"
   },
   "source": [
    "### 1. Определите ошибку MSE для этих данных"
   ]
  },
  {
   "cell_type": "markdown",
   "metadata": {
    "id": "P0UR5LRh0M9o"
   },
   "source": [
    "1. Реализуйте функцию самостоятельно с помощью стандартных средств Python.\n"
   ]
  },
  {
   "cell_type": "code",
   "execution_count": 13,
   "metadata": {
    "id": "7tdXTHoO0Do_"
   },
   "outputs": [],
   "source": [
    "# Ваш код здесь\n",
    "def MSE(x1, x2):\n",
    "    return sum((x1-x2)**2)/len(x1)"
   ]
  },
  {
   "cell_type": "code",
   "execution_count": 14,
   "metadata": {},
   "outputs": [
    {
     "data": {
      "text/plain": [
       "1.0297617241074737"
      ]
     },
     "execution_count": 14,
     "metadata": {},
     "output_type": "execute_result"
    }
   ],
   "source": [
    "MSE(y, y_pred)[0]"
   ]
  },
  {
   "cell_type": "code",
   "execution_count": null,
   "metadata": {},
   "outputs": [],
   "source": []
  },
  {
   "cell_type": "markdown",
   "metadata": {
    "id": "Xl3aDpop0P2V"
   },
   "source": [
    "2. Подключите необходимый функционал из `sklearn`. Реализуйте эту же функцию с помощью библиотеки."
   ]
  },
  {
   "cell_type": "code",
   "execution_count": 15,
   "metadata": {
    "id": "_HZ1p9Jl0XGD"
   },
   "outputs": [],
   "source": [
    "# Ваш код здесь\n",
    "from sklearn.metrics import mean_squared_error"
   ]
  },
  {
   "cell_type": "code",
   "execution_count": 16,
   "metadata": {},
   "outputs": [
    {
     "data": {
      "text/plain": [
       "1.0297617241074741"
      ]
     },
     "execution_count": 16,
     "metadata": {},
     "output_type": "execute_result"
    }
   ],
   "source": [
    "mean_squared_error(y, y_pred)"
   ]
  },
  {
   "cell_type": "code",
   "execution_count": null,
   "metadata": {},
   "outputs": [],
   "source": []
  },
  {
   "cell_type": "markdown",
   "metadata": {
    "id": "QEHoF5qV0orZ"
   },
   "source": [
    "### 2. Определите ошибку RMSE для этих данных"
   ]
  },
  {
   "cell_type": "markdown",
   "metadata": {
    "id": "56DA1wr80wH8"
   },
   "source": [
    "1. Реализуйте функцию самостоятельно с помощью стандартных средств Python."
   ]
  },
  {
   "cell_type": "code",
   "execution_count": null,
   "metadata": {
    "id": "rJCw5Ex10yLM"
   },
   "outputs": [],
   "source": [
    "# Ваш код здесь\n",
    "def RMSE(x1, x2):\n",
    "    return (sum((x1-x2)**2)/len(x1))**0.5"
   ]
  },
  {
   "cell_type": "code",
   "execution_count": 9,
   "metadata": {},
   "outputs": [
    {
     "data": {
      "text/plain": [
       "1.014771759612709"
      ]
     },
     "execution_count": 9,
     "metadata": {},
     "output_type": "execute_result"
    }
   ],
   "source": [
    "RMSE(y, y_pred)[0]"
   ]
  },
  {
   "cell_type": "markdown",
   "metadata": {
    "id": "gs3knJ890yaC"
   },
   "source": [
    "2. Подключите необходимый функционал из `sklearn`. Реализуйте эту же функцию с помощью библиотеки."
   ]
  },
  {
   "cell_type": "code",
   "execution_count": 17,
   "metadata": {
    "id": "mrNG1JRz0y5n"
   },
   "outputs": [
    {
     "data": {
      "text/plain": [
       "1.0147717596127093"
      ]
     },
     "execution_count": 17,
     "metadata": {},
     "output_type": "execute_result"
    }
   ],
   "source": [
    "# Ваш код здесь\n",
    "mean_squared_error(y, y_pred)**0.5"
   ]
  },
  {
   "cell_type": "markdown",
   "metadata": {
    "id": "QVxq4BlNidxI"
   },
   "source": [
    "### 3. Еще один пример"
   ]
  },
  {
   "cell_type": "markdown",
   "metadata": {
    "id": "V9aaGuFxjEYs"
   },
   "source": [
    "Пусть имеется набор точек"
   ]
  },
  {
   "cell_type": "code",
   "execution_count": 20,
   "metadata": {
    "id": "DvucaxnTjHUk"
   },
   "outputs": [],
   "source": [
    "x_ex2 = np.array([1, 2, 3, 4])\n",
    "y_ex2 = np.array([1, 2, 3, 10])"
   ]
  },
  {
   "cell_type": "markdown",
   "metadata": {
    "id": "fgT2qcm9jH6a"
   },
   "source": [
    "и следующие модельные оценки"
   ]
  },
  {
   "cell_type": "code",
   "execution_count": 21,
   "metadata": {
    "id": "fyiWMrHHiTQR"
   },
   "outputs": [],
   "source": [
    "y_pred1 = np.array([1, 3, 5, 7])\n",
    "y_pred2 = np.array([3, 4, 5, 6])\n",
    "y_pred3 = np.array([1, 2, 3, 4])"
   ]
  },
  {
   "cell_type": "code",
   "execution_count": 22,
   "metadata": {
    "colab": {
     "base_uri": "https://localhost:8080/",
     "height": 280
    },
    "executionInfo": {
     "elapsed": 552,
     "status": "ok",
     "timestamp": 1651425476310,
     "user": {
      "displayName": "Маргарита Широбокова",
      "userId": "15867443346324107010"
     },
     "user_tz": -240
    },
    "id": "fhYOvQauiR-q",
    "outputId": "2c60d7a2-37d0-4cfb-a310-991a5886f17d"
   },
   "outputs": [
    {
     "data": {
      "image/png": "[encoded data removed]",
      "text/plain": [
       "<Figure size 640x480 with 1 Axes>"
      ]
     },
     "metadata": {},
     "output_type": "display_data"
    }
   ],
   "source": [
    "# plot\n",
    "plt.scatter(x_ex2, y_ex2, s=30)\n",
    "plt.plot(x_ex2, y_pred1, 'g')\n",
    "plt.plot(x_ex2, y_pred2, 'r')\n",
    "plt.plot(x_ex2, y_pred3, 'b')\n",
    "plt.xlabel('x')\n",
    "plt.ylabel('y')\n",
    "plt.show()"
   ]
  },
  {
   "cell_type": "code",
   "execution_count": 23,
   "metadata": {},
   "outputs": [],
   "source": [
    "from sklearn.metrics import mean_absolute_error"
   ]
  },
  {
   "cell_type": "code",
   "execution_count": 24,
   "metadata": {},
   "outputs": [
    {
     "name": "stdout",
     "output_type": "stream",
     "text": [
      "1.5\n",
      "2.5\n",
      "1.5\n"
     ]
    }
   ],
   "source": [
    "print(mean_absolute_error(y_ex2, y_pred1))\n",
    "print(mean_absolute_error(y_ex2, y_pred2))\n",
    "print(mean_absolute_error(y_ex2, y_pred3))"
   ]
  },
  {
   "cell_type": "code",
   "execution_count": 25,
   "metadata": {},
   "outputs": [
    {
     "name": "stdout",
     "output_type": "stream",
     "text": [
      "3.5\n",
      "7.0\n",
      "9.0\n"
     ]
    }
   ],
   "source": [
    "print(mean_squared_error(y_ex2, y_pred1))\n",
    "print(mean_squared_error(y_ex2, y_pred2))\n",
    "print(mean_squared_error(y_ex2, y_pred3))"
   ]
  },
  {
   "cell_type": "code",
   "execution_count": 26,
   "metadata": {},
   "outputs": [
    {
     "name": "stdout",
     "output_type": "stream",
     "text": [
      "1.8708286933869707\n",
      "2.6457513110645907\n",
      "3.0\n"
     ]
    }
   ],
   "source": [
    "print(RMSE(y_ex2, y_pred1))\n",
    "print(RMSE(y_ex2, y_pred2))\n",
    "print(RMSE(y_ex2, y_pred3))"
   ]
  },
  {
   "cell_type": "markdown",
   "metadata": {
    "id": "E0XMNVRgiJBA"
   },
   "source": [
    "Сравните значения ошибок MAE, MSE, RMSE для следующего примера"
   ]
  },
  {
   "cell_type": "markdown",
   "metadata": {
    "id": "SJaqK9iN1Udh"
   },
   "source": [
    "|"
   ]
  },
  {
   "cell_type": "markdown",
   "metadata": {
    "id": "eGdc3g161XIR"
   },
   "source": [
    "|"
   ]
  },
  {
   "cell_type": "markdown",
   "metadata": {
    "id": "uaapx2dw1XXe"
   },
   "source": [
    "|"
   ]
  },
  {
   "cell_type": "markdown",
   "metadata": {
    "id": "-ILo5TON1XlY"
   },
   "source": [
    "|"
   ]
  },
  {
   "cell_type": "markdown",
   "metadata": {
    "id": "kpYVH_Hu1XyL"
   },
   "source": [
    "|"
   ]
  },
  {
   "cell_type": "markdown",
   "metadata": {
    "id": "Qbz8Onu41X_z"
   },
   "source": [
    "|"
   ]
  },
  {
   "cell_type": "markdown",
   "metadata": {
    "id": "5wHtSUYE1YMk"
   },
   "source": [
    "|"
   ]
  },
  {
   "cell_type": "markdown",
   "metadata": {
    "id": "rdD8rEEn1YaI"
   },
   "source": [
    "|"
   ]
  },
  {
   "cell_type": "markdown",
   "metadata": {
    "id": "Zm0gETiT1Yos"
   },
   "source": [
    "|"
   ]
  },
  {
   "cell_type": "markdown",
   "metadata": {
    "id": "_SHITu-V1Y2Q"
   },
   "source": [
    "|"
   ]
  },
  {
   "cell_type": "markdown",
   "metadata": {
    "id": "xLfnIjce1ZDp"
   },
   "source": [
    "|"
   ]
  },
  {
   "cell_type": "markdown",
   "metadata": {
    "id": "1G-MK1Bj1ZQa"
   },
   "source": [
    "## Ответы для самостоятельной проверки"
   ]
  },
  {
   "cell_type": "markdown",
   "metadata": {
    "id": "4nedXzCZ1jpT"
   },
   "source": [
    "### 1. MSE"
   ]
  },
  {
   "cell_type": "code",
   "execution_count": null,
   "metadata": {
    "colab": {
     "base_uri": "https://localhost:8080/"
    },
    "executionInfo": {
     "elapsed": 6,
     "status": "ok",
     "timestamp": 1651425476311,
     "user": {
      "displayName": "Маргарита Широбокова",
      "userId": "15867443346324107010"
     },
     "user_tz": -240
    },
    "id": "0ur7yFFj1i8n",
    "outputId": "d8df9ca1-edc5-4b96-e923-a19199cc4287"
   },
   "outputs": [
    {
     "data": {
      "text/plain": [
       "array([1.02976172])"
      ]
     },
     "execution_count": 11,
     "metadata": {},
     "output_type": "execute_result"
    }
   ],
   "source": [
    "sum((y-y_pred)**2)/len(y)"
   ]
  },
  {
   "cell_type": "code",
   "execution_count": null,
   "metadata": {
    "colab": {
     "base_uri": "https://localhost:8080/"
    },
    "executionInfo": {
     "elapsed": 586,
     "status": "ok",
     "timestamp": 1651425476894,
     "user": {
      "displayName": "Маргарита Широбокова",
      "userId": "15867443346324107010"
     },
     "user_tz": -240
    },
    "id": "-Sdbn1QZ1gQA",
    "outputId": "1f3a8b1e-35ea-44ae-ceb0-517ee52166ca"
   },
   "outputs": [
    {
     "data": {
      "text/plain": [
       "1.0297617241074741"
      ]
     },
     "execution_count": 12,
     "metadata": {},
     "output_type": "execute_result"
    }
   ],
   "source": [
    "from sklearn.metrics import mean_squared_error\n",
    "\n",
    "mean_squared_error(y,y_pred)"
   ]
  },
  {
   "cell_type": "markdown",
   "metadata": {
    "id": "Ld9s-3-u2PmJ"
   },
   "source": [
    "### 2. RMSE"
   ]
  },
  {
   "cell_type": "code",
   "execution_count": null,
   "metadata": {
    "colab": {
     "base_uri": "https://localhost:8080/"
    },
    "executionInfo": {
     "elapsed": 30,
     "status": "ok",
     "timestamp": 1651425476895,
     "user": {
      "displayName": "Маргарита Широбокова",
      "userId": "15867443346324107010"
     },
     "user_tz": -240
    },
    "id": "zbyGaJvq2T_k",
    "outputId": "47338190-f8e9-41b0-d974-448c4282b674"
   },
   "outputs": [
    {
     "data": {
      "text/plain": [
       "array([1.01477176])"
      ]
     },
     "execution_count": 13,
     "metadata": {},
     "output_type": "execute_result"
    }
   ],
   "source": [
    "mse = sum((y-y_pred)**2)/len(y)\n",
    "np.sqrt(mse)"
   ]
  },
  {
   "cell_type": "code",
   "execution_count": null,
   "metadata": {
    "colab": {
     "base_uri": "https://localhost:8080/"
    },
    "executionInfo": {
     "elapsed": 23,
     "status": "ok",
     "timestamp": 1651425476895,
     "user": {
      "displayName": "Маргарита Широбокова",
      "userId": "15867443346324107010"
     },
     "user_tz": -240
    },
    "id": "M0iGTveD2UCR",
    "outputId": "e9e81a47-85d7-4606-f132-25a1d774c3be"
   },
   "outputs": [
    {
     "data": {
      "text/plain": [
       "1.0147717596127093"
      ]
     },
     "execution_count": 14,
     "metadata": {},
     "output_type": "execute_result"
    }
   ],
   "source": [
    "np.sqrt(mean_squared_error(y, y_pred))"
   ]
  },
  {
   "cell_type": "markdown",
   "metadata": {
    "id": "fmsXnr5rkO-5"
   },
   "source": [
    "### 3. Пример"
   ]
  },
  {
   "cell_type": "code",
   "execution_count": null,
   "metadata": {
    "colab": {
     "base_uri": "https://localhost:8080/"
    },
    "executionInfo": {
     "elapsed": 18,
     "status": "ok",
     "timestamp": 1651425476895,
     "user": {
      "displayName": "Маргарита Широбокова",
      "userId": "15867443346324107010"
     },
     "user_tz": -240
    },
    "id": "Z91xdvDLkVtC",
    "outputId": "959edc07-2646-44f7-c10b-b8d45074b8c8"
   },
   "outputs": [
    {
     "name": "stdout",
     "output_type": "stream",
     "text": [
      "MAE для y_pred1: 1.5\n",
      "MAE для y_pred2: 2.5\n",
      "MAE для y_pred3: 1.5\n"
     ]
    }
   ],
   "source": [
    "from sklearn.metrics import mean_absolute_error\n",
    "\n",
    "print('MAE для y_pred1:', mean_absolute_error(y_ex2, y_pred1))\n",
    "print('MAE для y_pred2:', mean_absolute_error(y_ex2, y_pred2))\n",
    "print('MAE для y_pred3:', mean_absolute_error(y_ex2, y_pred3))"
   ]
  },
  {
   "cell_type": "code",
   "execution_count": null,
   "metadata": {
    "colab": {
     "base_uri": "https://localhost:8080/"
    },
    "executionInfo": {
     "elapsed": 14,
     "status": "ok",
     "timestamp": 1651425476896,
     "user": {
      "displayName": "Маргарита Широбокова",
      "userId": "15867443346324107010"
     },
     "user_tz": -240
    },
    "id": "XIUE5zmIkSn0",
    "outputId": "016da435-ed64-48e2-bef1-107d15f1415e"
   },
   "outputs": [
    {
     "name": "stdout",
     "output_type": "stream",
     "text": [
      "MSE для y_pred1: 3.5\n",
      "MSE для y_pred2: 7.0\n",
      "MSE для y_pred3: 9.0\n"
     ]
    }
   ],
   "source": [
    "print('MSE для y_pred1:', mean_squared_error(y_ex2, y_pred1))\n",
    "print('MSE для y_pred2:', mean_squared_error(y_ex2, y_pred2))\n",
    "print('MSE для y_pred3:', mean_squared_error(y_ex2, y_pred3))"
   ]
  },
  {
   "cell_type": "code",
   "execution_count": null,
   "metadata": {
    "colab": {
     "base_uri": "https://localhost:8080/"
    },
    "executionInfo": {
     "elapsed": 9,
     "status": "ok",
     "timestamp": 1651425476896,
     "user": {
      "displayName": "Маргарита Широбокова",
      "userId": "15867443346324107010"
     },
     "user_tz": -240
    },
    "id": "plJNYBUMkzk3",
    "outputId": "e8f901b4-2e91-42e6-c6f0-c0a8619fead8"
   },
   "outputs": [
    {
     "name": "stdout",
     "output_type": "stream",
     "text": [
      "RMSE для y_pred1: 1.8708286933869707\n",
      "RMSE для y_pred2: 2.6457513110645907\n",
      "RMSE для y_pred3: 3.0\n"
     ]
    }
   ],
   "source": [
    "print('RMSE для y_pred1:', np.sqrt(mean_squared_error(y_ex2, y_pred1)))\n",
    "print('RMSE для y_pred2:', np.sqrt(mean_squared_error(y_ex2, y_pred2)))\n",
    "print('RMSE для y_pred3:', np.sqrt(mean_squared_error(y_ex2, y_pred3)))"
   ]
  },
  {
   "cell_type": "markdown",
   "metadata": {
    "id": "rfVT3luJnXNU"
   },
   "source": [
    "Таким образом, наблюдаем, что для ситуации 4-й точки `x=4, y=10`, которая не лежит на прямой с остальными точками:\n",
    "- ошибки MSE и RMSE принимают значения для `y_pred3` выше, чем `y_pred1`\n",
    "- ошибка MAE  для `y_pred3` и `y_pred1` одинакова.\n",
    "\n",
    "Будьте внимательны далее при использовании метрик!"
   ]
  }
 ],
 "metadata": {
  "colab": {
   "collapsed_sections": [],
   "name": "4. Практика.ipynb",
   "provenance": []
  },
  "kernelspec": {
   "display_name": "Python 3 (ipykernel)",
   "language": "python",
   "name": "python3"
  },
  "language_info": {
   "codemirror_mode": {
    "name": "ipython",
    "version": 3
   },
   "file_extension": ".py",
   "mimetype": "text/x-python",
   "name": "python",
   "nbconvert_exporter": "python",
   "pygments_lexer": "ipython3",
   "version": "3.10.9"
  }
 },
 "nbformat": 4,
 "nbformat_minor": 1
}
