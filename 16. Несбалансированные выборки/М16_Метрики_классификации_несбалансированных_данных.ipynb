{
  "nbformat": 4,
  "nbformat_minor": 0,
  "metadata": {
    "colab": {
      "provenance": []
    },
    "kernelspec": {
      "name": "python3",
      "display_name": "Python 3"
    },
    "language_info": {
      "name": "python"
    },
    "gpuClass": "standard"
  },
  "cells": [
    {
      "cell_type": "markdown",
      "source": [
        "# Модуль 16. Метрики классификации несбалансированных данных"
      ],
      "metadata": {
        "id": "GZJBt9-o-hqL"
      }
    },
    {
      "cell_type": "markdown",
      "source": [
        "## Вводная часть\n",
        "\n",
        "Поздравляем! Вы завершаете модуль «Несбалансированные данные» курса Machine Learning Engineer уровня Junior! В этом материале вы разберёте особенности использования различных метрик классификации при работе с несбалансированными данными.\n",
        "Они дадут представление о преимуществах и недостатках различных метрик, а также помогут закрепить навыки работы с данными такого типа. \n",
        "\n"
      ],
      "metadata": {
        "id": "i6bZqaQm-rcI"
      }
    },
    {
      "cell_type": "markdown",
      "source": [
        "## Почему качество классификации несбалансированных данных трудно оценить \n",
        "\n",
        "Несбалансированные данные могут влиять на определение оценки производительности моделей классификации. Модель может казаться достаточно точной при предсказании меток мажорного класса (например, accuracy), но она в целом будет плохо работать. Это означает, что к выбору метрики стоит подходить очень внимательно.\n",
        "\n",
        "Рассмотрим проблему в работе модели на примере задачи классификации датасета, таргет которого содержит 10 000 отрицательных и 100 положительных меток:\n"
      ],
      "metadata": {
        "id": "GfNpLtWP-o9R"
      }
    },
    {
      "cell_type": "code",
      "execution_count": null,
      "metadata": {
        "colab": {
          "base_uri": "https://localhost:8080/"
        },
        "id": "eRvqy4zu-bCO",
        "outputId": "d0203f28-bb26-45df-c078-1fb197f67bab"
      },
      "outputs": [
        {
          "output_type": "stream",
          "name": "stdout",
          "text": [
            "[0. 0. 0. 1. 0. 0. 0. 0. 0. 0.]\n"
          ]
        }
      ],
      "source": [
        "import numpy as np\n",
        "import pandas as pd\n",
        "np.random.seed(1)\n",
        "\n",
        "# Сгенерируем истинные метки таргета\n",
        "y = np.hstack((np.zeros((10000,)), np.ones((100,))))\n",
        "np.random.shuffle(y)\n",
        "\n",
        "# Выведем на экран первые 10 меток таргета\n",
        "print(y[:10])"
      ]
    },
    {
      "cell_type": "markdown",
      "source": [
        "Представим, что вы обучили модель классификации, которая для таргета выдаёт следующие оценки вероятности позитивного класса:\n"
      ],
      "metadata": {
        "id": "pg_7msS4A0QA"
      }
    },
    {
      "cell_type": "code",
      "source": [
        "# Сгенерируем оценки вероятности позитивного класса\n",
        "y_proba = np.random.uniform(0.1,0.51,10100)\n",
        "\n",
        "# На их основе определим предсказанные метки классов\n",
        "y_pred = np.where(y_proba > 0.5, 1, 0)\n",
        "\n",
        "#Добавим истинные метки классов, оценки вероятности и предсказанные метки классов в один датасет\n",
        "df = pd.DataFrame(data=np.array((y, y_proba, y_pred)).T, columns=['y_true', 'y_proba', 'y_pred'])\n",
        "df.head()"
      ],
      "metadata": {
        "colab": {
          "base_uri": "https://localhost:8080/",
          "height": 204
        },
        "id": "ObqD4zAH_80x",
        "outputId": "4e1e0995-70b2-4abc-ee3a-795ad9d95915"
      },
      "execution_count": null,
      "outputs": [
        {
          "output_type": "execute_result",
          "data": {
            "text/plain": [
              "   y_true   y_proba  y_pred\n",
              "0     0.0  0.210127     0.0\n",
              "1     0.0  0.338580     0.0\n",
              "2     0.0  0.170399     0.0\n",
              "3     1.0  0.494552     0.0\n",
              "4     0.0  0.323127     0.0"
            ],
            "text/html": [
              "\n",
              "  <div id=\"df-499e4ef5-04e0-49f9-8268-7ef56645827c\">\n",
              "    <div class=\"colab-df-container\">\n",
              "      <div>\n",
              "<style scoped>\n",
              "    .dataframe tbody tr th:only-of-type {\n",
              "        vertical-align: middle;\n",
              "    }\n",
              "\n",
              "    .dataframe tbody tr th {\n",
              "        vertical-align: top;\n",
              "    }\n",
              "\n",
              "    .dataframe thead th {\n",
              "        text-align: right;\n",
              "    }\n",
              "</style>\n",
              "<table border=\"1\" class=\"dataframe\">\n",
              "  <thead>\n",
              "    <tr style=\"text-align: right;\">\n",
              "      <th></th>\n",
              "      <th>y_true</th>\n",
              "      <th>y_proba</th>\n",
              "      <th>y_pred</th>\n",
              "    </tr>\n",
              "  </thead>\n",
              "  <tbody>\n",
              "    <tr>\n",
              "      <th>0</th>\n",
              "      <td>0.0</td>\n",
              "      <td>0.210127</td>\n",
              "      <td>0.0</td>\n",
              "    </tr>\n",
              "    <tr>\n",
              "      <th>1</th>\n",
              "      <td>0.0</td>\n",
              "      <td>0.338580</td>\n",
              "      <td>0.0</td>\n",
              "    </tr>\n",
              "    <tr>\n",
              "      <th>2</th>\n",
              "      <td>0.0</td>\n",
              "      <td>0.170399</td>\n",
              "      <td>0.0</td>\n",
              "    </tr>\n",
              "    <tr>\n",
              "      <th>3</th>\n",
              "      <td>1.0</td>\n",
              "      <td>0.494552</td>\n",
              "      <td>0.0</td>\n",
              "    </tr>\n",
              "    <tr>\n",
              "      <th>4</th>\n",
              "      <td>0.0</td>\n",
              "      <td>0.323127</td>\n",
              "      <td>0.0</td>\n",
              "    </tr>\n",
              "  </tbody>\n",
              "</table>\n",
              "</div>\n",
              "      <button class=\"colab-df-convert\" onclick=\"convertToInteractive('df-499e4ef5-04e0-49f9-8268-7ef56645827c')\"\n",
              "              title=\"Convert this dataframe to an interactive table.\"\n",
              "              style=\"display:none;\">\n",
              "        \n",
              "  <svg xmlns=\"http://www.w3.org/2000/svg\" height=\"24px\"viewBox=\"0 0 24 24\"\n",
              "       width=\"24px\">\n",
              "    <path d=\"M0 0h24v24H0V0z\" fill=\"none\"/>\n",
              "    <path d=\"M18.56 5.44l.94 2.06.94-2.06 2.06-.94-2.06-.94-.94-2.06-.94 2.06-2.06.94zm-11 1L8.5 8.5l.94-2.06 2.06-.94-2.06-.94L8.5 2.5l-.94 2.06-2.06.94zm10 10l.94 2.06.94-2.06 2.06-.94-2.06-.94-.94-2.06-.94 2.06-2.06.94z\"/><path d=\"M17.41 7.96l-1.37-1.37c-.4-.4-.92-.59-1.43-.59-.52 0-1.04.2-1.43.59L10.3 9.45l-7.72 7.72c-.78.78-.78 2.05 0 2.83L4 21.41c.39.39.9.59 1.41.59.51 0 1.02-.2 1.41-.59l7.78-7.78 2.81-2.81c.8-.78.8-2.07 0-2.86zM5.41 20L4 18.59l7.72-7.72 1.47 1.35L5.41 20z\"/>\n",
              "  </svg>\n",
              "      </button>\n",
              "      \n",
              "  <style>\n",
              "    .colab-df-container {\n",
              "      display:flex;\n",
              "      flex-wrap:wrap;\n",
              "      gap: 12px;\n",
              "    }\n",
              "\n",
              "    .colab-df-convert {\n",
              "      background-color: #E8F0FE;\n",
              "      border: none;\n",
              "      border-radius: 50%;\n",
              "      cursor: pointer;\n",
              "      display: none;\n",
              "      fill: #1967D2;\n",
              "      height: 32px;\n",
              "      padding: 0 0 0 0;\n",
              "      width: 32px;\n",
              "    }\n",
              "\n",
              "    .colab-df-convert:hover {\n",
              "      background-color: #E2EBFA;\n",
              "      box-shadow: 0px 1px 2px rgba(60, 64, 67, 0.3), 0px 1px 3px 1px rgba(60, 64, 67, 0.15);\n",
              "      fill: #174EA6;\n",
              "    }\n",
              "\n",
              "    [theme=dark] .colab-df-convert {\n",
              "      background-color: #3B4455;\n",
              "      fill: #D2E3FC;\n",
              "    }\n",
              "\n",
              "    [theme=dark] .colab-df-convert:hover {\n",
              "      background-color: #434B5C;\n",
              "      box-shadow: 0px 1px 3px 1px rgba(0, 0, 0, 0.15);\n",
              "      filter: drop-shadow(0px 1px 2px rgba(0, 0, 0, 0.3));\n",
              "      fill: #FFFFFF;\n",
              "    }\n",
              "  </style>\n",
              "\n",
              "      <script>\n",
              "        const buttonEl =\n",
              "          document.querySelector('#df-499e4ef5-04e0-49f9-8268-7ef56645827c button.colab-df-convert');\n",
              "        buttonEl.style.display =\n",
              "          google.colab.kernel.accessAllowed ? 'block' : 'none';\n",
              "\n",
              "        async function convertToInteractive(key) {\n",
              "          const element = document.querySelector('#df-499e4ef5-04e0-49f9-8268-7ef56645827c');\n",
              "          const dataTable =\n",
              "            await google.colab.kernel.invokeFunction('convertToInteractive',\n",
              "                                                     [key], {});\n",
              "          if (!dataTable) return;\n",
              "\n",
              "          const docLinkHtml = 'Like what you see? Visit the ' +\n",
              "            '<a target=\"_blank\" href=https://colab.research.google.com/notebooks/data_table.ipynb>data table notebook</a>'\n",
              "            + ' to learn more about interactive tables.';\n",
              "          element.innerHTML = '';\n",
              "          dataTable['output_type'] = 'display_data';\n",
              "          await google.colab.output.renderOutput(dataTable, element);\n",
              "          const docLink = document.createElement('div');\n",
              "          docLink.innerHTML = docLinkHtml;\n",
              "          element.appendChild(docLink);\n",
              "        }\n",
              "      </script>\n",
              "    </div>\n",
              "  </div>\n",
              "  "
            ]
          },
          "metadata": {},
          "execution_count": 33
        }
      ]
    },
    {
      "cell_type": "markdown",
      "source": [
        "Посмотрим на confusion_matrix и на её основе рассчитаем основные метрики классификации, оценим качество предсказаний:"
      ],
      "metadata": {
        "id": "DCyRNxIdHJUI"
      }
    },
    {
      "cell_type": "code",
      "source": [
        "from sklearn.metrics import confusion_matrix, ConfusionMatrixDisplay\n",
        "import matplotlib.pyplot as plt\n",
        "\n",
        "cm = confusion_matrix(y, y_pred)\n",
        "disp = ConfusionMatrixDisplay(confusion_matrix=cm)\n",
        "disp.plot(cmap=plt.cm.Blues)"
      ],
      "metadata": {
        "colab": {
          "base_uri": "https://localhost:8080/",
          "height": 296
        },
        "id": "RwnG1JfIGGvN",
        "outputId": "3bf87836-1f41-4881-c585-2237b06d9c54"
      },
      "execution_count": null,
      "outputs": [
        {
          "output_type": "execute_result",
          "data": {
            "text/plain": [
              "<sklearn.metrics._plot.confusion_matrix.ConfusionMatrixDisplay at 0x7efe298fcd60>"
            ]
          },
          "metadata": {},
          "execution_count": 34
        },
        {
          "output_type": "display_data",
          "data": {
            "text/plain": [
              "<Figure size 432x288 with 2 Axes>"
            ],
            "image/png": "[encoded data removed]"
          },
          "metadata": {
            "needs_background": "light"
          }
        }
      ]
    },
    {
      "cell_type": "code",
      "source": [
        "from sklearn.metrics import accuracy_score, precision_score, recall_score\n",
        "\n",
        "print(f'Accuracy score: {accuracy_score(y, y_pred)}')\n",
        "print(f'Precison: {precision_score(y, y_pred)}')\n",
        "print(f'Recall: {recall_score(y, y_pred)}')"
      ],
      "metadata": {
        "colab": {
          "base_uri": "https://localhost:8080/"
        },
        "id": "3pQQQ_eKIB75",
        "outputId": "70db6ab6-7172-41a5-e5f3-34fa978bde73"
      },
      "execution_count": null,
      "outputs": [
        {
          "output_type": "stream",
          "name": "stdout",
          "text": [
            "Accuracy score: 0.9669306930693069\n",
            "Precison: 0.008403361344537815\n",
            "Recall: 0.02\n"
          ]
        }
      ]
    },
    {
      "cell_type": "markdown",
      "source": [
        "Accuracy модели имеет достаточно высокое значение — 0.97, потому что большая часть точек данных негативного класса была классифицирована правильно. Однако, обратите внимание на нижнюю строчку матрицы: из 100 точек данных позитивного класса только две были классифицированы корректно! Иными словами, recall нашей модели — всего 0.02. Более того, precision модели также очень низок: из 238 точек данных, которые были предсказаны как позитивный класс, только две представляют позитивный класс. \n",
        "\n",
        "Таким образом, в случае сильно несбалансированных данных, accuracy является очень опасной и ошибочной метрикой. Если бы в примере вывод о модели был сделан только на основе accuracy, была бы одобрена плохо работающая модель. Precision и recall, напротив, дают достаточно полную характеристику, от этого точность модели в классификации объектов минорного класса намного выше. Поскольку в несбалансированных данных минорный класс обычно имеет большую важность, чем мажорный, ошибки в классификации минорного класса являются более критичными."
      ],
      "metadata": {
        "id": "t8QPYZ58ufsT"
      }
    },
    {
      "cell_type": "markdown",
      "source": [
        "## За какими метриками нужно следить во время обучения модели\n",
        "\n",
        "В предыдущем разделе вы увидели, что precision и recall дают достаточное представление о качестве модели. Сложность использования этих метрик в том, что мониторить и сравнивать обе часто неудобно. Поэтому давайте рассмотрим ещё две распространённые метрики классификации: $F_1$-score и ROC AUC. Посчитаем их для предсказания нашей модели:"
      ],
      "metadata": {
        "id": "IIRhhmKD19Tr"
      }
    },
    {
      "cell_type": "code",
      "source": [
        "from sklearn.metrics import f1_score, roc_auc_score\n",
        "\n",
        "print(f'ROC AUC score: {roc_auc_score(y, y_proba)}')\n",
        "print(f'F1-score: {f1_score(y, y_pred)}')"
      ],
      "metadata": {
        "colab": {
          "base_uri": "https://localhost:8080/"
        },
        "id": "8hZ8V07diiUT",
        "outputId": "2f22599b-0367-409d-b542-c8f51ea77791"
      },
      "execution_count": null,
      "outputs": [
        {
          "output_type": "stream",
          "name": "stdout",
          "text": [
            "ROC AUC score: 0.45053\n",
            "F1-score: 0.011834319526627219\n"
          ]
        }
      ]
    },
    {
      "cell_type": "markdown",
      "source": [
        "Получился неожиданный ROC AUC — меньше 0.5. Это говорит о том, что в процессе обучения могли возникнуть ошибки или проблемы. Тем не менее величина этой метрики, близкая к 0.5, свидетельствует о том, что классификатор испытывает трудности в разделении позитивных и негативных точек данных и упускает из вида более общую картину: мажорный и минорный классы не равнозначны и минорный класс представляет большую ценность. \n",
        "С другой стороны, $F_1$-score, являясь средним гармоническим между precision и recall, совмещая в себе эти две метрики, хорошо показывает производительность модели в более важном для нас классе. \n"
      ],
      "metadata": {
        "id": "izCmnpw48gfS"
      }
    },
    {
      "cell_type": "markdown",
      "source": [
        "## Как выбрать метрику, если одни ошибки критичнее других\n",
        "\n",
        "\n",
        "У $F_1$-score есть свои недостатки. Часто в задачах, связанных с несбалансированными данными, не только классы, но и различные ошибки классификации (False Positive и False Negative) имеют разную ценность. Например, при обнаружении мошеннических платежей ошибки False Negative обычно важнее ошибок False Positive — последствия одобренного мошенничества страшнее, чем отклонённый добросовестный платёж. Иными словами, recall в этом случае важнее, чем precision. При этом нельзя фокусироваться только на recall, в противном случае модель будет помечать все платежи как мошеннические и получит recall, равный 1.\n",
        "\n",
        "Напротив, если нужно предсказать необходимость химиотерапии, то последствия ошибки False Positive очень опасны, ведь химиотерапия, назначенная здоровому пациенту, сильно ему навредит. В этом случае precision важнее, чем recall.\n",
        "\n",
        "Как видите, критичность ошибок зависит от решаемой задачи. Обычный \n",
        "𝐹1-score не делает различий между False Positive и False Negative, поэтому нужно использовать другие метрики, если ошибки могут быть разными по важности.\n",
        "\n",
        "Эти метрики можно вывести из более общей метрики $F_{\\beta}$-score, которая определяется по следующей формуле:\n",
        "\n",
        "$$\n",
        "F_{\\beta} = (1 + {\\beta}^2) \\cdot \\frac{P \\cdot R}{{\\beta}^2\\cdot P + R},\n",
        "$$\n",
        "\n",
        "где P - precision, R - recall модели. Если в эту формулу вместо $\\beta$ подставить 1, то получится формула $F_1$-score (поэтому эта метрика так и называется). В $F_1$-score precision и recall (а, следовательно, ошибки false positive и false negative) имеют равную важность. \n",
        "\n",
        "Однако можно варьировать $\\beta$:\n",
        "* Если задать $\\beta > 1$, то в этом случае __recall важнее, чем precision__. В этой ситуации часто используют значение $\\beta = 2$, которое дает метрику __$F_2$-score__\n",
        "* Напротив, если нужно подчеркнуть, что __precision важнее, чем recall__, используют ${\\beta} < 0$. Обычно используют значение $\\beta = \\frac{1}{2}$, которое дает метрику __$F_{\\frac{1}{2}}$-score__.\n",
        "\n",
        "Рассчитаем эти метрики для предсказаний нашей модели:\n"
      ],
      "metadata": {
        "id": "nY4DXaIiAlp-"
      }
    },
    {
      "cell_type": "code",
      "source": [
        "from sklearn.metrics import fbeta_score\n",
        "\n",
        "\n",
        "print(f'F2-score: {fbeta_score(y, y_pred, beta=2)}')\n",
        "print(f'F(1/2)-score: {fbeta_score(y, y_pred, beta=0.5)}')"
      ],
      "metadata": {
        "id": "cYokCWIt3y0x",
        "colab": {
          "base_uri": "https://localhost:8080/"
        },
        "outputId": "e576bef4-2ba9-4418-da0c-9850a6b2bfa0"
      },
      "execution_count": null,
      "outputs": [
        {
          "output_type": "stream",
          "name": "stdout",
          "text": [
            "F2-score: 0.01567398119122257\n",
            "F(1/2)-score: 0.009505703422053232\n"
          ]
        }
      ]
    },
    {
      "cell_type": "markdown",
      "source": [
        "Как видите, метрики $F_1$-, $F_2$- и $F_{\\frac{1}{2}}$-score имеют разные значения. Выбор одной из них для мониторинга и сравнения моделей напрямую зависит от задачи и цены той или иной ошибки."
      ],
      "metadata": {
        "id": "5s_97VdpHrAa"
      }
    },
    {
      "cell_type": "markdown",
      "source": [
        "## Выводы\n",
        "\n",
        "В этом материале вы рассмотрели поведение основных метрик классификации на примере несбалансированных данных и сделали следующие выводы:\n",
        "- Accuracy часто даёт неверные (завышенные) предсказания о качестве модели при несбалансированных данных.\n",
        "- Precision и recall являются достаточно хорошими метриками, если минорный класс важнее.\n",
        "- ROC AUC не учитывает, что минорный класс обычно важнее, чем мажорный.\n",
        "- $F_1$-score яявляется хорошей метрикой, если ошибки False Positive и False Negative одинаково критичны.\n",
        "- $F_2$-score и $F_{\\frac{1}{2}}$-score позволяют сместить фокус на ошибки False Negative и False Positive соответственно.\n",
        "\n",
        "До встречи!"
      ],
      "metadata": {
        "id": "W9rokShdIQNp"
      }
    }
  ]
}