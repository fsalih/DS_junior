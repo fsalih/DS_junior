{
 "cells": [
  {
   "cell_type": "markdown",
   "metadata": {
    "id": "wGUh9-kKDVk_"
   },
   "source": [
    "# Стохастический градиентный спуск для обучения логистической регрессии. Практика\n",
    "\n",
    "В этом практическом задании предлагаем вам обучить логистическую регрессию методом стохастического градиентного спуска, причём реализовать все шаги самостоятельно, без использования готовых моделей из библиотек Python."
   ]
  },
  {
   "cell_type": "markdown",
   "metadata": {
    "id": "RS-i_3wQqtxS"
   },
   "source": [
    "## Цели практической работы\n",
    "\n",
    "* Разобраться, как реализовывать log-loss в Python.\n",
    "* Научиться вычислять градиент log-loss.\n",
    "* Потренироваться обучать модель логистической регрессии с помощью метода стохастического градиентного спуска."
   ]
  },
  {
   "cell_type": "markdown",
   "metadata": {
    "id": "4Uo9gVtsqbJX"
   },
   "source": [
    "## Что входит в работу\n",
    "\n",
    "* Реализовать функцию для вычисления log-loss.\n",
    "* Вычислить градиент log-loss.\n",
    "* Реализовать стохастический градиентный спуск для обучения логистической регрессии.\n",
    "* Проверить написанный алгоритм для обучения логистической регрессии на модельном наборе данных."
   ]
  },
  {
   "cell_type": "markdown",
   "metadata": {
    "id": "9WSnh3hKrFZX"
   },
   "source": [
    "### Как выполнить задание\n",
    "\n",
    "*  Заполните все требуемые ячейки, потом сверьтесь с ответами ниже. Обратите внимание: задание не нужно сдавать на проверку. \n",
    "\n"
   ]
  },
  {
   "cell_type": "markdown",
   "metadata": {
    "id": "Tb-5iUrybT-m"
   },
   "source": [
    "В этом задании будем практиковаться на данных о давлении пациентов. Столбцы в используемой таблице:\n",
    "*  DBP,  SBP — нормализованные и приведённые к общей шкале показатели давления человека;\n",
    "*  target — целевая переменная, показывающая, болен человек или нет (болезнь такова, что определяется по показателям давления).\n",
    "\n",
    "У нас не будет новых данных. Наша цель — построить модель, хорошо объясняющую имеющиеся данные. Поэтому делить данные на части мы не будем, а будем обучать метод на всех данных и на всех данных его проверять."
   ]
  },
  {
   "cell_type": "code",
   "execution_count": 1,
   "metadata": {
    "colab": {
     "base_uri": "https://localhost:8080/",
     "height": 206
    },
    "executionInfo": {
     "elapsed": 356,
     "status": "ok",
     "timestamp": 1663848200793,
     "user": {
      "displayName": "Improvement center",
      "userId": "14220920730128292155"
     },
     "user_tz": -180
    },
    "id": "e6hYQKiiGpFq",
    "outputId": "677a0c2d-7f55-4c46-de29-7a0099878799"
   },
   "outputs": [
    {
     "data": {
      "text/html": [
       "<div>\n",
       "<style scoped>\n",
       "    .dataframe tbody tr th:only-of-type {\n",
       "        vertical-align: middle;\n",
       "    }\n",
       "\n",
       "    .dataframe tbody tr th {\n",
       "        vertical-align: top;\n",
       "    }\n",
       "\n",
       "    .dataframe thead th {\n",
       "        text-align: right;\n",
       "    }\n",
       "</style>\n",
       "<table border=\"1\" class=\"dataframe\">\n",
       "  <thead>\n",
       "    <tr style=\"text-align: right;\">\n",
       "      <th></th>\n",
       "      <th>SBP</th>\n",
       "      <th>DBP</th>\n",
       "      <th>target</th>\n",
       "    </tr>\n",
       "  </thead>\n",
       "  <tbody>\n",
       "    <tr>\n",
       "      <th>0</th>\n",
       "      <td>0.943625</td>\n",
       "      <td>-0.679783</td>\n",
       "      <td>1</td>\n",
       "    </tr>\n",
       "    <tr>\n",
       "      <th>1</th>\n",
       "      <td>-0.868018</td>\n",
       "      <td>-0.253922</td>\n",
       "      <td>0</td>\n",
       "    </tr>\n",
       "    <tr>\n",
       "      <th>2</th>\n",
       "      <td>-1.767471</td>\n",
       "      <td>-0.999924</td>\n",
       "      <td>0</td>\n",
       "    </tr>\n",
       "    <tr>\n",
       "      <th>3</th>\n",
       "      <td>0.572276</td>\n",
       "      <td>0.394579</td>\n",
       "      <td>1</td>\n",
       "    </tr>\n",
       "    <tr>\n",
       "      <th>4</th>\n",
       "      <td>-1.436026</td>\n",
       "      <td>-1.307645</td>\n",
       "      <td>0</td>\n",
       "    </tr>\n",
       "  </tbody>\n",
       "</table>\n",
       "</div>"
      ],
      "text/plain": [
       "        SBP       DBP  target\n",
       "0  0.943625 -0.679783       1\n",
       "1 -0.868018 -0.253922       0\n",
       "2 -1.767471 -0.999924       0\n",
       "3  0.572276  0.394579       1\n",
       "4 -1.436026 -1.307645       0"
      ]
     },
     "execution_count": 1,
     "metadata": {},
     "output_type": "execute_result"
    }
   ],
   "source": [
    "import random\n",
    "import pandas as pd\n",
    "import matplotlib.pyplot as plt\n",
    "import numpy as np\n",
    "import seaborn as sns\n",
    "%matplotlib inline\n",
    "\n",
    "df = pd.read_csv(\"BloodPressure.csv\")\n",
    "\n",
    "df.head()"
   ]
  },
  {
   "cell_type": "markdown",
   "metadata": {
    "id": "AzbeKE-hFQxK"
   },
   "source": [
    "Выделим матрицу «объект — признак» и вектор с целевой переменной из таблицы."
   ]
  },
  {
   "cell_type": "code",
   "execution_count": 79,
   "metadata": {
    "id": "DtWp83LNDwax"
   },
   "outputs": [],
   "source": [
    "X = df[['SBP','DBP']]\n",
    "y = df['target']"
   ]
  },
  {
   "cell_type": "code",
   "execution_count": 19,
   "metadata": {},
   "outputs": [
    {
     "name": "stdout",
     "output_type": "stream",
     "text": [
      "<class 'pandas.core.frame.DataFrame'>\n",
      "RangeIndex: 500 entries, 0 to 499\n",
      "Data columns (total 2 columns):\n",
      " #   Column  Non-Null Count  Dtype  \n",
      "---  ------  --------------  -----  \n",
      " 0   SBP     500 non-null    float64\n",
      " 1   DBP     500 non-null    float64\n",
      "dtypes: float64(2)\n",
      "memory usage: 7.9 KB\n"
     ]
    }
   ],
   "source": [
    "X.info()"
   ]
  },
  {
   "cell_type": "markdown",
   "metadata": {
    "id": "kIrrLRxSFh1U"
   },
   "source": [
    "Для оценки качества моделей в этой задаче предложено использовать метрику accuracy (доля правильных ответов модели). Можем ли мы использовать эту метрику?\n",
    "\n",
    "Выведите ниже долю объектов каждого класса (долю 0 и долю 1) и сделайте вывод о корректности использования accuracy."
   ]
  },
  {
   "cell_type": "code",
   "execution_count": 3,
   "metadata": {
    "id": "K1l23IH5FyO-"
   },
   "outputs": [
    {
     "data": {
      "text/plain": [
       "target\n",
       "0    254\n",
       "1    246\n",
       "Name: count, dtype: int64"
      ]
     },
     "execution_count": 3,
     "metadata": {},
     "output_type": "execute_result"
    }
   ],
   "source": [
    "# ваш код здесь\n",
    "y.value_counts()"
   ]
  },
  {
   "cell_type": "code",
   "execution_count": null,
   "metadata": {
    "id": "stLJWOE8F1Sk"
   },
   "outputs": [],
   "source": [
    "# ваш вывод здесь"
   ]
  },
  {
   "cell_type": "markdown",
   "metadata": {
    "id": "1YJ9cqoYG-N3"
   },
   "source": [
    "Напишите функцию для вычисления сигмоиды."
   ]
  },
  {
   "cell_type": "code",
   "execution_count": 49,
   "metadata": {
    "id": "1MAzf0VF-qfK"
   },
   "outputs": [],
   "source": [
    "def sigmoid(x):\n",
    "    # ваш код здесь\n",
    "    return 1/(1+np.exp(-x))"
   ]
  },
  {
   "cell_type": "code",
   "execution_count": 50,
   "metadata": {},
   "outputs": [
    {
     "data": {
      "text/plain": [
       "0.5"
      ]
     },
     "execution_count": 50,
     "metadata": {},
     "output_type": "execute_result"
    }
   ],
   "source": [
    "sigmoid(0)"
   ]
  },
  {
   "cell_type": "markdown",
   "metadata": {
    "id": "WxZKmadvAkDP"
   },
   "source": [
    "Напишите функцию для вычисления функции потерь логистической регрессии (log-loss) по аналогии с тем, как выглядит функция потерь (MSE) для линейной регрессии из предыдущего ноутбука."
   ]
  },
  {
   "cell_type": "code",
   "execution_count": 119,
   "metadata": {
    "id": "i0adJQpv-tw2"
   },
   "outputs": [],
   "source": [
    "def compute_cost(X, y, theta):\n",
    "    # ваш код здесь\n",
    "    n = len(y)\n",
    "    yp = sigmoid(X @ theta)\n",
    "    return -1/n * (y.T @ np.log(yp) + (1-y).T @ np.log(1-yp)) "
   ]
  },
  {
   "cell_type": "code",
   "execution_count": null,
   "metadata": {},
   "outputs": [],
   "source": [
    "def compute_cost(X, y, theta):\n",
    "    m = len(y)\n",
    "    h = sigmoid(X @ theta)\n",
    "    epsilon = 1e-5\n",
    "    cost = (1/m)*(\n",
    "        (\n",
    "            (-y).T @ np.log(h + epsilon))\n",
    "        -((1-y).T @ np.log(1-h + epsilon)\n",
    "        )\n",
    "    )\n",
    "    return cost"
   ]
  },
  {
   "cell_type": "markdown",
   "metadata": {
    "id": "Cj9DrXzZbOLi"
   },
   "source": [
    "Реализуем стохастический градиентный спуск по формуле\n",
    "\n",
    "$$w_{new} = w_{prev} - \\nabla_w Q(w_{prev},x_i,y_i),$$\n",
    "\n",
    "где \n",
    "*   $\\nabla_w Q(w,x_i,y_i)$ — значение градиента функции потерь (в данном случае log-loss) на объекте $x_i$;\n",
    "*   объект $x_i$ случайным образом выбирается на каждой итерации метода."
   ]
  },
  {
   "cell_type": "markdown",
   "metadata": {
    "id": "2jus26KKsKTz"
   },
   "source": [
    "Реализуйте этот метод для обучения логистической регрессии по аналогии с тем, как мы делали это для обучения линейной регрессии.\n",
    "\n",
    "\n",
    "\n",
    "Единственное, что поменяется, — надо пересчитать градиент функции потерь (так как теперь функция потерь log-loss, а не MSE)."
   ]
  },
  {
   "cell_type": "code",
   "execution_count": 103,
   "metadata": {
    "id": "o-2MOdaRGlbf"
   },
   "outputs": [],
   "source": [
    "def stochastic_gradient_descent(X, y, params, learning_rate, iterations):\n",
    "\n",
    "    # ваш код здесь\n",
    "    X = np.hstack((np.ones((X.shape[0], 1)), X))\n",
    "    \n",
    "    cost_track = np.zeros((iterations, 1))\n",
    "    \n",
    "    for i in range(iterations):\n",
    "        idx = random.sample(range(X.shape[0]), 1)\n",
    "        x = X[idx]        \n",
    "        xp = np.ravel(x @ params)[0]\n",
    "#         print(xp)\n",
    "#         print(y[idx])\n",
    "#         print(x)\n",
    "        step = -(np.ravel(y[idx]) - sigmoid(xp)) * x\n",
    "        params = params - learning_rate*step\n",
    "        params = params.ravel()\n",
    "        cost_track[i] = compute_cost(X, y, params)\n",
    "    return cost_track, params"
   ]
  },
  {
   "cell_type": "markdown",
   "metadata": {
    "id": "R__qZ_ESbQ98"
   },
   "source": [
    "Создайте функцию для получения предсказания модели.\n",
    "\n",
    "По аналогии с функцией для предсказания линейной регрессии добавьте к матрице X единичный столбец."
   ]
  },
  {
   "cell_type": "code",
   "execution_count": 100,
   "metadata": {
    "id": "REpiCGpGaVO6"
   },
   "outputs": [],
   "source": [
    "def predict(X, params):\n",
    "    # ваш код здесь\n",
    "    X = np.hstack((np.ones((X.shape[0], 1)), X))\n",
    "    res = X @ params\n",
    "    res[res >= 0.5] = 1\n",
    "    res[res < 0.5] = 0\n",
    "    return res"
   ]
  },
  {
   "cell_type": "markdown",
   "metadata": {
    "id": "URAbfaMoBsJ3"
   },
   "source": [
    "Создадим начальный вектор параметров (весов) модели и заполним его нулями.\n",
    "\n",
    "Зададим количество итераций стохастического градиентного спуска и градиентный шаг."
   ]
  },
  {
   "cell_type": "code",
   "execution_count": 67,
   "metadata": {
    "id": "YElJly3lCGnT"
   },
   "outputs": [],
   "source": [
    "# params = np.zeros((X.shape[1]+1,1))\n",
    "\n",
    "iterations = 1500\n",
    "learning_rate = 0.03"
   ]
  },
  {
   "cell_type": "markdown",
   "metadata": {
    "id": "8jfQoOQACJil"
   },
   "source": [
    "Обучите модель методом стохастического градиентного спуска (вызовите написанную функцию).\n",
    "\n",
    "Выведите на экран найденный вектор весов и нарисуйте график, отражающий, как убывает ошибка в зависимости от номера итерации (подпишите оси и добавьте название к графику)."
   ]
  },
  {
   "cell_type": "code",
   "execution_count": 120,
   "metadata": {
    "id": "gXIBKtul_ed6"
   },
   "outputs": [],
   "source": [
    "# ваш код здесь\n",
    "params = np.random.rand(X.shape[1]+1)\n",
    "track, wheits = stochastic_gradient_descent(X, y, params, learning_rate, iterations)"
   ]
  },
  {
   "cell_type": "code",
   "execution_count": 121,
   "metadata": {},
   "outputs": [
    {
     "data": {
      "text/plain": [
       "[<matplotlib.lines.Line2D at 0x1f9ad015e40>]"
      ]
     },
     "execution_count": 121,
     "metadata": {},
     "output_type": "execute_result"
    },
    {
     "data": {
      "image/png": "[encoded data removed]",
      "text/plain": [
       "<Figure size 640x480 with 1 Axes>"
      ]
     },
     "metadata": {},
     "output_type": "display_data"
    }
   ],
   "source": [
    "plt.plot(track)"
   ]
  },
  {
   "cell_type": "code",
   "execution_count": 106,
   "metadata": {},
   "outputs": [
    {
     "data": {
      "text/plain": [
       "array([-0.42799901,  3.30660178,  0.10977665])"
      ]
     },
     "execution_count": 106,
     "metadata": {},
     "output_type": "execute_result"
    }
   ],
   "source": [
    "wheits"
   ]
  },
  {
   "cell_type": "markdown",
   "metadata": {
    "id": "yd0oKy44hInR"
   },
   "source": [
    "Сделайте предсказание обученной модели на всех данных X."
   ]
  },
  {
   "cell_type": "code",
   "execution_count": 122,
   "metadata": {
    "id": "y47jeNeehIzk"
   },
   "outputs": [
    {
     "data": {
      "text/plain": [
       "array([1., 0., 0., 1., 0., 0., 1., 0., 1., 0., 0., 0., 1., 0., 0., 1., 0.,\n",
       "       0., 1., 0., 1., 1., 1., 1., 1., 1., 1., 1., 1., 0., 1., 1., 1., 1.,\n",
       "       0., 0., 1., 1., 1., 1., 0., 1., 0., 0., 1., 1., 1., 1., 0., 0., 1.,\n",
       "       0., 1., 1., 0., 0., 1., 1., 1., 0., 1., 0., 0., 1., 0., 1., 0., 1.,\n",
       "       0., 1., 0., 0., 1., 0., 1., 1., 1., 1., 0., 1., 0., 0., 0., 0., 1.,\n",
       "       1., 1., 0., 1., 0., 1., 1., 0., 0., 0., 1., 1., 1., 0., 0., 1., 0.,\n",
       "       1., 1., 1., 1., 0., 0., 0., 1., 0., 1., 0., 1., 1., 0., 0., 1., 0.,\n",
       "       0., 0., 0., 0., 0., 1., 0., 1., 0., 0., 1., 1., 1., 0., 0., 1., 1.,\n",
       "       0., 1., 0., 0., 1., 0., 1., 1., 0., 0., 1., 0., 0., 1., 1., 1., 0.,\n",
       "       1., 0., 0., 1., 1., 1., 1., 0., 0., 1., 1., 1., 1., 0., 0., 0., 1.,\n",
       "       0., 0., 0., 1., 1., 1., 1., 1., 1., 0., 0., 1., 0., 0., 1., 1., 0.,\n",
       "       1., 0., 0., 1., 1., 1., 0., 1., 0., 1., 1., 1., 0., 0., 0., 0., 0.,\n",
       "       0., 1., 1., 1., 1., 1., 0., 0., 0., 0., 0., 1., 1., 1., 1., 1., 1.,\n",
       "       0., 1., 1., 0., 0., 0., 1., 1., 0., 1., 1., 0., 1., 0., 1., 1., 1.,\n",
       "       0., 1., 0., 1., 1., 0., 1., 1., 1., 1., 1., 0., 0., 1., 0., 1., 1.,\n",
       "       1., 1., 0., 0., 1., 0., 0., 0., 1., 1., 1., 0., 0., 0., 1., 1., 0.,\n",
       "       0., 1., 1., 0., 1., 1., 0., 1., 0., 1., 0., 0., 1., 1., 0., 1., 1.,\n",
       "       0., 0., 0., 1., 1., 1., 0., 0., 1., 0., 1., 0., 1., 1., 1., 0., 1.,\n",
       "       0., 1., 0., 1., 0., 0., 0., 1., 0., 0., 1., 1., 1., 0., 0., 1., 1.,\n",
       "       0., 1., 0., 0., 0., 1., 0., 0., 1., 1., 0., 1., 0., 1., 1., 0., 0.,\n",
       "       1., 0., 0., 1., 1., 1., 1., 1., 1., 0., 1., 0., 1., 1., 1., 0., 1.,\n",
       "       1., 1., 1., 0., 0., 1., 1., 1., 0., 1., 1., 0., 1., 0., 0., 1., 1.,\n",
       "       1., 0., 0., 1., 0., 0., 0., 0., 0., 1., 0., 0., 1., 0., 0., 1., 1.,\n",
       "       0., 0., 0., 0., 1., 0., 1., 0., 0., 0., 1., 0., 0., 0., 0., 0., 1.,\n",
       "       0., 1., 0., 1., 1., 1., 1., 1., 1., 0., 0., 0., 0., 1., 1., 0., 0.,\n",
       "       1., 1., 0., 0., 0., 1., 0., 0., 0., 0., 0., 0., 1., 0., 1., 0., 0.,\n",
       "       0., 0., 1., 1., 1., 0., 0., 1., 0., 0., 1., 0., 1., 0., 0., 0., 0.,\n",
       "       0., 0., 0., 0., 0., 0., 1., 1., 0., 1., 0., 0., 1., 0., 0., 1., 1.,\n",
       "       0., 1., 1., 1., 1., 1., 0., 0., 0., 1., 0., 0., 0., 1., 1., 0., 1.,\n",
       "       0., 0., 0., 1., 1., 1., 0.])"
      ]
     },
     "execution_count": 122,
     "metadata": {},
     "output_type": "execute_result"
    }
   ],
   "source": [
    "# ваш код здесь\n",
    "pred = predict(X, wheits)\n",
    "pred"
   ]
  },
  {
   "cell_type": "markdown",
   "metadata": {
    "id": "6piLghRXbge2"
   },
   "source": [
    "Вычислите долю правильных ответов модели на всех данных X (используйте метрику accuracy)."
   ]
  },
  {
   "cell_type": "code",
   "execution_count": 83,
   "metadata": {
    "id": "5WGJ50FdWOy2"
   },
   "outputs": [],
   "source": [
    "from sklearn.metrics import accuracy_score\n",
    "\n",
    "# ваш код здесь"
   ]
  },
  {
   "cell_type": "code",
   "execution_count": 123,
   "metadata": {},
   "outputs": [
    {
     "data": {
      "text/plain": [
       "0.968"
      ]
     },
     "execution_count": 123,
     "metadata": {},
     "output_type": "execute_result"
    }
   ],
   "source": [
    "accuracy_score(y, pred)"
   ]
  },
  {
   "cell_type": "markdown",
   "metadata": {
    "id": "lwSCTsboHe6m"
   },
   "source": [
    "Сделайте вывод: удалось ли с помощью реализованного метода хорошо решить задачу с точки зрения метрики accuracy?"
   ]
  },
  {
   "cell_type": "code",
   "execution_count": null,
   "metadata": {
    "id": "Pkwp5Q7RHgqn"
   },
   "outputs": [],
   "source": [
    "# ваш вывод здесь"
   ]
  },
  {
   "cell_type": "markdown",
   "metadata": {
    "id": "KlMVQB2lHz6w"
   },
   "source": [
    "Давайте теперь обучим на данных логистическую регрессию, реализованную в библиотеке sklearn. \n",
    "1. Обучите модель на всех данных.\n",
    "2. Сделайте предсказание на всех данных.\n",
    "3. Вычислите значение accuracy."
   ]
  },
  {
   "cell_type": "code",
   "execution_count": 109,
   "metadata": {
    "id": "7Ug0pvskH5Ur"
   },
   "outputs": [],
   "source": [
    "from sklearn.linear_model import LogisticRegression\n",
    "\n",
    "# ваш код здесь"
   ]
  },
  {
   "cell_type": "code",
   "execution_count": 110,
   "metadata": {},
   "outputs": [],
   "source": [
    "logreg = LogisticRegression()"
   ]
  },
  {
   "cell_type": "code",
   "execution_count": 111,
   "metadata": {},
   "outputs": [
    {
     "data": {
      "text/html": [
       "<style>#sk-container-id-1 {color: black;background-color: white;}#sk-container-id-1 pre{padding: 0;}#sk-container-id-1 div.sk-toggleable {background-color: white;}#sk-container-id-1 label.sk-toggleable__label {cursor: pointer;display: block;width: 100%;margin-bottom: 0;padding: 0.3em;box-sizing: border-box;text-align: center;}#sk-container-id-1 label.sk-toggleable__label-arrow:before {content: \"▸\";float: left;margin-right: 0.25em;color: #696969;}#sk-container-id-1 label.sk-toggleable__label-arrow:hover:before {color: black;}#sk-container-id-1 div.sk-estimator:hover label.sk-toggleable__label-arrow:before {color: black;}#sk-container-id-1 div.sk-toggleable__content {max-height: 0;max-width: 0;overflow: hidden;text-align: left;background-color: #f0f8ff;}#sk-container-id-1 div.sk-toggleable__content pre {margin: 0.2em;color: black;border-radius: 0.25em;background-color: #f0f8ff;}#sk-container-id-1 input.sk-toggleable__control:checked~div.sk-toggleable__content {max-height: 200px;max-width: 100%;overflow: auto;}#sk-container-id-1 input.sk-toggleable__control:checked~label.sk-toggleable__label-arrow:before {content: \"▾\";}#sk-container-id-1 div.sk-estimator input.sk-toggleable__control:checked~label.sk-toggleable__label {background-color: #d4ebff;}#sk-container-id-1 div.sk-label input.sk-toggleable__control:checked~label.sk-toggleable__label {background-color: #d4ebff;}#sk-container-id-1 input.sk-hidden--visually {border: 0;clip: rect(1px 1px 1px 1px);clip: rect(1px, 1px, 1px, 1px);height: 1px;margin: -1px;overflow: hidden;padding: 0;position: absolute;width: 1px;}#sk-container-id-1 div.sk-estimator {font-family: monospace;background-color: #f0f8ff;border: 1px dotted black;border-radius: 0.25em;box-sizing: border-box;margin-bottom: 0.5em;}#sk-container-id-1 div.sk-estimator:hover {background-color: #d4ebff;}#sk-container-id-1 div.sk-parallel-item::after {content: \"\";width: 100%;border-bottom: 1px solid gray;flex-grow: 1;}#sk-container-id-1 div.sk-label:hover label.sk-toggleable__label {background-color: #d4ebff;}#sk-container-id-1 div.sk-serial::before {content: \"\";position: absolute;border-left: 1px solid gray;box-sizing: border-box;top: 0;bottom: 0;left: 50%;z-index: 0;}#sk-container-id-1 div.sk-serial {display: flex;flex-direction: column;align-items: center;background-color: white;padding-right: 0.2em;padding-left: 0.2em;position: relative;}#sk-container-id-1 div.sk-item {position: relative;z-index: 1;}#sk-container-id-1 div.sk-parallel {display: flex;align-items: stretch;justify-content: center;background-color: white;position: relative;}#sk-container-id-1 div.sk-item::before, #sk-container-id-1 div.sk-parallel-item::before {content: \"\";position: absolute;border-left: 1px solid gray;box-sizing: border-box;top: 0;bottom: 0;left: 50%;z-index: -1;}#sk-container-id-1 div.sk-parallel-item {display: flex;flex-direction: column;z-index: 1;position: relative;background-color: white;}#sk-container-id-1 div.sk-parallel-item:first-child::after {align-self: flex-end;width: 50%;}#sk-container-id-1 div.sk-parallel-item:last-child::after {align-self: flex-start;width: 50%;}#sk-container-id-1 div.sk-parallel-item:only-child::after {width: 0;}#sk-container-id-1 div.sk-dashed-wrapped {border: 1px dashed gray;margin: 0 0.4em 0.5em 0.4em;box-sizing: border-box;padding-bottom: 0.4em;background-color: white;}#sk-container-id-1 div.sk-label label {font-family: monospace;font-weight: bold;display: inline-block;line-height: 1.2em;}#sk-container-id-1 div.sk-label-container {text-align: center;}#sk-container-id-1 div.sk-container {/* jupyter's `normalize.less` sets `[hidden] { display: none; }` but bootstrap.min.css set `[hidden] { display: none !important; }` so we also need the `!important` here to be able to override the default hidden behavior on the sphinx rendered scikit-learn.org. See: https://github.com/scikit-learn/scikit-learn/issues/21755 */display: inline-block !important;position: relative;}#sk-container-id-1 div.sk-text-repr-fallback {display: none;}</style><div id=\"sk-container-id-1\" class=\"sk-top-container\"><div class=\"sk-text-repr-fallback\"><pre>LogisticRegression()</pre><b>In a Jupyter environment, please rerun this cell to show the HTML representation or trust the notebook. <br />On GitHub, the HTML representation is unable to render, please try loading this page with nbviewer.org.</b></div><div class=\"sk-container\" hidden><div class=\"sk-item\"><div class=\"sk-estimator sk-toggleable\"><input class=\"sk-toggleable__control sk-hidden--visually\" id=\"sk-estimator-id-1\" type=\"checkbox\" checked><label for=\"sk-estimator-id-1\" class=\"sk-toggleable__label sk-toggleable__label-arrow\">LogisticRegression</label><div class=\"sk-toggleable__content\"><pre>LogisticRegression()</pre></div></div></div></div></div>"
      ],
      "text/plain": [
       "LogisticRegression()"
      ]
     },
     "execution_count": 111,
     "metadata": {},
     "output_type": "execute_result"
    }
   ],
   "source": [
    "logreg.fit(X, y)"
   ]
  },
  {
   "cell_type": "code",
   "execution_count": 112,
   "metadata": {},
   "outputs": [],
   "source": [
    "pred_m = logreg.predict(X)"
   ]
  },
  {
   "cell_type": "code",
   "execution_count": 113,
   "metadata": {},
   "outputs": [
    {
     "data": {
      "text/plain": [
       "0.968"
      ]
     },
     "execution_count": 113,
     "metadata": {},
     "output_type": "execute_result"
    }
   ],
   "source": [
    "accuracy_score(y, pred_m)"
   ]
  },
  {
   "cell_type": "markdown",
   "metadata": {
    "id": "pMxSodTYIOMg"
   },
   "source": [
    "Совпало ли качество логистической регрессии «из коробки» с качеством написанной вами модели? "
   ]
  },
  {
   "cell_type": "code",
   "execution_count": null,
   "metadata": {
    "id": "f_EUu8zCIXh1"
   },
   "outputs": [],
   "source": [
    "# ваш текст здесь"
   ]
  },
  {
   "cell_type": "markdown",
   "metadata": {
    "id": "fFxli_axrWW3"
   },
   "source": [
    "|"
   ]
  },
  {
   "cell_type": "markdown",
   "metadata": {
    "id": "NJr5jzo1rYnk"
   },
   "source": [
    "|"
   ]
  },
  {
   "cell_type": "markdown",
   "metadata": {
    "id": "J8DhXlRrrZMJ"
   },
   "source": [
    "|"
   ]
  },
  {
   "cell_type": "markdown",
   "metadata": {
    "id": "IYgCKvU0rZjA"
   },
   "source": [
    "|"
   ]
  },
  {
   "cell_type": "markdown",
   "metadata": {
    "id": "tuaW_ts6rZ17"
   },
   "source": [
    "|"
   ]
  },
  {
   "cell_type": "markdown",
   "metadata": {
    "id": "FZtjQrLeraGK"
   },
   "source": [
    "|"
   ]
  },
  {
   "cell_type": "markdown",
   "metadata": {
    "id": "Ox45ST_EraT0"
   },
   "source": [
    "|"
   ]
  },
  {
   "cell_type": "markdown",
   "metadata": {
    "id": "4Agxp-TOrag2"
   },
   "source": [
    "|"
   ]
  },
  {
   "cell_type": "markdown",
   "metadata": {
    "id": "o2IDC5GhraxT"
   },
   "source": [
    "|"
   ]
  },
  {
   "cell_type": "markdown",
   "metadata": {
    "id": "ew_w2lECra8k"
   },
   "source": [
    "|"
   ]
  },
  {
   "cell_type": "markdown",
   "metadata": {
    "id": "jVzCW_7yrfXM"
   },
   "source": [
    "## Ответы для самостоятельной проверки"
   ]
  },
  {
   "cell_type": "code",
   "execution_count": null,
   "metadata": {
    "colab": {
     "base_uri": "https://localhost:8080/",
     "height": 206
    },
    "executionInfo": {
     "elapsed": 6,
     "status": "ok",
     "timestamp": 1663848437583,
     "user": {
      "displayName": "Improvement center",
      "userId": "14220920730128292155"
     },
     "user_tz": -180
    },
    "id": "Qy8kxouurkZm",
    "outputId": "dfcb2c81-91ab-4224-b06e-826635639615"
   },
   "outputs": [
    {
     "data": {
      "text/html": [
       "\n",
       "  <div id=\"df-9f97f8b6-ebc3-4c21-86b1-ebdf1460f2ec\">\n",
       "    <div class=\"colab-df-container\">\n",
       "      <div>\n",
       "<style scoped>\n",
       "    .dataframe tbody tr th:only-of-type {\n",
       "        vertical-align: middle;\n",
       "    }\n",
       "\n",
       "    .dataframe tbody tr th {\n",
       "        vertical-align: top;\n",
       "    }\n",
       "\n",
       "    .dataframe thead th {\n",
       "        text-align: right;\n",
       "    }\n",
       "</style>\n",
       "<table border=\"1\" class=\"dataframe\">\n",
       "  <thead>\n",
       "    <tr style=\"text-align: right;\">\n",
       "      <th></th>\n",
       "      <th>SBP</th>\n",
       "      <th>DBP</th>\n",
       "      <th>target</th>\n",
       "    </tr>\n",
       "  </thead>\n",
       "  <tbody>\n",
       "    <tr>\n",
       "      <th>0</th>\n",
       "      <td>0.943625</td>\n",
       "      <td>-0.679783</td>\n",
       "      <td>1</td>\n",
       "    </tr>\n",
       "    <tr>\n",
       "      <th>1</th>\n",
       "      <td>-0.868018</td>\n",
       "      <td>-0.253922</td>\n",
       "      <td>0</td>\n",
       "    </tr>\n",
       "    <tr>\n",
       "      <th>2</th>\n",
       "      <td>-1.767471</td>\n",
       "      <td>-0.999924</td>\n",
       "      <td>0</td>\n",
       "    </tr>\n",
       "    <tr>\n",
       "      <th>3</th>\n",
       "      <td>0.572276</td>\n",
       "      <td>0.394579</td>\n",
       "      <td>1</td>\n",
       "    </tr>\n",
       "    <tr>\n",
       "      <th>4</th>\n",
       "      <td>-1.436026</td>\n",
       "      <td>-1.307645</td>\n",
       "      <td>0</td>\n",
       "    </tr>\n",
       "  </tbody>\n",
       "</table>\n",
       "</div>\n",
       "      <button class=\"colab-df-convert\" onclick=\"convertToInteractive('df-9f97f8b6-ebc3-4c21-86b1-ebdf1460f2ec')\"\n",
       "              title=\"Convert this dataframe to an interactive table.\"\n",
       "              style=\"display:none;\">\n",
       "        \n",
       "  <svg xmlns=\"http://www.w3.org/2000/svg\" height=\"24px\"viewBox=\"0 0 24 24\"\n",
       "       width=\"24px\">\n",
       "    <path d=\"M0 0h24v24H0V0z\" fill=\"none\"/>\n",
       "    <path d=\"M18.56 5.44l.94 2.06.94-2.06 2.06-.94-2.06-.94-.94-2.06-.94 2.06-2.06.94zm-11 1L8.5 8.5l.94-2.06 2.06-.94-2.06-.94L8.5 2.5l-.94 2.06-2.06.94zm10 10l.94 2.06.94-2.06 2.06-.94-2.06-.94-.94-2.06-.94 2.06-2.06.94z\"/><path d=\"M17.41 7.96l-1.37-1.37c-.4-.4-.92-.59-1.43-.59-.52 0-1.04.2-1.43.59L10.3 9.45l-7.72 7.72c-.78.78-.78 2.05 0 2.83L4 21.41c.39.39.9.59 1.41.59.51 0 1.02-.2 1.41-.59l7.78-7.78 2.81-2.81c.8-.78.8-2.07 0-2.86zM5.41 20L4 18.59l7.72-7.72 1.47 1.35L5.41 20z\"/>\n",
       "  </svg>\n",
       "      </button>\n",
       "      \n",
       "  <style>\n",
       "    .colab-df-container {\n",
       "      display:flex;\n",
       "      flex-wrap:wrap;\n",
       "      gap: 12px;\n",
       "    }\n",
       "\n",
       "    .colab-df-convert {\n",
       "      background-color: #E8F0FE;\n",
       "      border: none;\n",
       "      border-radius: 50%;\n",
       "      cursor: pointer;\n",
       "      display: none;\n",
       "      fill: #1967D2;\n",
       "      height: 32px;\n",
       "      padding: 0 0 0 0;\n",
       "      width: 32px;\n",
       "    }\n",
       "\n",
       "    .colab-df-convert:hover {\n",
       "      background-color: #E2EBFA;\n",
       "      box-shadow: 0px 1px 2px rgba(60, 64, 67, 0.3), 0px 1px 3px 1px rgba(60, 64, 67, 0.15);\n",
       "      fill: #174EA6;\n",
       "    }\n",
       "\n",
       "    [theme=dark] .colab-df-convert {\n",
       "      background-color: #3B4455;\n",
       "      fill: #D2E3FC;\n",
       "    }\n",
       "\n",
       "    [theme=dark] .colab-df-convert:hover {\n",
       "      background-color: #434B5C;\n",
       "      box-shadow: 0px 1px 3px 1px rgba(0, 0, 0, 0.15);\n",
       "      filter: drop-shadow(0px 1px 2px rgba(0, 0, 0, 0.3));\n",
       "      fill: #FFFFFF;\n",
       "    }\n",
       "  </style>\n",
       "\n",
       "      <script>\n",
       "        const buttonEl =\n",
       "          document.querySelector('#df-9f97f8b6-ebc3-4c21-86b1-ebdf1460f2ec button.colab-df-convert');\n",
       "        buttonEl.style.display =\n",
       "          google.colab.kernel.accessAllowed ? 'block' : 'none';\n",
       "\n",
       "        async function convertToInteractive(key) {\n",
       "          const element = document.querySelector('#df-9f97f8b6-ebc3-4c21-86b1-ebdf1460f2ec');\n",
       "          const dataTable =\n",
       "            await google.colab.kernel.invokeFunction('convertToInteractive',\n",
       "                                                     [key], {});\n",
       "          if (!dataTable) return;\n",
       "\n",
       "          const docLinkHtml = 'Like what you see? Visit the ' +\n",
       "            '<a target=\"_blank\" href=https://colab.research.google.com/notebooks/data_table.ipynb>data table notebook</a>'\n",
       "            + ' to learn more about interactive tables.';\n",
       "          element.innerHTML = '';\n",
       "          dataTable['output_type'] = 'display_data';\n",
       "          await google.colab.output.renderOutput(dataTable, element);\n",
       "          const docLink = document.createElement('div');\n",
       "          docLink.innerHTML = docLinkHtml;\n",
       "          element.appendChild(docLink);\n",
       "        }\n",
       "      </script>\n",
       "    </div>\n",
       "  </div>\n",
       "  "
      ],
      "text/plain": [
       "        SBP       DBP  target\n",
       "0  0.943625 -0.679783       1\n",
       "1 -0.868018 -0.253922       0\n",
       "2 -1.767471 -0.999924       0\n",
       "3  0.572276  0.394579       1\n",
       "4 -1.436026 -1.307645       0"
      ]
     },
     "execution_count": 16,
     "metadata": {},
     "output_type": "execute_result"
    }
   ],
   "source": [
    "import random\n",
    "import pandas as pd\n",
    "import matplotlib.pyplot as plt\n",
    "import numpy as np\n",
    "import seaborn as sns\n",
    "%matplotlib inline\n",
    "\n",
    "df = pd.read_csv(\"BloodPressure.csv\")\n",
    "\n",
    "df.head()"
   ]
  },
  {
   "cell_type": "code",
   "execution_count": null,
   "metadata": {
    "id": "lOch7DDHGRXB"
   },
   "outputs": [],
   "source": [
    "X = df[['SBP','DBP']]\n",
    "y = df['target'].values"
   ]
  },
  {
   "cell_type": "markdown",
   "metadata": {
    "id": "RdLx9wJPrkZo"
   },
   "source": [
    "Напишите функцию для вычисления сигмоиды."
   ]
  },
  {
   "cell_type": "code",
   "execution_count": null,
   "metadata": {
    "id": "KMLxCG0HrkZp"
   },
   "outputs": [],
   "source": [
    "def sigmoid(x):\n",
    "    return 1 / (1 + np.exp(-x))"
   ]
  },
  {
   "cell_type": "markdown",
   "metadata": {
    "id": "-90X1M7ErkZp"
   },
   "source": [
    "Напишите функцию для вычисления функции потерь логистической регрессии (log-loss)."
   ]
  },
  {
   "cell_type": "code",
   "execution_count": null,
   "metadata": {
    "id": "N4ogUylkrkZp"
   },
   "outputs": [],
   "source": [
    "def compute_cost(X, y, theta):\n",
    "    m = len(y)\n",
    "    h = sigmoid(X @ theta)\n",
    "    epsilon = 1e-5\n",
    "    cost = (1/m)*(((-y).T @ np.log(h + epsilon))-((1-y).T @ np.log(1-h + epsilon)))\n",
    "    return cost"
   ]
  },
  {
   "cell_type": "markdown",
   "metadata": {
    "id": "Iz1ryCUirkZq"
   },
   "source": [
    "Реализуем стохастический градиентный спуск по формуле\n",
    "\n",
    "$$w_{new} = w_{prev} - \\nabla_w Q(w_{prev},x_i,y_i),$$\n",
    "\n",
    "где \n",
    "*   $\\nabla_w Q(w,x_i,y_i)$ — значение градиента функции потерь (в данном случае MSE) на объекте $x_i$;\n",
    "*   объект $x_i$ случайным образом выбирается на каждой итерации метода."
   ]
  },
  {
   "cell_type": "markdown",
   "metadata": {
    "id": "z5B8OTT1rkZq"
   },
   "source": [
    "Реализуйте метод стохастического градиентного спуска для обучения логистической регрессии по аналогии с тем, как мы делали его для обучения линейной регрессии.\n",
    "\n",
    "Единственное, что поменяется, — надо пересчитать градиент функции потерь (так как теперь функция потерь log-loss, а не MSE)."
   ]
  },
  {
   "cell_type": "code",
   "execution_count": null,
   "metadata": {
    "id": "4VWxAYQ0rkZq"
   },
   "outputs": [],
   "source": [
    "def stochastic_gradient_descent(X, y, params, learning_rate, iterations):\n",
    "\n",
    "    X = np.hstack((np.ones((X.shape[0], 1)), X))\n",
    "    params = np.random.rand(X.shape[1])\n",
    "\n",
    "    cost_track = np.zeros((iterations,1))\n",
    "\n",
    "    for i in range(iterations):\n",
    "        ind = random.sample(range(X.shape[0]),1)\n",
    "\n",
    "        params = params - learning_rate * (X[ind] * (sigmoid(X[ind] @ params) - y[ind])) \n",
    "        params = params.ravel() \n",
    "        cost_track[i] = compute_cost(X, y, params)\n",
    "\n",
    "    return cost_track, params"
   ]
  },
  {
   "cell_type": "markdown",
   "metadata": {
    "id": "kWiV143JrkZq"
   },
   "source": [
    "Создайте функцию для получения предсказания модели.\n",
    "\n",
    "По аналогии с функцией для предсказания линейной регрессии добавьте к матрице X единичный столбец."
   ]
  },
  {
   "cell_type": "code",
   "execution_count": null,
   "metadata": {
    "id": "LW5wDb4irkZr"
   },
   "outputs": [],
   "source": [
    "def predict(X, params):\n",
    "    X = np.hstack((np.ones((X.shape[0], 1)), X))\n",
    "\n",
    "    return np.round(sigmoid(X @ params))"
   ]
  },
  {
   "cell_type": "markdown",
   "metadata": {
    "id": "VIh1LfZerkZr"
   },
   "source": [
    "Создадим начальный вектор параметров (весов) модели и заполним его нулями.\n",
    "\n",
    "Зададим количество итераций стохастического градиентного спуска и градиентный шаг."
   ]
  },
  {
   "cell_type": "code",
   "execution_count": null,
   "metadata": {
    "id": "pTfpMx2hrkZr"
   },
   "outputs": [],
   "source": [
    "params = np.zeros((X.shape[1],1))\n",
    "\n",
    "iterations = 1500\n",
    "learning_rate = 0.03"
   ]
  },
  {
   "cell_type": "markdown",
   "metadata": {
    "id": "n0HXei8lrkZs"
   },
   "source": [
    "Обучите модель методом стохастического градиентного спуска (вызовите написанную функцию).\n",
    "\n",
    "Выведите на экран найденный вектор весов и нарисуйте график, отражающий, как убывает ошибка в зависимости от номера итерации (подпишите оси и добавьте название к графику)."
   ]
  },
  {
   "cell_type": "code",
   "execution_count": null,
   "metadata": {
    "colab": {
     "base_uri": "https://localhost:8080/",
     "height": 349
    },
    "executionInfo": {
     "elapsed": 433,
     "status": "ok",
     "timestamp": 1663848692755,
     "user": {
      "displayName": "Improvement center",
      "userId": "14220920730128292155"
     },
     "user_tz": -180
    },
    "id": "c-BGpYk9rkZs",
    "outputId": "248f406f-bdf3-4d02-f8dd-defb65203e7c"
   },
   "outputs": [
    {
     "name": "stdout",
     "output_type": "stream",
     "text": [
      "Optimal Parameters are: \n",
      " [-0.44932498  3.20730642 -0.0046442 ] \n",
      "\n"
     ]
    },
    {
     "data": {
      "image/png": "[encoded data removed]",
      "text/plain": [
       "<Figure size 432x288 with 1 Axes>"
      ]
     },
     "metadata": {},
     "output_type": "display_data"
    }
   ],
   "source": [
    "cost_history, params_optimal = stochastic_gradient_descent(X, y, params, learning_rate, iterations)\n",
    "\n",
    "print(\"Optimal Parameters are: \\n\", params_optimal, \"\\n\")\n",
    "\n",
    "plt.figure()\n",
    "sns.set_style('white')\n",
    "plt.plot(range(len(cost_history)), cost_history, 'r')\n",
    "plt.title(\"Convergence Graph of Cost Function\")\n",
    "plt.xlabel(\"Number of Iterations\")\n",
    "plt.ylabel(\"Cost\")\n",
    "plt.show()"
   ]
  },
  {
   "cell_type": "markdown",
   "metadata": {
    "id": "Ie_7IAXFrkZs"
   },
   "source": [
    "Сделайте предсказание обученной модели на всех данных X."
   ]
  },
  {
   "cell_type": "code",
   "execution_count": null,
   "metadata": {
    "id": "30i4rddSrkZt"
   },
   "outputs": [],
   "source": [
    "pred = predict(X, params_optimal)"
   ]
  },
  {
   "cell_type": "markdown",
   "metadata": {
    "id": "Zz2MOeyCrkZt"
   },
   "source": [
    "Вычислите долю правильных ответов модели на всех данных X (используйте метрику accuracy)."
   ]
  },
  {
   "cell_type": "code",
   "execution_count": null,
   "metadata": {
    "colab": {
     "base_uri": "https://localhost:8080/"
    },
    "executionInfo": {
     "elapsed": 242,
     "status": "ok",
     "timestamp": 1663848963106,
     "user": {
      "displayName": "Improvement center",
      "userId": "14220920730128292155"
     },
     "user_tz": -180
    },
    "id": "E6caUXpXrkZt",
    "outputId": "b176c6f6-894a-4656-fb3d-95fa1d7123c1"
   },
   "outputs": [
    {
     "data": {
      "text/plain": [
       "0.968"
      ]
     },
     "execution_count": 59,
     "metadata": {},
     "output_type": "execute_result"
    }
   ],
   "source": [
    "from sklearn.metrics import accuracy_score\n",
    "\n",
    "accuracy_score(pred, y)"
   ]
  },
  {
   "cell_type": "code",
   "execution_count": null,
   "metadata": {
    "colab": {
     "base_uri": "https://localhost:8080/"
    },
    "executionInfo": {
     "elapsed": 5,
     "status": "ok",
     "timestamp": 1663848985700,
     "user": {
      "displayName": "Improvement center",
      "userId": "14220920730128292155"
     },
     "user_tz": -180
    },
    "id": "2cZaBxPSIEKP",
    "outputId": "a5e391c2-2502-45d2-ecb0-1cdb880c0e0c"
   },
   "outputs": [
    {
     "data": {
      "text/plain": [
       "0.968"
      ]
     },
     "execution_count": 60,
     "metadata": {},
     "output_type": "execute_result"
    }
   ],
   "source": [
    "from sklearn.linear_model import LogisticRegression\n",
    "\n",
    "model = LogisticRegression()\n",
    "model.fit(X, y)\n",
    "\n",
    "prediction = model.predict(X)\n",
    "\n",
    "accuracy_score(prediction, y)"
   ]
  },
  {
   "cell_type": "code",
   "execution_count": null,
   "metadata": {
    "id": "rqJqUDuoILFQ"
   },
   "outputs": [],
   "source": []
  }
 ],
 "metadata": {
  "colab": {
   "collapsed_sections": [],
   "provenance": []
  },
  "kernelspec": {
   "display_name": "Python 3 (ipykernel)",
   "language": "python",
   "name": "python3"
  },
  "language_info": {
   "codemirror_mode": {
    "name": "ipython",
    "version": 3
   },
   "file_extension": ".py",
   "mimetype": "text/x-python",
   "name": "python",
   "nbconvert_exporter": "python",
   "pygments_lexer": "ipython3",
   "version": "3.10.9"
  }
 },
 "nbformat": 4,
 "nbformat_minor": 1
}
