{
 "cells": [
  {
   "cell_type": "markdown",
   "id": "3fc2cf5e",
   "metadata": {
    "id": "3fc2cf5e"
   },
   "source": [
    "# Модуль 18. Практическая работа\n",
    "\n",
    "## Цели работы\n",
    "\n",
    "- Попрактиковаться в предобработке текстовых данных (токенизация, лемматизация, векторизация).\n",
    "\n",
    "- Построить две модели классификации с разными способами векторизации текстов (`CountVectorizer` и `TfIdfVectorizer`).\n",
    "- Сравнить качество моделей.\n",
    "\n",
    "## Что нужно сделать\n",
    "\n",
    "1. Загрузите датасет из файла, приложенного к заданию (`m18_jokes_dataset.csv`).\n",
    "\n",
    "1. Закодируйте целевую переменную с помощью `LabelEncoder`.\n",
    "1. Разделите выборку на тренировочную и тестовую.\n",
    "1. Используя знания из модуля, подготовьте функцию `preprocess`, которая:\n",
    "- удаляет стоп-слова в соответствии со списком `nltk.corpus.stopwords`;\n",
    "- приводит слова к нормальной форме с помощью `pymorphy2`.\n",
    "5. Создайте экзепляры векторизаторов `CountVectorizer` и `TfIdfVectorizer`. В качестве функции предобработки данных оба должны использовать функцию `preprocess`.\n",
    "\n",
    "1. Векторизуйте признаки тренировочной и тестовой выборок. Сохраните результаты `CountVectorizer` в `X_train_count` и `X_test_count`, а результаты `TfIdfVectorizer` – в `X_train_tfidf` и `X_test_tfidf`.\n",
    "1. Обучите две модели классификации, например `LinearSVC`.\n",
    "1. Оцените работу обеих моделей на тестовой выборке, используя `f1_score` с методом усреднения `macro` (параметр `average='macro'`) – это арифметическое среднее f1-метрик, рассчитанных для каждого класса. \n",
    "\n",
    "## Что оценивается\n",
    "\n",
    "- Все шаги выполнены правильно.\n",
    "\n",
    "- Код решения соответствует референсному коду, который есть у куратора. \n",
    "- Обучены две модели, которые используют текстовые данные, обработанные разными векторизаторами (`CountVectorizer` и `TfIdfVectorizer`). Для обеих моделей вычислен усреднённый `f1_score` (метод усреднения — `macro`). \n",
    "\n",
    "## Информация о задаче\n",
    "\n",
    "### Описание датасета\n",
    "\n",
    "`m18_jokes_dataset.csv` – датасет, подготовленный на основе датасета, размещённого [на kaggle](https://www.kaggle.com/datasets/konstantinalbul/russian-jokes). Наш датасет содержит две колонки:\n",
    "\n",
    "- **text** — текст анекдота (скорее всего, несмешного, но ваша задача не смеяться, а решить задачу классификации);\n",
    "\n",
    "- **theme** — категория, к которой относится шутка. \n",
    "\n",
    "Датасет содержит данные для задачи многоклассовой классификации. В отличие от оригинального датасета, в нашем классов меньше, зато они идеально сбалансированы: в каждом ровно тысяча примеров. Так вам будет проще сконцентрироваться на текстовых данных.\n",
    "\n",
    "### Порядок выполнения \n",
    "\n",
    "Напишите весь необходимый код в ячейках ниже.\n",
    "\n",
    "### Рекомендации\n",
    "\n",
    "- Обратите внимание, что модели sklearn (например, `LinearSVC`) умеют работать с разреженными матрицами (`scipy.sparse._csr.csr_matrix`), которые возвращают методы и `fit_transform` и `transform` векторизаторов `CountVectorizer` и `TfIdfVectorizer`.\n",
    "\n",
    "- Когда подготавливаете векторизатор, вызывайте `fit_transform` на тренировочной выборке, а потом `fit` на тестовой, примерно так:\n",
    "    > X_train_count = count_vectorizer.fit_transform(X_train)\n",
    "    >\n",
    "    > X_test_count = count_vectorizer.transform(X_test)\n",
    "\n",
    "Затем используйте полученные результаты для обучения и контроля моделей `sklearn`."
   ]
  },
  {
   "cell_type": "code",
   "execution_count": 1,
   "id": "398d32d2",
   "metadata": {
    "id": "398d32d2"
   },
   "outputs": [],
   "source": [
    "import pandas as pd\n",
    "import numpy as np\n",
    "from nltk.corpus import stopwords\n",
    "from nltk.tokenize import RegexpTokenizer\n",
    "import pymorphy2\n",
    "\n",
    "from sklearn.preprocessing import LabelEncoder\n",
    "from sklearn.svm import LinearSVC\n",
    "from sklearn.model_selection import train_test_split\n",
    "from sklearn.feature_extraction.text import TfidfVectorizer, CountVectorizer\n",
    "from sklearn.metrics import classification_report\n",
    "from sklearn.metrics import f1_score\n",
    "\n",
    "#\n",
    "# Ваш код здесь\n",
    "#"
   ]
  },
  {
   "cell_type": "code",
   "execution_count": 6,
   "id": "0f76f2fd",
   "metadata": {},
   "outputs": [],
   "source": [
    "RS = 42"
   ]
  },
  {
   "cell_type": "code",
   "execution_count": 3,
   "id": "d7c244f8",
   "metadata": {},
   "outputs": [
    {
     "data": {
      "text/html": [
       "<div>\n",
       "<style scoped>\n",
       "    .dataframe tbody tr th:only-of-type {\n",
       "        vertical-align: middle;\n",
       "    }\n",
       "\n",
       "    .dataframe tbody tr th {\n",
       "        vertical-align: top;\n",
       "    }\n",
       "\n",
       "    .dataframe thead th {\n",
       "        text-align: right;\n",
       "    }\n",
       "</style>\n",
       "<table border=\"1\" class=\"dataframe\">\n",
       "  <thead>\n",
       "    <tr style=\"text-align: right;\">\n",
       "      <th></th>\n",
       "      <th>theme</th>\n",
       "      <th>text</th>\n",
       "    </tr>\n",
       "  </thead>\n",
       "  <tbody>\n",
       "    <tr>\n",
       "      <th>0</th>\n",
       "      <td>aforizmi</td>\n",
       "      <td>Почему удар в спину наносят те, кого,как прави...</td>\n",
       "    </tr>\n",
       "    <tr>\n",
       "      <th>1</th>\n",
       "      <td>aforizmi</td>\n",
       "      <td>Музы - пожалуй самые мудрые представительницы...</td>\n",
       "    </tr>\n",
       "    <tr>\n",
       "      <th>2</th>\n",
       "      <td>aforizmi</td>\n",
       "      <td>Тяжело бухать всю ночь, особенно если ночь пол...</td>\n",
       "    </tr>\n",
       "    <tr>\n",
       "      <th>3</th>\n",
       "      <td>aforizmi</td>\n",
       "      <td>ПОКУШЕНИЕ. НАЛИЧНОСТЬ.\\r\\n\\r\\n\\r\\n</td>\n",
       "    </tr>\n",
       "    <tr>\n",
       "      <th>4</th>\n",
       "      <td>aforizmi</td>\n",
       "      <td>Когда медленно танцуешь, ничего не мешает...\\r...</td>\n",
       "    </tr>\n",
       "    <tr>\n",
       "      <th>...</th>\n",
       "      <td>...</td>\n",
       "      <td>...</td>\n",
       "    </tr>\n",
       "    <tr>\n",
       "      <th>16995</th>\n",
       "      <td>tsitati</td>\n",
       "      <td>o Lilets is listening to ERROR: Couldn't attac...</td>\n",
       "    </tr>\n",
       "    <tr>\n",
       "      <th>16996</th>\n",
       "      <td>tsitati</td>\n",
       "      <td>Old Pepper:Ходорковскому и Лебедеву были предъ...</td>\n",
       "    </tr>\n",
       "    <tr>\n",
       "      <th>16997</th>\n",
       "      <td>tsitati</td>\n",
       "      <td>\"Алун\" Ребята, не надо материться!, я на вас с...</td>\n",
       "    </tr>\n",
       "    <tr>\n",
       "      <th>16998</th>\n",
       "      <td>tsitati</td>\n",
       "      <td>\"W_i_s_h\" nikita800:  у меня сегодня один урод...</td>\n",
       "    </tr>\n",
       "    <tr>\n",
       "      <th>16999</th>\n",
       "      <td>tsitati</td>\n",
       "      <td>wr_HunTeR: Если вы достигли совершенства в эти...</td>\n",
       "    </tr>\n",
       "  </tbody>\n",
       "</table>\n",
       "<p>17000 rows × 2 columns</p>\n",
       "</div>"
      ],
      "text/plain": [
       "          theme                                               text\n",
       "0      aforizmi  Почему удар в спину наносят те, кого,как прави...\n",
       "1      aforizmi  Музы - пожалуй самые мудрые представительницы...\n",
       "2      aforizmi  Тяжело бухать всю ночь, особенно если ночь пол...\n",
       "3      aforizmi                 ПОКУШЕНИЕ. НАЛИЧНОСТЬ.\\r\\n\\r\\n\\r\\n\n",
       "4      aforizmi  Когда медленно танцуешь, ничего не мешает...\\r...\n",
       "...         ...                                                ...\n",
       "16995   tsitati  o Lilets is listening to ERROR: Couldn't attac...\n",
       "16996   tsitati  Old Pepper:Ходорковскому и Лебедеву были предъ...\n",
       "16997   tsitati  \"Алун\" Ребята, не надо материться!, я на вас с...\n",
       "16998   tsitati  \"W_i_s_h\" nikita800:  у меня сегодня один урод...\n",
       "16999   tsitati  wr_HunTeR: Если вы достигли совершенства в эти...\n",
       "\n",
       "[17000 rows x 2 columns]"
      ]
     },
     "execution_count": 3,
     "metadata": {},
     "output_type": "execute_result"
    }
   ],
   "source": [
    "df = pd.read_csv('m18_jokes_dataset.csv')\n",
    "df"
   ]
  },
  {
   "cell_type": "code",
   "execution_count": 4,
   "id": "2e552d3d",
   "metadata": {},
   "outputs": [],
   "source": [
    "label_encoder = LabelEncoder()\n",
    "df['theme'] = label_encoder.fit_transform(df['theme'])"
   ]
  },
  {
   "cell_type": "code",
   "execution_count": 12,
   "id": "eede7837",
   "metadata": {},
   "outputs": [],
   "source": [
    "X_train, X_test, y_train, y_test = train_test_split(df[['text']], df['theme'], test_size=0.2, random_state=RS)"
   ]
  },
  {
   "cell_type": "code",
   "execution_count": 8,
   "id": "a24922aa",
   "metadata": {},
   "outputs": [],
   "source": [
    "ru_stopwords = stopwords.words('russian')\n"
   ]
  },
  {
   "cell_type": "code",
   "execution_count": 9,
   "id": "8bf11c38",
   "metadata": {},
   "outputs": [],
   "source": [
    "tokenizer = RegexpTokenizer('\\w+')\n",
    "stemmer = pymorphy2.MorphAnalyzer()\n",
    "def preprocess(text):\n",
    "    stemmed_words = []\n",
    "    for word in tokenizer.tokenize(text):\n",
    "        word = word.lower()\n",
    "        if word not in ru_stopwords:\n",
    "            stemmed_words.append(stemmer.parse(word)[0].normal_form)\n",
    "    return ' '.join(stemmed_words)"
   ]
  },
  {
   "cell_type": "code",
   "execution_count": 39,
   "id": "e66da6ba",
   "metadata": {},
   "outputs": [],
   "source": [
    "count_vectorizer = CountVectorizer(\n",
    "    preprocessor=preprocess,\n",
    "#     tokenizer=tokenizer.tokenize\n",
    ")"
   ]
  },
  {
   "cell_type": "code",
   "execution_count": 11,
   "id": "e750fbb8",
   "metadata": {},
   "outputs": [],
   "source": [
    "tfidf_vectorizer = TfidfVectorizer(\n",
    "    preprocessor=preprocess,\n",
    "    norm=None\n",
    ")"
   ]
  },
  {
   "cell_type": "code",
   "execution_count": 65,
   "id": "9ba61a51",
   "metadata": {},
   "outputs": [],
   "source": [
    "X_train_count = count_vectorizer.fit_transform(X_train['text'])\n",
    "\n",
    "X_test_count = count_vectorizer.transform(X_test['text'])"
   ]
  },
  {
   "cell_type": "code",
   "execution_count": 73,
   "id": "f4af957b",
   "metadata": {},
   "outputs": [],
   "source": [
    "X_train_tfidf = tfidf_vectorizer.fit_transform(X_train['text'])\n",
    "\n",
    "X_test_tfidf = tfidf_vectorizer.transform(X_test['text'])"
   ]
  },
  {
   "cell_type": "code",
   "execution_count": 67,
   "id": "d0dd5678",
   "metadata": {},
   "outputs": [],
   "source": [
    "svc_count = LinearSVC()\n",
    "svc_tfidf = LinearSVC()"
   ]
  },
  {
   "cell_type": "code",
   "execution_count": 68,
   "id": "4e540bcb",
   "metadata": {},
   "outputs": [
    {
     "name": "stderr",
     "output_type": "stream",
     "text": [
      "D:\\anaconda3\\lib\\site-packages\\sklearn\\svm\\_base.py:1244: ConvergenceWarning: Liblinear failed to converge, increase the number of iterations.\n",
      "  warnings.warn(\n"
     ]
    },
    {
     "data": {
      "text/html": [
       "<style>#sk-container-id-1 {color: black;background-color: white;}#sk-container-id-1 pre{padding: 0;}#sk-container-id-1 div.sk-toggleable {background-color: white;}#sk-container-id-1 label.sk-toggleable__label {cursor: pointer;display: block;width: 100%;margin-bottom: 0;padding: 0.3em;box-sizing: border-box;text-align: center;}#sk-container-id-1 label.sk-toggleable__label-arrow:before {content: \"▸\";float: left;margin-right: 0.25em;color: #696969;}#sk-container-id-1 label.sk-toggleable__label-arrow:hover:before {color: black;}#sk-container-id-1 div.sk-estimator:hover label.sk-toggleable__label-arrow:before {color: black;}#sk-container-id-1 div.sk-toggleable__content {max-height: 0;max-width: 0;overflow: hidden;text-align: left;background-color: #f0f8ff;}#sk-container-id-1 div.sk-toggleable__content pre {margin: 0.2em;color: black;border-radius: 0.25em;background-color: #f0f8ff;}#sk-container-id-1 input.sk-toggleable__control:checked~div.sk-toggleable__content {max-height: 200px;max-width: 100%;overflow: auto;}#sk-container-id-1 input.sk-toggleable__control:checked~label.sk-toggleable__label-arrow:before {content: \"▾\";}#sk-container-id-1 div.sk-estimator input.sk-toggleable__control:checked~label.sk-toggleable__label {background-color: #d4ebff;}#sk-container-id-1 div.sk-label input.sk-toggleable__control:checked~label.sk-toggleable__label {background-color: #d4ebff;}#sk-container-id-1 input.sk-hidden--visually {border: 0;clip: rect(1px 1px 1px 1px);clip: rect(1px, 1px, 1px, 1px);height: 1px;margin: -1px;overflow: hidden;padding: 0;position: absolute;width: 1px;}#sk-container-id-1 div.sk-estimator {font-family: monospace;background-color: #f0f8ff;border: 1px dotted black;border-radius: 0.25em;box-sizing: border-box;margin-bottom: 0.5em;}#sk-container-id-1 div.sk-estimator:hover {background-color: #d4ebff;}#sk-container-id-1 div.sk-parallel-item::after {content: \"\";width: 100%;border-bottom: 1px solid gray;flex-grow: 1;}#sk-container-id-1 div.sk-label:hover label.sk-toggleable__label {background-color: #d4ebff;}#sk-container-id-1 div.sk-serial::before {content: \"\";position: absolute;border-left: 1px solid gray;box-sizing: border-box;top: 0;bottom: 0;left: 50%;z-index: 0;}#sk-container-id-1 div.sk-serial {display: flex;flex-direction: column;align-items: center;background-color: white;padding-right: 0.2em;padding-left: 0.2em;position: relative;}#sk-container-id-1 div.sk-item {position: relative;z-index: 1;}#sk-container-id-1 div.sk-parallel {display: flex;align-items: stretch;justify-content: center;background-color: white;position: relative;}#sk-container-id-1 div.sk-item::before, #sk-container-id-1 div.sk-parallel-item::before {content: \"\";position: absolute;border-left: 1px solid gray;box-sizing: border-box;top: 0;bottom: 0;left: 50%;z-index: -1;}#sk-container-id-1 div.sk-parallel-item {display: flex;flex-direction: column;z-index: 1;position: relative;background-color: white;}#sk-container-id-1 div.sk-parallel-item:first-child::after {align-self: flex-end;width: 50%;}#sk-container-id-1 div.sk-parallel-item:last-child::after {align-self: flex-start;width: 50%;}#sk-container-id-1 div.sk-parallel-item:only-child::after {width: 0;}#sk-container-id-1 div.sk-dashed-wrapped {border: 1px dashed gray;margin: 0 0.4em 0.5em 0.4em;box-sizing: border-box;padding-bottom: 0.4em;background-color: white;}#sk-container-id-1 div.sk-label label {font-family: monospace;font-weight: bold;display: inline-block;line-height: 1.2em;}#sk-container-id-1 div.sk-label-container {text-align: center;}#sk-container-id-1 div.sk-container {/* jupyter's `normalize.less` sets `[hidden] { display: none; }` but bootstrap.min.css set `[hidden] { display: none !important; }` so we also need the `!important` here to be able to override the default hidden behavior on the sphinx rendered scikit-learn.org. See: https://github.com/scikit-learn/scikit-learn/issues/21755 */display: inline-block !important;position: relative;}#sk-container-id-1 div.sk-text-repr-fallback {display: none;}</style><div id=\"sk-container-id-1\" class=\"sk-top-container\"><div class=\"sk-text-repr-fallback\"><pre>LinearSVC()</pre><b>In a Jupyter environment, please rerun this cell to show the HTML representation or trust the notebook. <br />On GitHub, the HTML representation is unable to render, please try loading this page with nbviewer.org.</b></div><div class=\"sk-container\" hidden><div class=\"sk-item\"><div class=\"sk-estimator sk-toggleable\"><input class=\"sk-toggleable__control sk-hidden--visually\" id=\"sk-estimator-id-1\" type=\"checkbox\" checked><label for=\"sk-estimator-id-1\" class=\"sk-toggleable__label sk-toggleable__label-arrow\">LinearSVC</label><div class=\"sk-toggleable__content\"><pre>LinearSVC()</pre></div></div></div></div></div>"
      ],
      "text/plain": [
       "LinearSVC()"
      ]
     },
     "execution_count": 68,
     "metadata": {},
     "output_type": "execute_result"
    }
   ],
   "source": [
    "svc_count.fit(X_train_count, y_train)"
   ]
  },
  {
   "cell_type": "code",
   "execution_count": 76,
   "id": "b21934b9",
   "metadata": {},
   "outputs": [],
   "source": [
    "pred_count = svc_count.predict(X_test_count)"
   ]
  },
  {
   "cell_type": "code",
   "execution_count": 77,
   "id": "199423f0",
   "metadata": {},
   "outputs": [
    {
     "data": {
      "text/plain": [
       "0.6057958297630847"
      ]
     },
     "execution_count": 77,
     "metadata": {},
     "output_type": "execute_result"
    }
   ],
   "source": [
    "f1_score(y_test, pred_count, average='macro')"
   ]
  },
  {
   "cell_type": "code",
   "execution_count": null,
   "id": "4dfa75db",
   "metadata": {},
   "outputs": [],
   "source": []
  },
  {
   "cell_type": "code",
   "execution_count": 78,
   "id": "0047662b",
   "metadata": {},
   "outputs": [
    {
     "name": "stderr",
     "output_type": "stream",
     "text": [
      "D:\\anaconda3\\lib\\site-packages\\sklearn\\svm\\_base.py:1244: ConvergenceWarning: Liblinear failed to converge, increase the number of iterations.\n",
      "  warnings.warn(\n"
     ]
    },
    {
     "data": {
      "text/html": [
       "<style>#sk-container-id-2 {color: black;background-color: white;}#sk-container-id-2 pre{padding: 0;}#sk-container-id-2 div.sk-toggleable {background-color: white;}#sk-container-id-2 label.sk-toggleable__label {cursor: pointer;display: block;width: 100%;margin-bottom: 0;padding: 0.3em;box-sizing: border-box;text-align: center;}#sk-container-id-2 label.sk-toggleable__label-arrow:before {content: \"▸\";float: left;margin-right: 0.25em;color: #696969;}#sk-container-id-2 label.sk-toggleable__label-arrow:hover:before {color: black;}#sk-container-id-2 div.sk-estimator:hover label.sk-toggleable__label-arrow:before {color: black;}#sk-container-id-2 div.sk-toggleable__content {max-height: 0;max-width: 0;overflow: hidden;text-align: left;background-color: #f0f8ff;}#sk-container-id-2 div.sk-toggleable__content pre {margin: 0.2em;color: black;border-radius: 0.25em;background-color: #f0f8ff;}#sk-container-id-2 input.sk-toggleable__control:checked~div.sk-toggleable__content {max-height: 200px;max-width: 100%;overflow: auto;}#sk-container-id-2 input.sk-toggleable__control:checked~label.sk-toggleable__label-arrow:before {content: \"▾\";}#sk-container-id-2 div.sk-estimator input.sk-toggleable__control:checked~label.sk-toggleable__label {background-color: #d4ebff;}#sk-container-id-2 div.sk-label input.sk-toggleable__control:checked~label.sk-toggleable__label {background-color: #d4ebff;}#sk-container-id-2 input.sk-hidden--visually {border: 0;clip: rect(1px 1px 1px 1px);clip: rect(1px, 1px, 1px, 1px);height: 1px;margin: -1px;overflow: hidden;padding: 0;position: absolute;width: 1px;}#sk-container-id-2 div.sk-estimator {font-family: monospace;background-color: #f0f8ff;border: 1px dotted black;border-radius: 0.25em;box-sizing: border-box;margin-bottom: 0.5em;}#sk-container-id-2 div.sk-estimator:hover {background-color: #d4ebff;}#sk-container-id-2 div.sk-parallel-item::after {content: \"\";width: 100%;border-bottom: 1px solid gray;flex-grow: 1;}#sk-container-id-2 div.sk-label:hover label.sk-toggleable__label {background-color: #d4ebff;}#sk-container-id-2 div.sk-serial::before {content: \"\";position: absolute;border-left: 1px solid gray;box-sizing: border-box;top: 0;bottom: 0;left: 50%;z-index: 0;}#sk-container-id-2 div.sk-serial {display: flex;flex-direction: column;align-items: center;background-color: white;padding-right: 0.2em;padding-left: 0.2em;position: relative;}#sk-container-id-2 div.sk-item {position: relative;z-index: 1;}#sk-container-id-2 div.sk-parallel {display: flex;align-items: stretch;justify-content: center;background-color: white;position: relative;}#sk-container-id-2 div.sk-item::before, #sk-container-id-2 div.sk-parallel-item::before {content: \"\";position: absolute;border-left: 1px solid gray;box-sizing: border-box;top: 0;bottom: 0;left: 50%;z-index: -1;}#sk-container-id-2 div.sk-parallel-item {display: flex;flex-direction: column;z-index: 1;position: relative;background-color: white;}#sk-container-id-2 div.sk-parallel-item:first-child::after {align-self: flex-end;width: 50%;}#sk-container-id-2 div.sk-parallel-item:last-child::after {align-self: flex-start;width: 50%;}#sk-container-id-2 div.sk-parallel-item:only-child::after {width: 0;}#sk-container-id-2 div.sk-dashed-wrapped {border: 1px dashed gray;margin: 0 0.4em 0.5em 0.4em;box-sizing: border-box;padding-bottom: 0.4em;background-color: white;}#sk-container-id-2 div.sk-label label {font-family: monospace;font-weight: bold;display: inline-block;line-height: 1.2em;}#sk-container-id-2 div.sk-label-container {text-align: center;}#sk-container-id-2 div.sk-container {/* jupyter's `normalize.less` sets `[hidden] { display: none; }` but bootstrap.min.css set `[hidden] { display: none !important; }` so we also need the `!important` here to be able to override the default hidden behavior on the sphinx rendered scikit-learn.org. See: https://github.com/scikit-learn/scikit-learn/issues/21755 */display: inline-block !important;position: relative;}#sk-container-id-2 div.sk-text-repr-fallback {display: none;}</style><div id=\"sk-container-id-2\" class=\"sk-top-container\"><div class=\"sk-text-repr-fallback\"><pre>LinearSVC()</pre><b>In a Jupyter environment, please rerun this cell to show the HTML representation or trust the notebook. <br />On GitHub, the HTML representation is unable to render, please try loading this page with nbviewer.org.</b></div><div class=\"sk-container\" hidden><div class=\"sk-item\"><div class=\"sk-estimator sk-toggleable\"><input class=\"sk-toggleable__control sk-hidden--visually\" id=\"sk-estimator-id-2\" type=\"checkbox\" checked><label for=\"sk-estimator-id-2\" class=\"sk-toggleable__label sk-toggleable__label-arrow\">LinearSVC</label><div class=\"sk-toggleable__content\"><pre>LinearSVC()</pre></div></div></div></div></div>"
      ],
      "text/plain": [
       "LinearSVC()"
      ]
     },
     "execution_count": 78,
     "metadata": {},
     "output_type": "execute_result"
    }
   ],
   "source": [
    "svc_tfidf.fit(X_train_tfidf, y_train)"
   ]
  },
  {
   "cell_type": "code",
   "execution_count": 79,
   "id": "7fc124bc",
   "metadata": {},
   "outputs": [],
   "source": [
    "pred_tfidf = svc_tfidf.predict(X_test_tfidf)"
   ]
  },
  {
   "cell_type": "code",
   "execution_count": 80,
   "id": "05950b00",
   "metadata": {},
   "outputs": [
    {
     "data": {
      "text/plain": [
       "0.5636939192369285"
      ]
     },
     "execution_count": 80,
     "metadata": {},
     "output_type": "execute_result"
    }
   ],
   "source": [
    "f1_score(y_test, pred_tfidf, average='macro')"
   ]
  },
  {
   "cell_type": "code",
   "execution_count": null,
   "id": "4878531c",
   "metadata": {},
   "outputs": [],
   "source": []
  },
  {
   "cell_type": "markdown",
   "id": "c9f1495f",
   "metadata": {
    "id": "c9f1495f"
   },
   "source": [
    "# Решение\n",
    "(для куратора)"
   ]
  },
  {
   "cell_type": "code",
   "execution_count": null,
   "id": "bcea7b71",
   "metadata": {
    "id": "bcea7b71"
   },
   "outputs": [],
   "source": [
    "import pandas as pd\n",
    "import numpy as np\n",
    "from nltk.corpus import stopwords\n",
    "from nltk.tokenize import RegexpTokenizer\n",
    "import pymorphy2\n",
    "\n",
    "from sklearn.preprocessing import LabelEncoder\n",
    "from sklearn.svm import LinearSVC\n",
    "from sklearn.model_selection import train_test_split\n",
    "from sklearn.feature_extraction.text import TfidfVectorizer, CountVectorizer\n",
    "from sklearn.metrics import classification_report\n",
    "from sklearn.metrics import f1_score"
   ]
  },
  {
   "cell_type": "code",
   "execution_count": null,
   "id": "94724837",
   "metadata": {
    "id": "94724837",
    "outputId": "e2da96e0-7ff8-408c-c1dd-942dc1921580"
   },
   "outputs": [
    {
     "data": {
      "text/html": [
       "<div>\n",
       "<style scoped>\n",
       "    .dataframe tbody tr th:only-of-type {\n",
       "        vertical-align: middle;\n",
       "    }\n",
       "\n",
       "    .dataframe tbody tr th {\n",
       "        vertical-align: top;\n",
       "    }\n",
       "\n",
       "    .dataframe thead th {\n",
       "        text-align: right;\n",
       "    }\n",
       "</style>\n",
       "<table border=\"1\" class=\"dataframe\">\n",
       "  <thead>\n",
       "    <tr style=\"text-align: right;\">\n",
       "      <th></th>\n",
       "      <th>theme</th>\n",
       "      <th>text</th>\n",
       "    </tr>\n",
       "  </thead>\n",
       "  <tbody>\n",
       "    <tr>\n",
       "      <th>0</th>\n",
       "      <td>aforizmi</td>\n",
       "      <td>Почему удар в спину наносят те, кого,как прави...</td>\n",
       "    </tr>\n",
       "    <tr>\n",
       "      <th>1</th>\n",
       "      <td>aforizmi</td>\n",
       "      <td>Музы - пожалуй самые мудрые представительницы...</td>\n",
       "    </tr>\n",
       "    <tr>\n",
       "      <th>2</th>\n",
       "      <td>aforizmi</td>\n",
       "      <td>Тяжело бухать всю ночь, особенно если ночь пол...</td>\n",
       "    </tr>\n",
       "    <tr>\n",
       "      <th>3</th>\n",
       "      <td>aforizmi</td>\n",
       "      <td>ПОКУШЕНИЕ. НАЛИЧНОСТЬ.\\r\\n\\r\\n\\r\\n</td>\n",
       "    </tr>\n",
       "    <tr>\n",
       "      <th>4</th>\n",
       "      <td>aforizmi</td>\n",
       "      <td>Когда медленно танцуешь, ничего не мешает...\\r...</td>\n",
       "    </tr>\n",
       "  </tbody>\n",
       "</table>\n",
       "</div>"
      ],
      "text/plain": [
       "      theme                                               text\n",
       "0  aforizmi  Почему удар в спину наносят те, кого,как прави...\n",
       "1  aforizmi  Музы - пожалуй самые мудрые представительницы...\n",
       "2  aforizmi  Тяжело бухать всю ночь, особенно если ночь пол...\n",
       "3  aforizmi                 ПОКУШЕНИЕ. НАЛИЧНОСТЬ.\\r\\n\\r\\n\\r\\n\n",
       "4  aforizmi  Когда медленно танцуешь, ничего не мешает...\\r..."
      ]
     },
     "execution_count": 21,
     "metadata": {},
     "output_type": "execute_result"
    }
   ],
   "source": [
    "df = pd.read_csv('data/skillbox/ml_jun18/m18_jokes_dataset.csv')\n",
    "\n",
    "df.head()"
   ]
  },
  {
   "cell_type": "code",
   "execution_count": null,
   "id": "a033a0df",
   "metadata": {
    "id": "a033a0df",
    "outputId": "d943e121-9753-42e3-84db-f4a80047a322"
   },
   "outputs": [
    {
     "data": {
      "text/plain": [
       "theme\n",
       "aforizmi                 1000\n",
       "meditsinskie             1000\n",
       "narodnie                 1000\n",
       "poshlie-i-intimnie       1000\n",
       "pro-alkogolikov          1000\n",
       "pro-armiu                1000\n",
       "pro-detey                1000\n",
       "pro-evreev               1000\n",
       "pro-militsiyu            1000\n",
       "pro-mugchin              1000\n",
       "pro-novih-russkih        1000\n",
       "pro-semyu                1000\n",
       "pro-studentov            1000\n",
       "pro-vovochku             1000\n",
       "raznie                   1000\n",
       "shkolnie-i-pro-shkolu    1000\n",
       "tsitati                  1000\n",
       "dtype: int64"
      ]
     },
     "execution_count": 22,
     "metadata": {},
     "output_type": "execute_result"
    }
   ],
   "source": [
    "# Датасет идеально сбалансирован\n",
    "df.groupby('theme').size()"
   ]
  },
  {
   "cell_type": "code",
   "execution_count": null,
   "id": "82232bec",
   "metadata": {
    "id": "82232bec",
    "outputId": "05833735-1fb0-482f-d2b3-2430dd14d997"
   },
   "outputs": [
    {
     "data": {
      "text/html": [
       "<div>\n",
       "<style scoped>\n",
       "    .dataframe tbody tr th:only-of-type {\n",
       "        vertical-align: middle;\n",
       "    }\n",
       "\n",
       "    .dataframe tbody tr th {\n",
       "        vertical-align: top;\n",
       "    }\n",
       "\n",
       "    .dataframe thead th {\n",
       "        text-align: right;\n",
       "    }\n",
       "</style>\n",
       "<table border=\"1\" class=\"dataframe\">\n",
       "  <thead>\n",
       "    <tr style=\"text-align: right;\">\n",
       "      <th></th>\n",
       "      <th>theme</th>\n",
       "      <th>text</th>\n",
       "    </tr>\n",
       "  </thead>\n",
       "  <tbody>\n",
       "    <tr>\n",
       "      <th>7414</th>\n",
       "      <td>7</td>\n",
       "      <td>Узкая Одесская улочка. Из окна на втором этаже...</td>\n",
       "    </tr>\n",
       "    <tr>\n",
       "      <th>10950</th>\n",
       "      <td>10</td>\n",
       "      <td>Едет крутой джип, весь грязный. Сзади написа...</td>\n",
       "    </tr>\n",
       "    <tr>\n",
       "      <th>15859</th>\n",
       "      <td>15</td>\n",
       "      <td>Марья Ивановна спрашивает Вовочку:\\r\\n- Почему...</td>\n",
       "    </tr>\n",
       "    <tr>\n",
       "      <th>428</th>\n",
       "      <td>0</td>\n",
       "      <td>На самом деле у меня гора мышц, вот только под...</td>\n",
       "    </tr>\n",
       "    <tr>\n",
       "      <th>2483</th>\n",
       "      <td>2</td>\n",
       "      <td>- Абраша, ты как, устроился на работу?\\r\\n- Да...</td>\n",
       "    </tr>\n",
       "  </tbody>\n",
       "</table>\n",
       "</div>"
      ],
      "text/plain": [
       "       theme                                               text\n",
       "7414       7  Узкая Одесская улочка. Из окна на втором этаже...\n",
       "10950     10  Едет крутой джип, весь грязный. Сзади написа...\n",
       "15859     15  Марья Ивановна спрашивает Вовочку:\\r\\n- Почему...\n",
       "428        0  На самом деле у меня гора мышц, вот только под...\n",
       "2483       2  - Абраша, ты как, устроился на работу?\\r\\n- Да..."
      ]
     },
     "execution_count": 23,
     "metadata": {},
     "output_type": "execute_result"
    }
   ],
   "source": [
    "# Кодируем категориальную целевую переменную (метку класса),\n",
    "# используя LabelEncoder\n",
    "\n",
    "label_encoder = LabelEncoder()\n",
    "df['theme'] = label_encoder.fit_transform(df['theme'])\n",
    "df.sample(5)"
   ]
  },
  {
   "cell_type": "code",
   "execution_count": null,
   "id": "cc79ab2c",
   "metadata": {
    "id": "cc79ab2c"
   },
   "outputs": [],
   "source": [
    "# Разделяем выборку на тренировочную и тестовую\n",
    "\n",
    "X_train, X_test, y_train, y_test = train_test_split(\n",
    "  df['text'], df['theme'],\n",
    "  test_size=0.2\n",
    ")"
   ]
  },
  {
   "cell_type": "code",
   "execution_count": null,
   "id": "fe4ff3e3",
   "metadata": {
    "id": "fe4ff3e3"
   },
   "outputs": [],
   "source": [
    "# Создаём функцию препроцессинга, которую будем использовать в векторизаторах\n",
    "\n",
    "tokenizer = RegexpTokenizer('\\w+')\n",
    "russian_stopwords = stopwords.words('russian')\n",
    "morph = pymorphy2.MorphAnalyzer()\n",
    "\n",
    "def preprocess(text):\n",
    "    stemmed_words = []\n",
    "    for word in tokenizer.tokenize(text):\n",
    "        word = word.lower()\n",
    "        if word not in russian_stopwords:\n",
    "            stemmed_words.append(morph.parse(word)[0].normal_form)\n",
    "    return ' '.join(stemmed_words)"
   ]
  },
  {
   "cell_type": "code",
   "execution_count": null,
   "id": "53151c8d",
   "metadata": {
    "id": "53151c8d"
   },
   "outputs": [],
   "source": [
    "# Создаём векторизаторы с одинаковым препроцессингом\n",
    "\n",
    "count_vectorizer = CountVectorizer(\n",
    "    preprocessor=preprocess\n",
    ")\n",
    "\n",
    "tfidf_vectorizer = TfidfVectorizer(\n",
    "    preprocessor=preprocess\n",
    ")"
   ]
  },
  {
   "cell_type": "code",
   "execution_count": null,
   "id": "3e2d6866",
   "metadata": {
    "id": "3e2d6866",
    "outputId": "f78f1e99-c0d8-41e2-a558-f849a021a0cb"
   },
   "outputs": [
    {
     "name": "stdout",
     "output_type": "stream",
     "text": [
      "CPU times: user 43.4 s, sys: 216 ms, total: 43.6 s\n",
      "Wall time: 43.9 s\n"
     ]
    }
   ],
   "source": [
    "%%time\n",
    "\n",
    "# Векторизуем текст, используя CountVectorizer\n",
    "X_train_count = count_vectorizer.fit_transform(X_train)\n",
    "X_test_count = count_vectorizer.transform(X_test)"
   ]
  },
  {
   "cell_type": "code",
   "execution_count": null,
   "id": "34536677",
   "metadata": {
    "id": "34536677",
    "outputId": "929fade6-95ce-4fd8-bf90-0bbebc7e1980"
   },
   "outputs": [
    {
     "name": "stdout",
     "output_type": "stream",
     "text": [
      "CPU times: user 43.2 s, sys: 176 ms, total: 43.4 s\n",
      "Wall time: 43.6 s\n"
     ]
    }
   ],
   "source": [
    "%%time\n",
    "\n",
    "# Векторизуем текст, используя TfidfVectorizer\n",
    "X_train_tfidf = tfidf_vectorizer.fit_transform(X_train)\n",
    "X_test_tfidf = tfidf_vectorizer.transform(X_test)"
   ]
  },
  {
   "cell_type": "code",
   "execution_count": null,
   "id": "bc51ee7d",
   "metadata": {
    "id": "bc51ee7d",
    "outputId": "29a03fbe-808c-40ad-f54d-71988cb01e81"
   },
   "outputs": [
    {
     "name": "stdout",
     "output_type": "stream",
     "text": [
      "              precision    recall  f1-score   support\n",
      "\n",
      "           0       0.39      0.65      0.49       198\n",
      "           1       0.52      0.51      0.51       209\n",
      "           2       0.48      0.39      0.43       201\n",
      "           3       0.39      0.37      0.38       215\n",
      "           4       0.89      0.84      0.86       196\n",
      "           5       0.65      0.68      0.66       197\n",
      "           6       0.95      0.91      0.93       198\n",
      "           7       0.78      0.81      0.80       206\n",
      "           8       0.84      0.64      0.73       182\n",
      "           9       0.32      0.35      0.33       211\n",
      "          10       0.75      0.80      0.78       163\n",
      "          11       0.36      0.46      0.40       192\n",
      "          12       0.75      0.74      0.74       223\n",
      "          13       0.87      0.85      0.86       192\n",
      "          14       0.12      0.13      0.13       183\n",
      "          15       0.97      0.87      0.91       226\n",
      "          16       0.68      0.34      0.45       208\n",
      "\n",
      "    accuracy                           0.61      3400\n",
      "   macro avg       0.63      0.61      0.61      3400\n",
      "weighted avg       0.63      0.61      0.61      3400\n",
      "\n"
     ]
    }
   ],
   "source": [
    "svc_count = LinearSVC(max_iter=10000)\n",
    "\n",
    "svc_count.fit(X_train_count, y_train)\n",
    "\n",
    "y_pred_count = svc_count.predict(X_test_count)\n",
    "\n",
    "print(classification_report(y_test, y_pred_count))"
   ]
  },
  {
   "cell_type": "code",
   "execution_count": null,
   "id": "5fdda855",
   "metadata": {
    "id": "5fdda855",
    "outputId": "909731c5-0ceb-46d6-e756-b7c97e32858c"
   },
   "outputs": [
    {
     "data": {
      "text/plain": [
       "0.6117208815090223"
      ]
     },
     "execution_count": 30,
     "metadata": {},
     "output_type": "execute_result"
    }
   ],
   "source": [
    "f1_score(y_test, y_pred_count, average='macro')"
   ]
  },
  {
   "cell_type": "code",
   "execution_count": null,
   "id": "336ea929",
   "metadata": {
    "id": "336ea929",
    "outputId": "6ef91fec-0f60-4a20-c0bf-9c5c7d1c9944"
   },
   "outputs": [
    {
     "name": "stdout",
     "output_type": "stream",
     "text": [
      "              precision    recall  f1-score   support\n",
      "\n",
      "           0       0.39      0.42      0.40       198\n",
      "           1       0.58      0.60      0.59       209\n",
      "           2       0.51      0.50      0.51       201\n",
      "           3       0.44      0.50      0.47       215\n",
      "           4       0.86      0.86      0.86       196\n",
      "           5       0.69      0.74      0.72       197\n",
      "           6       0.91      0.92      0.91       198\n",
      "           7       0.80      0.85      0.82       206\n",
      "           8       0.82      0.69      0.75       182\n",
      "           9       0.36      0.34      0.35       211\n",
      "          10       0.74      0.87      0.80       163\n",
      "          11       0.40      0.49      0.44       192\n",
      "          12       0.78      0.74      0.76       223\n",
      "          13       0.85      0.88      0.86       192\n",
      "          14       0.14      0.11      0.12       183\n",
      "          15       0.95      0.88      0.92       226\n",
      "          16       0.63      0.49      0.55       208\n",
      "\n",
      "    accuracy                           0.64      3400\n",
      "   macro avg       0.64      0.64      0.64      3400\n",
      "weighted avg       0.64      0.64      0.64      3400\n",
      "\n",
      "CPU times: user 290 ms, sys: 5.79 ms, total: 296 ms\n",
      "Wall time: 295 ms\n"
     ]
    }
   ],
   "source": [
    "%%time\n",
    "\n",
    "svc_tfidf = LinearSVC(max_iter=10000)\n",
    "\n",
    "svc_tfidf.fit(X_train_tfidf, y_train)\n",
    "\n",
    "y_pred_tfidf = svc_tfidf.predict(X_test_tfidf)\n",
    "\n",
    "print(classification_report(y_test, y_pred_tfidf))"
   ]
  },
  {
   "cell_type": "code",
   "execution_count": null,
   "id": "58905c0a",
   "metadata": {
    "id": "58905c0a",
    "outputId": "301b41e6-a87e-41f5-e611-3cf167f25b94"
   },
   "outputs": [
    {
     "data": {
      "text/plain": [
       "0.6373363554759008"
      ]
     },
     "execution_count": 32,
     "metadata": {},
     "output_type": "execute_result"
    }
   ],
   "source": [
    "f1_score(y_test, y_pred_tfidf, average='macro')"
   ]
  },
  {
   "cell_type": "code",
   "execution_count": null,
   "id": "a5ce7426",
   "metadata": {
    "id": "a5ce7426"
   },
   "outputs": [],
   "source": []
  }
 ],
 "metadata": {
  "colab": {
   "provenance": []
  },
  "kernelspec": {
   "display_name": "Python 3 (ipykernel)",
   "language": "python",
   "name": "python3"
  },
  "language_info": {
   "codemirror_mode": {
    "name": "ipython",
    "version": 3
   },
   "file_extension": ".py",
   "mimetype": "text/x-python",
   "name": "python",
   "nbconvert_exporter": "python",
   "pygments_lexer": "ipython3",
   "version": "3.10.9"
  }
 },
 "nbformat": 4,
 "nbformat_minor": 5
}
