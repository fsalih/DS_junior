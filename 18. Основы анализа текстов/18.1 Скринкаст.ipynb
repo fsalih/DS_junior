{
  "cells": [
    {
      "cell_type": "code",
      "execution_count": null,
      "id": "ad438103",
      "metadata": {
        "id": "ad438103"
      },
      "outputs": [],
      "source": [
        "import re"
      ]
    },
    {
      "cell_type": "code",
      "execution_count": null,
      "id": "a23e95ae",
      "metadata": {
        "id": "a23e95ae"
      },
      "outputs": [],
      "source": [
        "text = '''\n",
        "Just got my #NewBeatsStudio.  Niiiccceeee.....\n",
        "Michael Myers for Halloween #TrickOrTreat #ImComingForYou\n",
        "Livin a dream and I don't wanna wake up! #StriveForGreatness photo cred\n",
        "#Uninterrupted invaded LA\n",
        "#BrotherHood #Forever \n",
        "Can’t wait for Friday!!!!#raporgototheleague @2chainz 🔥🔥🔥🔥🤯\n",
        "#TeamLeBron👑 LETS GOOOOOOOOOO!!!!! 😱🤯😤😁\n",
        "#London in da hood at my fav spot\n",
        "#repost I died a thousand times\n",
        "This is harder than I thought.\n",
        "We can't wait. #atas 💋💋💋❤️🙋🏾 Hurry up!\n",
        "Have u ever seen cuter tennis shoes?? Can't wait to wear them!!\n",
        "Decisions #OvoJordans did you get yours?\n",
        "Throwback uni's for tonight's game #USA92 #hyperelite2012\n",
        "#Niketown NYC Serena's Angels. (where is that firecracker Ciana?)\n",
        "'''"
      ]
    },
    {
      "cell_type": "code",
      "execution_count": null,
      "id": "3ad96757",
      "metadata": {
        "id": "3ad96757",
        "outputId": "beb274b2-7684-4e8f-cb02-6ba13a28dd00"
      },
      "outputs": [
        {
          "name": "stdout",
          "output_type": "stream",
          "text": [
            "None\n"
          ]
        }
      ],
      "source": [
        "res = re.match('#\\w+', text)\n",
        "\n",
        "print(res)"
      ]
    },
    {
      "cell_type": "code",
      "execution_count": null,
      "id": "3f6285ee",
      "metadata": {
        "id": "3f6285ee",
        "outputId": "ce620294-893d-4c69-97c1-a08a213a06bb"
      },
      "outputs": [
        {
          "name": "stdout",
          "output_type": "stream",
          "text": [
            "<re.Match object; span=(0, 7), match='#repost'>\n"
          ]
        }
      ],
      "source": [
        "string = '#repost I died a thousand times'\n",
        "\n",
        "res = re.match('#\\w+', string)\n",
        "\n",
        "print(res)"
      ]
    },
    {
      "cell_type": "code",
      "execution_count": null,
      "id": "a85aa505",
      "metadata": {
        "id": "a85aa505",
        "outputId": "1af49143-07ee-41a2-cfce-5a966e1be61e"
      },
      "outputs": [
        {
          "name": "stdout",
          "output_type": "stream",
          "text": [
            "0 7\n"
          ]
        }
      ],
      "source": [
        "print(res.start(), res.end())"
      ]
    },
    {
      "cell_type": "code",
      "execution_count": null,
      "id": "891ccb62",
      "metadata": {
        "id": "891ccb62",
        "outputId": "723de5f2-eeb4-4c56-cc17-5795ae5fa651"
      },
      "outputs": [
        {
          "name": "stdout",
          "output_type": "stream",
          "text": [
            "#repost\n"
          ]
        }
      ],
      "source": [
        "print(string[res.start():res.end()])"
      ]
    },
    {
      "cell_type": "code",
      "execution_count": null,
      "id": "5bb005de",
      "metadata": {
        "id": "5bb005de",
        "outputId": "6557888b-266d-467e-97fc-c2b1dc1f4a2c"
      },
      "outputs": [
        {
          "data": {
            "text/plain": [
              "'#repost'"
            ]
          },
          "execution_count": 12,
          "metadata": {},
          "output_type": "execute_result"
        }
      ],
      "source": [
        "res[0]"
      ]
    },
    {
      "cell_type": "code",
      "execution_count": null,
      "id": "60099736",
      "metadata": {
        "id": "60099736",
        "outputId": "66910315-6cdc-4524-be9e-34a0e03c9d70"
      },
      "outputs": [
        {
          "ename": "IndexError",
          "evalue": "no such group",
          "output_type": "error",
          "traceback": [
            "\u001b[0;31m---------------------------------------------------------------------------\u001b[0m",
            "\u001b[0;31mIndexError\u001b[0m                                Traceback (most recent call last)",
            "\u001b[0;32m/var/folders/t4/c0dphjr97j3bbk4lsmhg6w2w0000gn/T/ipykernel_52217/4061430932.py\u001b[0m in \u001b[0;36m<module>\u001b[0;34m\u001b[0m\n\u001b[0;32m----> 1\u001b[0;31m \u001b[0mres\u001b[0m\u001b[0;34m[\u001b[0m\u001b[0;36m1\u001b[0m\u001b[0;34m]\u001b[0m\u001b[0;34m\u001b[0m\u001b[0;34m\u001b[0m\u001b[0m\n\u001b[0m",
            "\u001b[0;31mIndexError\u001b[0m: no such group"
          ]
        }
      ],
      "source": [
        "res[1]"
      ]
    },
    {
      "cell_type": "code",
      "execution_count": null,
      "id": "d2265cdf",
      "metadata": {
        "id": "d2265cdf",
        "outputId": "20cc342f-fd2e-46fd-cc25-05453dfe745c"
      },
      "outputs": [
        {
          "name": "stdout",
          "output_type": "stream",
          "text": [
            "<re.Match object; span=(13, 28), match='#NewBeatsStudio'>\n"
          ]
        }
      ],
      "source": [
        "res = re.search('#\\w+', text)\n",
        "\n",
        "print(res)"
      ]
    },
    {
      "cell_type": "code",
      "execution_count": null,
      "id": "4e19de95",
      "metadata": {
        "id": "4e19de95",
        "outputId": "b37789e8-8f23-40a0-9598-c16e0fdef69d"
      },
      "outputs": [
        {
          "name": "stdout",
          "output_type": "stream",
          "text": [
            "['#NewBeatsStudio', '#TrickOrTreat', '#ImComingForYou', '#StriveForGreatness', '#Uninterrupted', '#BrotherHood', '#Forever', '#raporgototheleague', '#TeamLeBron', '#London', '#repost', '#atas', '#OvoJordans', '#USA92', '#hyperelite2012', '#Niketown']\n"
          ]
        }
      ],
      "source": [
        "res = re.findall('#\\w+', text)\n",
        "\n",
        "print(res)"
      ]
    },
    {
      "cell_type": "code",
      "execution_count": null,
      "id": "e7e9aec7",
      "metadata": {
        "id": "e7e9aec7",
        "outputId": "f1a2bd70-b807-43d0-8f6c-1bbbb2dd1924"
      },
      "outputs": [
        {
          "name": "stdout",
          "output_type": "stream",
          "text": [
            "#NewBeatsStudio\n",
            "#TrickOrTreat\n",
            "#ImComingForYou\n",
            "#StriveForGreatness\n",
            "#Uninterrupted\n",
            "#BrotherHood\n",
            "#Forever\n",
            "#raporgototheleague\n",
            "#TeamLeBron\n",
            "#London\n",
            "#repost\n",
            "#atas\n",
            "#OvoJordans\n",
            "#USA92\n",
            "#hyperelite2012\n",
            "#Niketown\n"
          ]
        }
      ],
      "source": [
        "for tag in res:\n",
        "    print(tag)"
      ]
    },
    {
      "cell_type": "code",
      "execution_count": null,
      "id": "809f27f8",
      "metadata": {
        "id": "809f27f8",
        "outputId": "bf113648-1ed4-4ae4-d7eb-d96c00d77d4f"
      },
      "outputs": [
        {
          "name": "stdout",
          "output_type": "stream",
          "text": [
            "32171.0\n"
          ]
        }
      ],
      "source": [
        "import time\n",
        "\n",
        "attempts = 1000\n",
        "\n",
        "total = 0\n",
        "for _ in range(attempts):\n",
        "    start = time.time_ns()\n",
        "    for line in text.split('\\n'):\n",
        "        _ = re.search('#\\w+', line)\n",
        "    total += (time.time_ns() - start)\n",
        "    \n",
        "print(total/attempts)"
      ]
    },
    {
      "cell_type": "code",
      "execution_count": null,
      "id": "a3517966",
      "metadata": {
        "id": "a3517966",
        "outputId": "588ccf86-c553-44cf-b822-e237946b216e"
      },
      "outputs": [
        {
          "name": "stdout",
          "output_type": "stream",
          "text": [
            "13964.0\n"
          ]
        }
      ],
      "source": [
        "regex = re.compile('#\\w+')\n",
        "\n",
        "total = 0\n",
        "for _ in range(attempts):\n",
        "    start = time.time_ns()\n",
        "    for line in text.split('\\n'):\n",
        "        _ = regex.search(line)\n",
        "    total += (time.time_ns() - start)\n",
        "    \n",
        "print(total/attempts)"
      ]
    },
    {
      "cell_type": "code",
      "execution_count": null,
      "id": "1d62039b",
      "metadata": {
        "id": "1d62039b"
      },
      "outputs": [],
      "source": []
    }
  ],
  "metadata": {
    "kernelspec": {
      "display_name": "Python 3 (ipykernel)",
      "language": "python",
      "name": "python3"
    },
    "language_info": {
      "codemirror_mode": {
        "name": "ipython",
        "version": 3
      },
      "file_extension": ".py",
      "mimetype": "text/x-python",
      "name": "python",
      "nbconvert_exporter": "python",
      "pygments_lexer": "ipython3",
      "version": "3.9.7"
    },
    "colab": {
      "provenance": []
    }
  },
  "nbformat": 4,
  "nbformat_minor": 5
}