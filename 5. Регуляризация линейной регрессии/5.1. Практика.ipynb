{
 "cells": [
  {
   "cell_type": "markdown",
   "metadata": {
    "id": "47TV_9yv8xLv"
   },
   "source": [
    "# Практика. Анализ результатов линейной регрессии"
   ]
  },
  {
   "cell_type": "markdown",
   "metadata": {
    "id": "086gkcsC81Ci"
   },
   "source": [
    "## Цели практической работы\n",
    "\n",
    "Научиться строить модель линейной регрессии и производить отбор признаков."
   ]
  },
  {
   "cell_type": "markdown",
   "metadata": {
    "id": "J87KqvPh81FI"
   },
   "source": [
    "## Что входит в практическую работу\n",
    "\n",
    "- Загрузить данные и ознакомиться с ними.\n",
    "- Реализовать цикл отбора переменных.\n",
    "- Реализовать построение модели с помощью библиотеки Scikit-learn.\n",
    "- Получить качество модели с помощью MSE, MAE, R^2.\n",
    "- Сравнить полученные модели и сделать выводы."
   ]
  },
  {
   "cell_type": "markdown",
   "metadata": {
    "id": "qWVDfsH881Km"
   },
   "source": [
    "Задание не нужно сдавать на проверку. После его выполнения сверьтесь с ответами ниже."
   ]
  },
  {
   "cell_type": "markdown",
   "metadata": {
    "id": "4kf2Jvd5FlCV"
   },
   "source": [
    "Пусть у нас имеется некоторый набор данных `Salary_Data.csv` о заработной плате сотрудников одной специальности."
   ]
  },
  {
   "cell_type": "markdown",
   "metadata": {
    "id": "5XwITrrWFnFa"
   },
   "source": [
    "В этих данных:\n",
    "- Salary — заработная плата.\n",
    "- YearsExperience — опыт работы.\n",
    "- Floor — этаж, на котором работает сотрудник.\n",
    "- Type — тип работы: офлайн или онлайн."
   ]
  },
  {
   "cell_type": "markdown",
   "metadata": {
    "id": "1Y42YaIUK6XY"
   },
   "source": [
    "Постройте модель линейной регрессии зависимости Salary от остальных параметров. "
   ]
  },
  {
   "cell_type": "markdown",
   "metadata": {
    "id": "Oc75wA7gFnPi"
   },
   "source": [
    "Реализуйте построение модели линейной регрессии, используя только одну переменную, и посмотрите на качество модели. Сделайте так циклом по всем переменным. Далее, наоборот, реализуйте построение модели без участия каждой переменной по очереди.\n",
    "\n",
    "На каждом шаге проверьте качество модели с помощью MAE, MSE, R^2. Сделайте выводы о важности переменных."
   ]
  },
  {
   "cell_type": "markdown",
   "metadata": {
    "id": "-UHjeb1081OF"
   },
   "source": [
    "## Задача"
   ]
  },
  {
   "cell_type": "code",
   "execution_count": 8,
   "metadata": {
    "id": "61rJ1Jgi7I4d"
   },
   "outputs": [],
   "source": [
    "# подключить необходимые библиотеки\n",
    "import numpy as np\n",
    "import pandas as pd\n",
    "\n",
    "from sklearn.metrics import mean_absolute_error, mean_squared_error, r2_score\n",
    "\n",
    "from sklearn.linear_model import LinearRegression\n",
    "\n",
    "from sklearn.model_selection import train_test_split\n",
    "\n",
    "# Ваш код здесь"
   ]
  },
  {
   "cell_type": "code",
   "execution_count": 5,
   "metadata": {
    "id": "APZhsDjgGX-H"
   },
   "outputs": [],
   "source": [
    "# считать данные\n",
    "df = pd.read_csv('5.1 Salary_Data.csv')\n",
    "\n",
    "RS = 42\n",
    "train, test = train_test_split(df, test_size=0.2, random_state=RS)\n",
    "# Ваш код здесь"
   ]
  },
  {
   "cell_type": "code",
   "execution_count": 7,
   "metadata": {},
   "outputs": [],
   "source": [
    "features = ['YearsExperience', 'Floor', 'Type']\n",
    "target = 'Salary'"
   ]
  },
  {
   "cell_type": "code",
   "execution_count": 12,
   "metadata": {
    "id": "DQ7q-vVhGYDP"
   },
   "outputs": [
    {
     "name": "stdout",
     "output_type": "stream",
     "text": [
      "YearsExperience\n",
      "MAE: train: 12480.149365357225, test: 16399.869219041168\n",
      "MSE: train: 330143844.6411523, test: 590409929.2593347\n",
      "R^2: train: 0.5748556624617882, test: 0.19313309601385642\n",
      "Floor\n",
      "MAE: train: 23345.420613509195, test: 26060.968824940046\n",
      "MSE: train: 773422703.2415568, test: 1135299210.6460478\n",
      "R^2: train: 0.004021161854314448, test: -0.5515243118303406\n",
      "Type\n",
      "MAE: train: 20597.565476190477, test: 33842.62857142857\n",
      "MSE: train: 663707568.989881, test: 1525871109.8101358\n",
      "R^2: train: 0.14530735823954433, test: -1.0852882670840343\n"
     ]
    }
   ],
   "source": [
    "# обучить модель линейной регрессии циклом для каждой отдельной переменной и \n",
    "# проверить качество модели на обучающей и тестовой выборках с помощью MAE, MSE, R^2\n",
    "\n",
    "# Ваш код здесь\n",
    "\n",
    "for feature in features:\n",
    "    model = LinearRegression()\n",
    "    model.fit(train[[feature]], train[target])\n",
    "    pred_train = model.predict(train[[feature]])\n",
    "    pred_test = model.predict(test[[feature]])\n",
    "    print(feature)\n",
    "    print(f'MAE: train: {mean_absolute_error(train[target], pred_train)}, test: {mean_absolute_error(test[target], pred_test)}')\n",
    "    print(f'MSE: train: {mean_squared_error(train[target], pred_train)}, test: {mean_squared_error(test[target], pred_test)}')\n",
    "    print(f'R^2: train: {r2_score(train[target], pred_train)}, test: {r2_score(test[target], pred_test)}')\n"
   ]
  },
  {
   "cell_type": "code",
   "execution_count": 13,
   "metadata": {
    "id": "cR1RnsHfGYFt"
   },
   "outputs": [
    {
     "name": "stdout",
     "output_type": "stream",
     "text": [
      "YearsExperience\n",
      "MAE: train: 20642.41597570606, test: 33038.42210144928\n",
      "MSE: train: 653695411.7337843, test: 1480926423.7493114\n",
      "R^2: train: 0.15820056231729507, test: -1.0238658927380944\n",
      "Floor\n",
      "MAE: train: 12497.161015404068, test: 17163.304399610464\n",
      "MSE: train: 327499792.2818012, test: 597383262.6831645\n",
      "R^2: train: 0.5782605537144314, test: 0.18360318862017977\n",
      "Type\n",
      "MAE: train: 12186.464984695054, test: 16294.37417723282\n",
      "MSE: train: 326575784.07967347, test: 587063096.5210887\n",
      "R^2: train: 0.5794504497592918, test: 0.19770694959564783\n"
     ]
    }
   ],
   "source": [
    "# обучить модель линейной регрессии циклом при исключении по очереди каждой отдельной переменной и \n",
    "# проверить качество модели на обучающей и тестовой выборках с помощью MAE, MSE, R^2\n",
    "\n",
    "# Ваш код здесь\n",
    "\n",
    "for feature in features:\n",
    "    model = LinearRegression()\n",
    "    model.fit(train[features].drop(columns=[feature]), train[target])\n",
    "    pred_train = model.predict(train[features].drop(columns=[feature]))\n",
    "    pred_test = model.predict(test[features].drop(columns=[feature]))\n",
    "    print(feature)\n",
    "    print(f'MAE: train: {mean_absolute_error(train[target], pred_train)}, test: {mean_absolute_error(test[target], pred_test)}')\n",
    "    print(f'MSE: train: {mean_squared_error(train[target], pred_train)}, test: {mean_squared_error(test[target], pred_test)}')\n",
    "    print(f'R^2: train: {r2_score(train[target], pred_train)}, test: {r2_score(test[target], pred_test)}')\n"
   ]
  },
  {
   "cell_type": "code",
   "execution_count": null,
   "metadata": {
    "id": "OL37-A6fGsPB"
   },
   "outputs": [],
   "source": [
    "# какие выводы можно сделать?"
   ]
  },
  {
   "cell_type": "markdown",
   "metadata": {
    "id": "4Xsw3MkCGwrc"
   },
   "source": [
    "|"
   ]
  },
  {
   "cell_type": "markdown",
   "metadata": {
    "id": "a64xWjIrGw4I"
   },
   "source": [
    "|"
   ]
  },
  {
   "cell_type": "markdown",
   "metadata": {
    "id": "nh1Z8SEWG0o9"
   },
   "source": [
    "## Ответы для самостоятельной проверки"
   ]
  },
  {
   "cell_type": "code",
   "execution_count": null,
   "metadata": {
    "id": "B8GeMTmKG6Xn"
   },
   "outputs": [],
   "source": [
    "# подключить библиотеки\n",
    "import pandas as pd\n",
    "from sklearn.linear_model import LinearRegression\n",
    "from sklearn.model_selection import train_test_split\n",
    "from sklearn.metrics import mean_squared_error\n",
    "from sklearn.metrics import mean_absolute_error\n",
    "from sklearn.metrics import r2_score"
   ]
  },
  {
   "cell_type": "code",
   "execution_count": null,
   "metadata": {
    "id": "gNQm1n1-HAOw"
   },
   "outputs": [],
   "source": [
    "# считать данные\n",
    "df = pd.read_csv('Salary_Data.csv')"
   ]
  },
  {
   "cell_type": "code",
   "execution_count": null,
   "metadata": {
    "colab": {
     "base_uri": "https://localhost:8080/",
     "height": 260
    },
    "executionInfo": {
     "elapsed": 10,
     "status": "ok",
     "timestamp": 1656919802110,
     "user": {
      "displayName": "Маргарита Широбокова",
      "userId": "15867443346324107010"
     },
     "user_tz": -240
    },
    "id": "ePFMvKeGHGWa",
    "outputId": "de901924-3572-41f7-9d93-f1b45004eb98"
   },
   "outputs": [
    {
     "data": {
      "text/html": [
       "\n",
       "  <div id=\"df-131e7555-2927-4938-a4a5-016c71c0cf38\">\n",
       "    <div class=\"colab-df-container\">\n",
       "      <div>\n",
       "<style scoped>\n",
       "    .dataframe tbody tr th:only-of-type {\n",
       "        vertical-align: middle;\n",
       "    }\n",
       "\n",
       "    .dataframe tbody tr th {\n",
       "        vertical-align: top;\n",
       "    }\n",
       "\n",
       "    .dataframe thead th {\n",
       "        text-align: right;\n",
       "    }\n",
       "</style>\n",
       "<table border=\"1\" class=\"dataframe\">\n",
       "  <thead>\n",
       "    <tr style=\"text-align: right;\">\n",
       "      <th></th>\n",
       "      <th>YearsExperience</th>\n",
       "      <th>Floor</th>\n",
       "      <th>Type</th>\n",
       "      <th>Salary</th>\n",
       "    </tr>\n",
       "  </thead>\n",
       "  <tbody>\n",
       "    <tr>\n",
       "      <th>0</th>\n",
       "      <td>1.1</td>\n",
       "      <td>18</td>\n",
       "      <td>1</td>\n",
       "      <td>39343.0</td>\n",
       "    </tr>\n",
       "    <tr>\n",
       "      <th>1</th>\n",
       "      <td>1.3</td>\n",
       "      <td>17</td>\n",
       "      <td>1</td>\n",
       "      <td>46205.0</td>\n",
       "    </tr>\n",
       "    <tr>\n",
       "      <th>2</th>\n",
       "      <td>1.5</td>\n",
       "      <td>10</td>\n",
       "      <td>0</td>\n",
       "      <td>37731.0</td>\n",
       "    </tr>\n",
       "    <tr>\n",
       "      <th>3</th>\n",
       "      <td>2.0</td>\n",
       "      <td>13</td>\n",
       "      <td>0</td>\n",
       "      <td>73525.0</td>\n",
       "    </tr>\n",
       "    <tr>\n",
       "      <th>4</th>\n",
       "      <td>2.2</td>\n",
       "      <td>1</td>\n",
       "      <td>0</td>\n",
       "      <td>39891.0</td>\n",
       "    </tr>\n",
       "  </tbody>\n",
       "</table>\n",
       "</div>\n",
       "      <button class=\"colab-df-convert\" onclick=\"convertToInteractive('df-131e7555-2927-4938-a4a5-016c71c0cf38')\"\n",
       "              title=\"Convert this dataframe to an interactive table.\"\n",
       "              style=\"display:none;\">\n",
       "        \n",
       "  <svg xmlns=\"http://www.w3.org/2000/svg\" height=\"24px\"viewBox=\"0 0 24 24\"\n",
       "       width=\"24px\">\n",
       "    <path d=\"M0 0h24v24H0V0z\" fill=\"none\"/>\n",
       "    <path d=\"M18.56 5.44l.94 2.06.94-2.06 2.06-.94-2.06-.94-.94-2.06-.94 2.06-2.06.94zm-11 1L8.5 8.5l.94-2.06 2.06-.94-2.06-.94L8.5 2.5l-.94 2.06-2.06.94zm10 10l.94 2.06.94-2.06 2.06-.94-2.06-.94-.94-2.06-.94 2.06-2.06.94z\"/><path d=\"M17.41 7.96l-1.37-1.37c-.4-.4-.92-.59-1.43-.59-.52 0-1.04.2-1.43.59L10.3 9.45l-7.72 7.72c-.78.78-.78 2.05 0 2.83L4 21.41c.39.39.9.59 1.41.59.51 0 1.02-.2 1.41-.59l7.78-7.78 2.81-2.81c.8-.78.8-2.07 0-2.86zM5.41 20L4 18.59l7.72-7.72 1.47 1.35L5.41 20z\"/>\n",
       "  </svg>\n",
       "      </button>\n",
       "      \n",
       "  <style>\n",
       "    .colab-df-container {\n",
       "      display:flex;\n",
       "      flex-wrap:wrap;\n",
       "      gap: 12px;\n",
       "    }\n",
       "\n",
       "    .colab-df-convert {\n",
       "      background-color: #E8F0FE;\n",
       "      border: none;\n",
       "      border-radius: 50%;\n",
       "      cursor: pointer;\n",
       "      display: none;\n",
       "      fill: #1967D2;\n",
       "      height: 32px;\n",
       "      padding: 0 0 0 0;\n",
       "      width: 32px;\n",
       "    }\n",
       "\n",
       "    .colab-df-convert:hover {\n",
       "      background-color: #E2EBFA;\n",
       "      box-shadow: 0px 1px 2px rgba(60, 64, 67, 0.3), 0px 1px 3px 1px rgba(60, 64, 67, 0.15);\n",
       "      fill: #174EA6;\n",
       "    }\n",
       "\n",
       "    [theme=dark] .colab-df-convert {\n",
       "      background-color: #3B4455;\n",
       "      fill: #D2E3FC;\n",
       "    }\n",
       "\n",
       "    [theme=dark] .colab-df-convert:hover {\n",
       "      background-color: #434B5C;\n",
       "      box-shadow: 0px 1px 3px 1px rgba(0, 0, 0, 0.15);\n",
       "      filter: drop-shadow(0px 1px 2px rgba(0, 0, 0, 0.3));\n",
       "      fill: #FFFFFF;\n",
       "    }\n",
       "  </style>\n",
       "\n",
       "      <script>\n",
       "        const buttonEl =\n",
       "          document.querySelector('#df-131e7555-2927-4938-a4a5-016c71c0cf38 button.colab-df-convert');\n",
       "        buttonEl.style.display =\n",
       "          google.colab.kernel.accessAllowed ? 'block' : 'none';\n",
       "\n",
       "        async function convertToInteractive(key) {\n",
       "          const element = document.querySelector('#df-131e7555-2927-4938-a4a5-016c71c0cf38');\n",
       "          const dataTable =\n",
       "            await google.colab.kernel.invokeFunction('convertToInteractive',\n",
       "                                                     [key], {});\n",
       "          if (!dataTable) return;\n",
       "\n",
       "          const docLinkHtml = 'Like what you see? Visit the ' +\n",
       "            '<a target=\"_blank\" href=https://colab.research.google.com/notebooks/data_table.ipynb>data table notebook</a>'\n",
       "            + ' to learn more about interactive tables.';\n",
       "          element.innerHTML = '';\n",
       "          dataTable['output_type'] = 'display_data';\n",
       "          await google.colab.output.renderOutput(dataTable, element);\n",
       "          const docLink = document.createElement('div');\n",
       "          docLink.innerHTML = docLinkHtml;\n",
       "          element.appendChild(docLink);\n",
       "        }\n",
       "      </script>\n",
       "    </div>\n",
       "  </div>\n",
       "  "
      ],
      "text/plain": [
       "   YearsExperience  Floor  Type   Salary\n",
       "0              1.1     18     1  39343.0\n",
       "1              1.3     17     1  46205.0\n",
       "2              1.5     10     0  37731.0\n",
       "3              2.0     13     0  73525.0\n",
       "4              2.2      1     0  39891.0"
      ]
     },
     "execution_count": 10,
     "metadata": {},
     "output_type": "execute_result"
    }
   ],
   "source": [
    "df.head()"
   ]
  },
  {
   "cell_type": "code",
   "execution_count": null,
   "metadata": {
    "colab": {
     "base_uri": "https://localhost:8080/"
    },
    "executionInfo": {
     "elapsed": 7,
     "status": "ok",
     "timestamp": 1656920094902,
     "user": {
      "displayName": "Маргарита Широбокова",
      "userId": "15867443346324107010"
     },
     "user_tz": -240
    },
    "id": "zjWJQCyUHYdj",
    "outputId": "f561183e-2c78-4601-aa63-e5f7afa07822"
   },
   "outputs": [
    {
     "data": {
      "text/plain": [
       "Index(['YearsExperience', 'Floor', 'Type', 'Salary'], dtype='object')"
      ]
     },
     "execution_count": 22,
     "metadata": {},
     "output_type": "execute_result"
    }
   ],
   "source": [
    "df.columns"
   ]
  },
  {
   "cell_type": "code",
   "execution_count": null,
   "metadata": {
    "id": "buElfo0iHjkh"
   },
   "outputs": [],
   "source": [
    "var = ['YearsExperience', 'Floor', 'Type']"
   ]
  },
  {
   "cell_type": "code",
   "execution_count": null,
   "metadata": {
    "colab": {
     "base_uri": "https://localhost:8080/"
    },
    "executionInfo": {
     "elapsed": 287,
     "status": "ok",
     "timestamp": 1656920244037,
     "user": {
      "displayName": "Маргарита Широбокова",
      "userId": "15867443346324107010"
     },
     "user_tz": -240
    },
    "id": "wPaARYS4HSKr",
    "outputId": "8fe7a7a8-ea0d-4faa-99df-d3a1c0c7f765"
   },
   "outputs": [
    {
     "name": "stdout",
     "output_type": "stream",
     "text": [
      "---------- YearsExperience ----------\n",
      "Train MSE: 370699406.1026973\n",
      "Train MAE: 12757.560541048684\n",
      "Train R2: 0.5564562952985015\n",
      "\n",
      "---------- Floor ----------\n",
      "Train MSE: 826347625.1108369\n",
      "Train MAE: 24740.38819545235\n",
      "Train R2: 0.011270908506916255\n",
      "\n",
      "---------- Type ----------\n",
      "Train MSE: 800564520.9925923\n",
      "Train MAE: 24549.23703703704\n",
      "Train R2: 0.0421205223208172\n",
      "\n"
     ]
    }
   ],
   "source": [
    "# обучить модель линейной регрессии циклом для каждой отдельной переменной\n",
    "\n",
    "for i in var:\n",
    "  print('-'*10, i, '-'*10)\n",
    "  train_X = df[[i]]\n",
    "  train_y = df[['Salary']]\n",
    "\n",
    "  model = LinearRegression() \n",
    "  model.fit(train_X, train_y)\n",
    "\n",
    "  y_predict_train = model.predict(train_X)\n",
    "\n",
    "  train_mse = mean_squared_error(train_y, y_predict_train)\n",
    "  print(\"Train MSE: {}\".format(train_mse))\n",
    "\n",
    "  train_mae = mean_absolute_error(train_y, y_predict_train)\n",
    "  print(\"Train MAE: {}\".format(train_mae))\n",
    "\n",
    "  train_r2 = r2_score(train_y, y_predict_train)\n",
    "  print(\"Train R2: {}\".format(train_r2))\n",
    "  print()"
   ]
  },
  {
   "cell_type": "code",
   "execution_count": null,
   "metadata": {
    "colab": {
     "base_uri": "https://localhost:8080/"
    },
    "executionInfo": {
     "elapsed": 9,
     "status": "ok",
     "timestamp": 1656920462303,
     "user": {
      "displayName": "Маргарита Широбокова",
      "userId": "15867443346324107010"
     },
     "user_tz": -240
    },
    "id": "dxQD1vBpHJ0l",
    "outputId": "41f46f97-af4e-40c8-e3a6-ee64437ff73f"
   },
   "outputs": [
    {
     "name": "stdout",
     "output_type": "stream",
     "text": [
      "---------- Floor + Type ----------\n",
      "Train MSE: 782619552.2721326\n",
      "Train MAE: 23575.642333308988\n",
      "Train R2: 0.06359176769103558\n",
      "\n",
      "---------- YearsExperience + Type ----------\n",
      "Train MSE: 368997405.9785344\n",
      "Train MAE: 12720.404245845155\n",
      "Train R2: 0.5584927470112526\n",
      "\n",
      "---------- YearsExperience + Floor ----------\n",
      "Train MSE: 367035161.2243482\n",
      "Train MAE: 12521.735323486337\n",
      "Train R2: 0.5608405827333355\n",
      "\n"
     ]
    }
   ],
   "source": [
    "# обучить модель линейной регрессии циклом при исключении по очереди каждой отдельной переменной\n",
    "\n",
    "for i in var:\n",
    "  var_new = var.copy()\n",
    "  var_new.remove(i)\n",
    "\n",
    "  print('-'*10, ' + '.join(var_new), '-'*10)\n",
    "  train_X = df[var_new]\n",
    "  train_y = df[['Salary']]\n",
    "\n",
    "  model = LinearRegression() \n",
    "  model.fit(train_X, train_y)\n",
    "\n",
    "  y_predict_train = model.predict(train_X)\n",
    "\n",
    "  train_mse = mean_squared_error(train_y, y_predict_train)\n",
    "  print(\"Train MSE: {}\".format(train_mse))\n",
    "\n",
    "  train_mae = mean_absolute_error(train_y, y_predict_train)\n",
    "  print(\"Train MAE: {}\".format(train_mae))\n",
    "\n",
    "  train_r2 = r2_score(train_y, y_predict_train)\n",
    "  print(\"Train R2: {}\".format(train_r2))\n",
    "  print()"
   ]
  },
  {
   "cell_type": "markdown",
   "metadata": {
    "id": "dkhk8fhFKALj"
   },
   "source": [
    "Данные показывают, что наилучшая модель получается при использовании переменной YearsExperience, при этом добавление переменных Type или Floor вдобавок к переменной YearsExperience не даёт значительного прироста к качеству модели. Таким образом, важная переменная — YearsExperience, а переменные Type и Floor не важные."
   ]
  }
 ],
 "metadata": {
  "colab": {
   "collapsed_sections": [],
   "name": "5.1. Практика.ipynb",
   "provenance": []
  },
  "kernelspec": {
   "display_name": "Python 3 (ipykernel)",
   "language": "python",
   "name": "python3"
  },
  "language_info": {
   "codemirror_mode": {
    "name": "ipython",
    "version": 3
   },
   "file_extension": ".py",
   "mimetype": "text/x-python",
   "name": "python",
   "nbconvert_exporter": "python",
   "pygments_lexer": "ipython3",
   "version": "3.10.9"
  }
 },
 "nbformat": 4,
 "nbformat_minor": 1
}
