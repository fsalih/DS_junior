{
  "nbformat": 4,
  "nbformat_minor": 0,
  "metadata": {
    "colab": {
      "provenance": []
    },
    "kernelspec": {
      "name": "python3",
      "display_name": "Python 3"
    },
    "language_info": {
      "name": "python"
    }
  },
  "cells": [
    {
      "cell_type": "markdown",
      "source": [
        "Будем решать задачу регрессии. Поработаем с данными о стоимости домов в Калифорнии. Задача — предсказать стоимость домов по различным числовым характеристикам:\n",
        "\n",
        "*  MedInc — средний доход жителей. \n",
        "*  HouseAge — возраст дома.\n",
        "*  AveRooms — среднее количество комнат в доме\n",
        "и так далее.\n",
        "\n",
        "Подробное описание признаков можно прочесть [в документации датасета](https://inria.github.io/scikit-learn-mooc/python_scripts/datasets_california_housing.html)."
      ],
      "metadata": {
        "id": "jbIv6LH6Ax_v"
      }
    },
    {
      "cell_type": "code",
      "execution_count": null,
      "metadata": {
        "id": "7_T8BvKD_zZN"
      },
      "outputs": [],
      "source": [
        "from sklearn.datasets import fetch_california_housing\n",
        "import pandas as pd\n",
        "import numpy as np\n",
        "\n",
        "data = fetch_california_housing(as_frame=True)"
      ]
    },
    {
      "cell_type": "code",
      "source": [
        "X = data.data\n",
        "y = data.target\n",
        "\n",
        "X.head()"
      ],
      "metadata": {
        "colab": {
          "base_uri": "https://localhost:8080/",
          "height": 206
        },
        "id": "Xj_HezqlAGVp",
        "outputId": "d4ee087a-e072-485f-cd8e-1dd670209791"
      },
      "execution_count": null,
      "outputs": [
        {
          "output_type": "execute_result",
          "data": {
            "text/plain": [
              "   MedInc  HouseAge  AveRooms  AveBedrms  Population  AveOccup  Latitude  \\\n",
              "0  8.3252      41.0  6.984127   1.023810       322.0  2.555556     37.88   \n",
              "1  8.3014      21.0  6.238137   0.971880      2401.0  2.109842     37.86   \n",
              "2  7.2574      52.0  8.288136   1.073446       496.0  2.802260     37.85   \n",
              "3  5.6431      52.0  5.817352   1.073059       558.0  2.547945     37.85   \n",
              "4  3.8462      52.0  6.281853   1.081081       565.0  2.181467     37.85   \n",
              "\n",
              "   Longitude  \n",
              "0    -122.23  \n",
              "1    -122.22  \n",
              "2    -122.24  \n",
              "3    -122.25  \n",
              "4    -122.25  "
            ],
            "text/html": [
              "\n",
              "  <div id=\"df-e65b15a0-5c6d-445a-94bf-c873b2ab850a\">\n",
              "    <div class=\"colab-df-container\">\n",
              "      <div>\n",
              "<style scoped>\n",
              "    .dataframe tbody tr th:only-of-type {\n",
              "        vertical-align: middle;\n",
              "    }\n",
              "\n",
              "    .dataframe tbody tr th {\n",
              "        vertical-align: top;\n",
              "    }\n",
              "\n",
              "    .dataframe thead th {\n",
              "        text-align: right;\n",
              "    }\n",
              "</style>\n",
              "<table border=\"1\" class=\"dataframe\">\n",
              "  <thead>\n",
              "    <tr style=\"text-align: right;\">\n",
              "      <th></th>\n",
              "      <th>MedInc</th>\n",
              "      <th>HouseAge</th>\n",
              "      <th>AveRooms</th>\n",
              "      <th>AveBedrms</th>\n",
              "      <th>Population</th>\n",
              "      <th>AveOccup</th>\n",
              "      <th>Latitude</th>\n",
              "      <th>Longitude</th>\n",
              "    </tr>\n",
              "  </thead>\n",
              "  <tbody>\n",
              "    <tr>\n",
              "      <th>0</th>\n",
              "      <td>8.3252</td>\n",
              "      <td>41.0</td>\n",
              "      <td>6.984127</td>\n",
              "      <td>1.023810</td>\n",
              "      <td>322.0</td>\n",
              "      <td>2.555556</td>\n",
              "      <td>37.88</td>\n",
              "      <td>-122.23</td>\n",
              "    </tr>\n",
              "    <tr>\n",
              "      <th>1</th>\n",
              "      <td>8.3014</td>\n",
              "      <td>21.0</td>\n",
              "      <td>6.238137</td>\n",
              "      <td>0.971880</td>\n",
              "      <td>2401.0</td>\n",
              "      <td>2.109842</td>\n",
              "      <td>37.86</td>\n",
              "      <td>-122.22</td>\n",
              "    </tr>\n",
              "    <tr>\n",
              "      <th>2</th>\n",
              "      <td>7.2574</td>\n",
              "      <td>52.0</td>\n",
              "      <td>8.288136</td>\n",
              "      <td>1.073446</td>\n",
              "      <td>496.0</td>\n",
              "      <td>2.802260</td>\n",
              "      <td>37.85</td>\n",
              "      <td>-122.24</td>\n",
              "    </tr>\n",
              "    <tr>\n",
              "      <th>3</th>\n",
              "      <td>5.6431</td>\n",
              "      <td>52.0</td>\n",
              "      <td>5.817352</td>\n",
              "      <td>1.073059</td>\n",
              "      <td>558.0</td>\n",
              "      <td>2.547945</td>\n",
              "      <td>37.85</td>\n",
              "      <td>-122.25</td>\n",
              "    </tr>\n",
              "    <tr>\n",
              "      <th>4</th>\n",
              "      <td>3.8462</td>\n",
              "      <td>52.0</td>\n",
              "      <td>6.281853</td>\n",
              "      <td>1.081081</td>\n",
              "      <td>565.0</td>\n",
              "      <td>2.181467</td>\n",
              "      <td>37.85</td>\n",
              "      <td>-122.25</td>\n",
              "    </tr>\n",
              "  </tbody>\n",
              "</table>\n",
              "</div>\n",
              "      <button class=\"colab-df-convert\" onclick=\"convertToInteractive('df-e65b15a0-5c6d-445a-94bf-c873b2ab850a')\"\n",
              "              title=\"Convert this dataframe to an interactive table.\"\n",
              "              style=\"display:none;\">\n",
              "        \n",
              "  <svg xmlns=\"http://www.w3.org/2000/svg\" height=\"24px\"viewBox=\"0 0 24 24\"\n",
              "       width=\"24px\">\n",
              "    <path d=\"M0 0h24v24H0V0z\" fill=\"none\"/>\n",
              "    <path d=\"M18.56 5.44l.94 2.06.94-2.06 2.06-.94-2.06-.94-.94-2.06-.94 2.06-2.06.94zm-11 1L8.5 8.5l.94-2.06 2.06-.94-2.06-.94L8.5 2.5l-.94 2.06-2.06.94zm10 10l.94 2.06.94-2.06 2.06-.94-2.06-.94-.94-2.06-.94 2.06-2.06.94z\"/><path d=\"M17.41 7.96l-1.37-1.37c-.4-.4-.92-.59-1.43-.59-.52 0-1.04.2-1.43.59L10.3 9.45l-7.72 7.72c-.78.78-.78 2.05 0 2.83L4 21.41c.39.39.9.59 1.41.59.51 0 1.02-.2 1.41-.59l7.78-7.78 2.81-2.81c.8-.78.8-2.07 0-2.86zM5.41 20L4 18.59l7.72-7.72 1.47 1.35L5.41 20z\"/>\n",
              "  </svg>\n",
              "      </button>\n",
              "      \n",
              "  <style>\n",
              "    .colab-df-container {\n",
              "      display:flex;\n",
              "      flex-wrap:wrap;\n",
              "      gap: 12px;\n",
              "    }\n",
              "\n",
              "    .colab-df-convert {\n",
              "      background-color: #E8F0FE;\n",
              "      border: none;\n",
              "      border-radius: 50%;\n",
              "      cursor: pointer;\n",
              "      display: none;\n",
              "      fill: #1967D2;\n",
              "      height: 32px;\n",
              "      padding: 0 0 0 0;\n",
              "      width: 32px;\n",
              "    }\n",
              "\n",
              "    .colab-df-convert:hover {\n",
              "      background-color: #E2EBFA;\n",
              "      box-shadow: 0px 1px 2px rgba(60, 64, 67, 0.3), 0px 1px 3px 1px rgba(60, 64, 67, 0.15);\n",
              "      fill: #174EA6;\n",
              "    }\n",
              "\n",
              "    [theme=dark] .colab-df-convert {\n",
              "      background-color: #3B4455;\n",
              "      fill: #D2E3FC;\n",
              "    }\n",
              "\n",
              "    [theme=dark] .colab-df-convert:hover {\n",
              "      background-color: #434B5C;\n",
              "      box-shadow: 0px 1px 3px 1px rgba(0, 0, 0, 0.15);\n",
              "      filter: drop-shadow(0px 1px 2px rgba(0, 0, 0, 0.3));\n",
              "      fill: #FFFFFF;\n",
              "    }\n",
              "  </style>\n",
              "\n",
              "      <script>\n",
              "        const buttonEl =\n",
              "          document.querySelector('#df-e65b15a0-5c6d-445a-94bf-c873b2ab850a button.colab-df-convert');\n",
              "        buttonEl.style.display =\n",
              "          google.colab.kernel.accessAllowed ? 'block' : 'none';\n",
              "\n",
              "        async function convertToInteractive(key) {\n",
              "          const element = document.querySelector('#df-e65b15a0-5c6d-445a-94bf-c873b2ab850a');\n",
              "          const dataTable =\n",
              "            await google.colab.kernel.invokeFunction('convertToInteractive',\n",
              "                                                     [key], {});\n",
              "          if (!dataTable) return;\n",
              "\n",
              "          const docLinkHtml = 'Like what you see? Visit the ' +\n",
              "            '<a target=\"_blank\" href=https://colab.research.google.com/notebooks/data_table.ipynb>data table notebook</a>'\n",
              "            + ' to learn more about interactive tables.';\n",
              "          element.innerHTML = '';\n",
              "          dataTable['output_type'] = 'display_data';\n",
              "          await google.colab.output.renderOutput(dataTable, element);\n",
              "          const docLink = document.createElement('div');\n",
              "          docLink.innerHTML = docLinkHtml;\n",
              "          element.appendChild(docLink);\n",
              "        }\n",
              "      </script>\n",
              "    </div>\n",
              "  </div>\n",
              "  "
            ]
          },
          "metadata": {},
          "execution_count": 3
        }
      ]
    },
    {
      "cell_type": "markdown",
      "source": [
        "В образовательных целях исследования и предобработки данных часто опускается этап изучения датасета на наличие дубликатов, пропусков, некорректных значений и так далее. Однако на практике при работе с данными до моделирования об этом не стоит забывать.\n",
        "\n",
        "Например, рассмотрим датасет на наличие пропусков."
      ],
      "metadata": {
        "id": "i9jYfsY72f7J"
      }
    },
    {
      "cell_type": "code",
      "source": [
        "X.isna().sum()"
      ],
      "metadata": {
        "id": "C4oShyBd2fJ2",
        "colab": {
          "base_uri": "https://localhost:8080/"
        },
        "outputId": "c10afd08-c206-4417-bebf-a43f9103eaf0"
      },
      "execution_count": null,
      "outputs": [
        {
          "output_type": "execute_result",
          "data": {
            "text/plain": [
              "MedInc        0\n",
              "HouseAge      0\n",
              "AveRooms      0\n",
              "AveBedrms     0\n",
              "Population    0\n",
              "AveOccup      0\n",
              "Latitude      0\n",
              "Longitude     0\n",
              "dtype: int64"
            ]
          },
          "metadata": {},
          "execution_count": 4
        }
      ]
    },
    {
      "cell_type": "markdown",
      "source": [
        "Отлично, в данных нет пропущенных значений.\n",
        "\n",
        "Перейдём к построению и оценке качества моделей."
      ],
      "metadata": {
        "id": "KZdwTpoe25qm"
      }
    },
    {
      "cell_type": "markdown",
      "source": [
        "Разобьём данные на train и test и обучим на них сначала решающее дерево с параметрами по умолчанию."
      ],
      "metadata": {
        "id": "UegVcGIyA39H"
      }
    },
    {
      "cell_type": "code",
      "source": [
        "from sklearn.model_selection import train_test_split\n",
        "\n",
        "Xtrain, Xtest, ytrain, ytest = train_test_split(X, y, test_size=0.25, random_state=1)"
      ],
      "metadata": {
        "id": "NBuSxrqRAO8d"
      },
      "execution_count": null,
      "outputs": []
    },
    {
      "cell_type": "code",
      "source": [
        "from sklearn.tree import DecisionTreeRegressor\n",
        "\n",
        "model_dt = DecisionTreeRegressor()\n",
        "\n",
        "model_dt.fit(Xtrain, ytrain)"
      ],
      "metadata": {
        "id": "35Vc4MyVAJI9",
        "colab": {
          "base_uri": "https://localhost:8080/"
        },
        "outputId": "f7a073ee-93c8-4b6a-ea8f-689f958ca1cd"
      },
      "execution_count": null,
      "outputs": [
        {
          "output_type": "execute_result",
          "data": {
            "text/plain": [
              "DecisionTreeRegressor()"
            ]
          },
          "metadata": {},
          "execution_count": 6
        }
      ]
    },
    {
      "cell_type": "markdown",
      "source": [
        "Сделаем предсказание на тестовых данных и оценим ошибку MSE."
      ],
      "metadata": {
        "id": "OrtNeoAuA86G"
      }
    },
    {
      "cell_type": "code",
      "source": [
        "pred_dt = model_dt.predict(Xtest)"
      ],
      "metadata": {
        "id": "CKq7V-g0AXYV"
      },
      "execution_count": null,
      "outputs": []
    },
    {
      "cell_type": "code",
      "source": [
        "from sklearn.metrics import mean_squared_error\n",
        "\n",
        "mean_squared_error(ytest, pred_dt)"
      ],
      "metadata": {
        "id": "6WjAyLpJAaBJ",
        "colab": {
          "base_uri": "https://localhost:8080/"
        },
        "outputId": "41f0fe92-ada4-4956-ea6f-82544da0c95f"
      },
      "execution_count": null,
      "outputs": [
        {
          "output_type": "execute_result",
          "data": {
            "text/plain": [
              "0.526525860624283"
            ]
          },
          "metadata": {},
          "execution_count": 8
        }
      ]
    },
    {
      "cell_type": "markdown",
      "source": [
        "Теперь обучим на тренировочных данных случайный лес с параметрами по умолчанию."
      ],
      "metadata": {
        "id": "VG11AU1WBAa8"
      }
    },
    {
      "cell_type": "code",
      "source": [
        "from sklearn.ensemble import RandomForestRegressor\n",
        "\n",
        "model_rf = RandomForestRegressor()\n",
        "\n",
        "model_rf.fit(Xtrain, ytrain)"
      ],
      "metadata": {
        "id": "MiCBwwNzAe8_",
        "colab": {
          "base_uri": "https://localhost:8080/"
        },
        "outputId": "e09bfa0c-ac2c-4de1-ed79-b62b8c58e4e5"
      },
      "execution_count": null,
      "outputs": [
        {
          "output_type": "execute_result",
          "data": {
            "text/plain": [
              "RandomForestRegressor()"
            ]
          },
          "metadata": {},
          "execution_count": 9
        }
      ]
    },
    {
      "cell_type": "markdown",
      "source": [
        "Сделаем предсказание на тесте и оценим ошибку MSE."
      ],
      "metadata": {
        "id": "A82nM51RBElm"
      }
    },
    {
      "cell_type": "code",
      "source": [
        "pred_rf = model_rf.predict(Xtest)\n",
        "\n",
        "mean_squared_error(ytest, pred_rf)"
      ],
      "metadata": {
        "id": "qJpueo_HAn6L",
        "colab": {
          "base_uri": "https://localhost:8080/"
        },
        "outputId": "18905848-ba21-4eec-c7db-8cedbaabd29d"
      },
      "execution_count": null,
      "outputs": [
        {
          "output_type": "execute_result",
          "data": {
            "text/plain": [
              "0.2615803767965059"
            ]
          },
          "metadata": {},
          "execution_count": 10
        }
      ]
    },
    {
      "cell_type": "markdown",
      "source": [
        "Ошибка у леса в два раза меньше, чем у дерева!"
      ],
      "metadata": {
        "id": "pQf0kiNfBHTT"
      }
    },
    {
      "cell_type": "markdown",
      "source": [
        "Теперь изучим гиперпараметры леса."
      ],
      "metadata": {
        "id": "m32kECMjBK7N"
      }
    },
    {
      "cell_type": "code",
      "source": [
        "?RandomForestRegressor"
      ],
      "metadata": {
        "id": "fMJdK4uzAt1n"
      },
      "execution_count": null,
      "outputs": []
    },
    {
      "cell_type": "markdown",
      "source": [
        "*   n_estimators — число деревьев;\n",
        "*   criterion — критерий информативности для построения дерева;\n",
        "*   max_depth — глубина деревьев в лесу;\n",
        "*   min_samples_split — минимальное число объектов, необходимое для разбиения вершины;\n",
        "*   min_samples_leaf — минимальное число объектов в вершине, для того чтобы она была листом;\n",
        "*   max_features — максимальное число признаков, из которых ищем наилучшее разбиение на каждом шаге построения дерева;\n",
        "*   max_samples — максимальное количество объектов в подвыборке, сформированной при помощи бутстрепа из исходной выборки."
      ],
      "metadata": {
        "id": "CtQUt5vlBRas"
      }
    },
    {
      "cell_type": "markdown",
      "source": [
        "Посмотрим, как меняется качество предсказания в зависимости от числа деревьев в лесу."
      ],
      "metadata": {
        "id": "RlLB5lPXB-NY"
      }
    },
    {
      "cell_type": "code",
      "source": [
        "N = []\n",
        "MSE = []\n",
        "\n",
        "for n in np.arange(10, 120, 20):\n",
        "    rf = RandomForestRegressor(n_estimators = n)\n",
        "\n",
        "    rf.fit(Xtrain, ytrain)\n",
        "\n",
        "    pred_rf = rf.predict(Xtest)\n",
        "\n",
        "    N.append(n)\n",
        "    MSE.append(mean_squared_error(ytest, pred_rf))"
      ],
      "metadata": {
        "id": "fM5GjfDOBOUv"
      },
      "execution_count": null,
      "outputs": []
    },
    {
      "cell_type": "code",
      "source": [
        "from matplotlib import pyplot as plt\n",
        "\n",
        "plt.plot(N, MSE, '-')\n",
        "plt.xlabel('number of trees in forest')\n",
        "plt.ylabel('MSE on test')"
      ],
      "metadata": {
        "id": "ng9e6aXNCN4w",
        "colab": {
          "base_uri": "https://localhost:8080/",
          "height": 296
        },
        "outputId": "dd6b5b97-ddc8-430e-debe-fe967057f865"
      },
      "execution_count": null,
      "outputs": [
        {
          "output_type": "execute_result",
          "data": {
            "text/plain": [
              "Text(0, 0.5, 'MSE on test')"
            ]
          },
          "metadata": {},
          "execution_count": 15
        },
        {
          "output_type": "display_data",
          "data": {
            "text/plain": [
              "<Figure size 432x288 with 1 Axes>"
            ],
            "image/png": "[encoded data removed]"
          },
          "metadata": {
            "needs_background": "light"
          }
        }
      ]
    },
    {
      "cell_type": "markdown",
      "source": [
        "Мы наблюдаем важную зависимость, и это неплохо запомнить: случайный лес не переобучается с увеличением числа деревьев!\n",
        "\n",
        "То есть чем больше деревьев в лесу, тем меньше будет ошибка на тестовых данных. \n",
        "\n",
        "Однако начиная с какого-то числа деревьев ошибка уменьшается совсем незначительно, а при дальнейшем увеличении числа деревьев скорость обучения алгоритма падает."
      ],
      "metadata": {
        "id": "lrbPJfJTDPQR"
      }
    },
    {
      "cell_type": "markdown",
      "source": [
        "Поэтому обычно выбирают минимальное число деревьев в лесу, при котором ошибка на тесте перестаёт сильно убывать."
      ],
      "metadata": {
        "id": "MUBLopq2DjT6"
      }
    },
    {
      "cell_type": "markdown",
      "source": [
        "Возьмём 100 деревьев в лесу, так как при 100 деревьях ошибка убывает уже несильно. Теперь будем перебирать глубину деревьев аналогичным образом."
      ],
      "metadata": {
        "id": "cKyOKNkbHam2"
      }
    },
    {
      "cell_type": "code",
      "source": [
        "D = []\n",
        "MSE = []\n",
        "\n",
        "for d in np.arange(2, 50, 5):\n",
        "    rf = RandomForestRegressor(n_estimators = 100, max_depth = d)\n",
        "\n",
        "    rf.fit(Xtrain, ytrain)\n",
        "\n",
        "    pred_rf = rf.predict(Xtest)\n",
        "\n",
        "    D.append(d)\n",
        "    MSE.append(mean_squared_error(ytest, pred_rf))"
      ],
      "metadata": {
        "id": "EVzum13dEbUo"
      },
      "execution_count": null,
      "outputs": []
    },
    {
      "cell_type": "code",
      "source": [
        "plt.plot(D, MSE, '-')\n",
        "plt.xlabel('max_depth of trees')\n",
        "plt.ylabel('MSE on test')"
      ],
      "metadata": {
        "id": "X5qbSpmEGUlf",
        "colab": {
          "base_uri": "https://localhost:8080/",
          "height": 297
        },
        "outputId": "072fbaca-e2c1-4b81-aa01-927e4dc4859a"
      },
      "execution_count": null,
      "outputs": [
        {
          "output_type": "execute_result",
          "data": {
            "text/plain": [
              "Text(0, 0.5, 'MSE on test')"
            ]
          },
          "metadata": {},
          "execution_count": 17
        },
        {
          "output_type": "display_data",
          "data": {
            "text/plain": [
              "<Figure size 432x288 with 1 Axes>"
            ],
            "image/png": "[encoded data removed]"
          },
          "metadata": {
            "needs_background": "light"
          }
        }
      ]
    },
    {
      "cell_type": "markdown",
      "source": [
        "Мы видим, что сначала при увеличении глубины деревьев ошибка падает, а затем, примерно с глубины 20, ошибка начинает расти, то есть начинается переобучение.\n",
        "\n",
        "Значит, для леса со 100 деревьями надо брать деревья максимальной глубины — 20.\n",
        "\n",
        "Проверим, каких значений метрики удастся достичь при обучении случайного леса с найденными значениями гиперпараметров."
      ],
      "metadata": {
        "id": "fYWdPUY4HiWu"
      }
    },
    {
      "cell_type": "code",
      "source": [
        "model_rf = RandomForestRegressor(n_estimators = 100, max_depth = 20)\n",
        "\n",
        "model_rf.fit(Xtrain, ytrain)\n",
        "\n",
        "pred_rf = model_rf.predict(Xtest)\n",
        "\n",
        "mean_squared_error(ytest, pred_rf)"
      ],
      "metadata": {
        "id": "DNTyf2673RMh",
        "colab": {
          "base_uri": "https://localhost:8080/"
        },
        "outputId": "3e21aa11-980d-42de-e051-0749740658fb"
      },
      "execution_count": null,
      "outputs": [
        {
          "output_type": "execute_result",
          "data": {
            "text/plain": [
              "0.261190400073211"
            ]
          },
          "metadata": {},
          "execution_count": 18
        }
      ]
    },
    {
      "cell_type": "markdown",
      "source": [
        "С помощью подбора гиперпараметров удалось значительно снизить ошибку по сравнению с лесом, работающим с гиперпараметрами по умолчанию."
      ],
      "metadata": {
        "id": "38PmYhiv3pzF"
      }
    },
    {
      "cell_type": "markdown",
      "source": [
        "Другие гиперпараметры леса также важно подбирать, однако ручной перебор гиперпараметров сложен и может привести к переобучению. "
      ],
      "metadata": {
        "id": "EEj7NYmMDvTe"
      }
    },
    {
      "cell_type": "markdown",
      "source": [
        "Давайте оценим качество последней модели по кросс-валидации, чтобы без привязки к разбиению на train-test оценить качество и переобучение модели."
      ],
      "metadata": {
        "id": "0M_KIpV-32qa"
      }
    },
    {
      "cell_type": "code",
      "source": [
        "from sklearn.model_selection import cross_val_score\n",
        "\n",
        "scores = cross_val_score(RandomForestRegressor(n_estimators = 100, max_depth = 20), X, y, cv=3, scoring='neg_mean_squared_error')"
      ],
      "metadata": {
        "id": "X0E0RDL431kL"
      },
      "execution_count": null,
      "outputs": []
    },
    {
      "cell_type": "code",
      "source": [
        "scores"
      ],
      "metadata": {
        "id": "oyo19XZn4qLA",
        "colab": {
          "base_uri": "https://localhost:8080/"
        },
        "outputId": "a2d23c74-cf36-49cc-e7e5-33d2e69686ce"
      },
      "execution_count": null,
      "outputs": [
        {
          "output_type": "execute_result",
          "data": {
            "text/plain": [
              "array([-0.51185232, -0.32890805, -0.5423139 ])"
            ]
          },
          "metadata": {},
          "execution_count": 20
        }
      ]
    },
    {
      "cell_type": "code",
      "source": [
        "import numpy as np\n",
        "\n",
        "np.mean(-scores)"
      ],
      "metadata": {
        "id": "3J9v9Evw4KPb",
        "colab": {
          "base_uri": "https://localhost:8080/"
        },
        "outputId": "4e8ccfe2-29cc-41bf-b653-38532d19ed14"
      },
      "execution_count": null,
      "outputs": [
        {
          "output_type": "execute_result",
          "data": {
            "text/plain": [
              "0.46102475396691345"
            ]
          },
          "metadata": {},
          "execution_count": 21
        }
      ]
    },
    {
      "cell_type": "code",
      "source": [
        "np.std(-scores)"
      ],
      "metadata": {
        "colab": {
          "base_uri": "https://localhost:8080/"
        },
        "id": "iyb4JGGV4Njd",
        "outputId": "861d6e64-0973-4b9c-c4da-8a2d382b16e7"
      },
      "execution_count": null,
      "outputs": [
        {
          "output_type": "execute_result",
          "data": {
            "text/plain": [
              "0.09424469780021166"
            ]
          },
          "metadata": {},
          "execution_count": 22
        }
      ]
    },
    {
      "cell_type": "markdown",
      "source": [
        "По стандартному отклонению метрики на кросс-валидации можно сказать, что наблюдается переобучение модели и нужно аккуратнее подбирать её гиперпараметры. Визуальный подбор может давать плохие результаты.\n",
        "\n",
        "Как подбирать гиперпараметры моделей в полуавтоматическом режиме, вы узнаете в следующем видео."
      ],
      "metadata": {
        "id": "f-yCVvwp4Wa4"
      }
    }
  ]
}