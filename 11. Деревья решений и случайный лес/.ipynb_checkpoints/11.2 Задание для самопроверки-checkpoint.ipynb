{
 "cells": [
  {
   "cell_type": "markdown",
   "metadata": {
    "id": "NIyp4JA0HvJb"
   },
   "source": [
    "# Тюнинг решающих деревьев. Практическая работа"
   ]
  },
  {
   "cell_type": "markdown",
   "metadata": {
    "id": "_ohvVK9tqXJI"
   },
   "source": [
    "## Цель практической работы\n",
    "\n",
    "Научиться снижать переобучение дерева и увеличивать его предсказательную способность на реальных данных."
   ]
  },
  {
   "cell_type": "markdown",
   "metadata": {
    "id": "pTiwLOIHqXRw"
   },
   "source": [
    "## Что нужно сделать\n",
    "\n",
    "- Загрузить данные и ознакомиться с ними.\n",
    "- Реализовать построение решающего дерева с помощью  библиотеки Scikit-learn.\n",
    "- Подобрать гиперпараметры дерева.\n",
    "- Поэкспериментировать со стрижкой (cost-complexity pruning) дерева."
   ]
  },
  {
   "cell_type": "markdown",
   "metadata": {
    "id": "fWl_mCkdqXUG"
   },
   "source": [
    "## Как выполнить задание\n",
    "- Обратите внимание, что задание не нужно сдавать на проверку\n",
    "- Выполните все пункты задания и проверьте себя с ответами ниже\n",
    "- Важно, чтобы модель получилась хорошего качества и не была переобучена.\n"
   ]
  },
  {
   "cell_type": "markdown",
   "metadata": {
    "id": "mQ04nzTSqXWw"
   },
   "source": [
    "Скачайте файл с заданием в материалах, откройте его через Jupyter Notebook и выполните задачи."
   ]
  },
  {
   "cell_type": "markdown",
   "metadata": {
    "id": "NkvSJDW6qhe-"
   },
   "source": [
    "Пусть у нас имеется некоторый набор данных `sales.csv` – данные о продажах квартир."
   ]
  },
  {
   "cell_type": "markdown",
   "metadata": {
    "id": "NlcYMEEG1bqD"
   },
   "source": [
    "- цена продажи (SalePrice) – зависимая переменная;\n",
    "- наземная жилая зона (GrLivArea);\n",
    "- общее качество (Overall Quality);\n",
    "- территория гаража (GarageArea);\n",
    "- условия сделки (SaleCondition)."
   ]
  },
  {
   "cell_type": "markdown",
   "metadata": {
    "id": "Fn4XZ1cgqm1N"
   },
   "source": [
    "Реализуйте построение модели решающего дерева на этих данных. Проверьте качество модели на обучающей и тестовой выборках с помощью R^2. Определите, что вы не переобучились."
   ]
  },
  {
   "cell_type": "markdown",
   "metadata": {
    "id": "svOtYfEuPbGH"
   },
   "source": [
    "## Загрузка и предобработка данных\n",
    "\n",
    "В модуле 5 вы уже работали с этим набором данных, решали задачу при помощи линейной регрессии.\n",
    "\n",
    "Повторим блок загрузки, предобработки и разделения данных на тренировочную и тестовую части из практики пятого модуля."
   ]
  },
  {
   "cell_type": "code",
   "execution_count": 1,
   "metadata": {
    "id": "HUhq3m7ZPbGI"
   },
   "outputs": [],
   "source": [
    "import pandas as pd\n",
    "import matplotlib.pyplot as plt\n",
    "import seaborn as sns\n",
    "import numpy as np\n",
    "import warnings\n",
    "warnings.filterwarnings('ignore')\n",
    "%matplotlib inline"
   ]
  },
  {
   "cell_type": "code",
   "execution_count": 3,
   "metadata": {
    "id": "uA_mTzU3PbGI"
   },
   "outputs": [],
   "source": [
    "data = pd.read_csv('sales.csv')"
   ]
  },
  {
   "cell_type": "code",
   "execution_count": 6,
   "metadata": {
    "colab": {
     "base_uri": "https://localhost:8080/",
     "height": 206
    },
    "id": "qS3t2MHzPbGJ",
    "outputId": "cb893a77-1629-4ef5-a0ee-a187eeed1e00"
   },
   "outputs": [
    {
     "data": {
      "text/html": [
       "<div>\n",
       "<style scoped>\n",
       "    .dataframe tbody tr th:only-of-type {\n",
       "        vertical-align: middle;\n",
       "    }\n",
       "\n",
       "    .dataframe tbody tr th {\n",
       "        vertical-align: top;\n",
       "    }\n",
       "\n",
       "    .dataframe thead th {\n",
       "        text-align: right;\n",
       "    }\n",
       "</style>\n",
       "<table border=\"1\" class=\"dataframe\">\n",
       "  <thead>\n",
       "    <tr style=\"text-align: right;\">\n",
       "      <th></th>\n",
       "      <th>SalePrice</th>\n",
       "      <th>GrLivArea</th>\n",
       "      <th>GarageArea</th>\n",
       "      <th>OverallQual</th>\n",
       "      <th>Street</th>\n",
       "      <th>AdjLand</th>\n",
       "      <th>Alloca</th>\n",
       "      <th>Family</th>\n",
       "      <th>Normal</th>\n",
       "      <th>Partial</th>\n",
       "    </tr>\n",
       "  </thead>\n",
       "  <tbody>\n",
       "    <tr>\n",
       "      <th>0</th>\n",
       "      <td>208500</td>\n",
       "      <td>1710</td>\n",
       "      <td>548</td>\n",
       "      <td>7</td>\n",
       "      <td>True</td>\n",
       "      <td>False</td>\n",
       "      <td>False</td>\n",
       "      <td>False</td>\n",
       "      <td>True</td>\n",
       "      <td>False</td>\n",
       "    </tr>\n",
       "    <tr>\n",
       "      <th>1</th>\n",
       "      <td>181500</td>\n",
       "      <td>1262</td>\n",
       "      <td>460</td>\n",
       "      <td>6</td>\n",
       "      <td>True</td>\n",
       "      <td>False</td>\n",
       "      <td>False</td>\n",
       "      <td>False</td>\n",
       "      <td>True</td>\n",
       "      <td>False</td>\n",
       "    </tr>\n",
       "    <tr>\n",
       "      <th>2</th>\n",
       "      <td>223500</td>\n",
       "      <td>1786</td>\n",
       "      <td>608</td>\n",
       "      <td>7</td>\n",
       "      <td>True</td>\n",
       "      <td>False</td>\n",
       "      <td>False</td>\n",
       "      <td>False</td>\n",
       "      <td>True</td>\n",
       "      <td>False</td>\n",
       "    </tr>\n",
       "    <tr>\n",
       "      <th>3</th>\n",
       "      <td>140000</td>\n",
       "      <td>1717</td>\n",
       "      <td>642</td>\n",
       "      <td>7</td>\n",
       "      <td>True</td>\n",
       "      <td>False</td>\n",
       "      <td>False</td>\n",
       "      <td>False</td>\n",
       "      <td>False</td>\n",
       "      <td>False</td>\n",
       "    </tr>\n",
       "    <tr>\n",
       "      <th>4</th>\n",
       "      <td>250000</td>\n",
       "      <td>2198</td>\n",
       "      <td>836</td>\n",
       "      <td>8</td>\n",
       "      <td>True</td>\n",
       "      <td>False</td>\n",
       "      <td>False</td>\n",
       "      <td>False</td>\n",
       "      <td>True</td>\n",
       "      <td>False</td>\n",
       "    </tr>\n",
       "  </tbody>\n",
       "</table>\n",
       "</div>"
      ],
      "text/plain": [
       "   SalePrice  GrLivArea  GarageArea  OverallQual  Street  AdjLand  Alloca   \n",
       "0     208500       1710         548            7    True    False   False  \\\n",
       "1     181500       1262         460            6    True    False   False   \n",
       "2     223500       1786         608            7    True    False   False   \n",
       "3     140000       1717         642            7    True    False   False   \n",
       "4     250000       2198         836            8    True    False   False   \n",
       "\n",
       "   Family  Normal  Partial  \n",
       "0   False    True    False  \n",
       "1   False    True    False  \n",
       "2   False    True    False  \n",
       "3   False   False    False  \n",
       "4   False    True    False  "
      ]
     },
     "execution_count": 6,
     "metadata": {},
     "output_type": "execute_result"
    }
   ],
   "source": [
    "data.head()"
   ]
  },
  {
   "cell_type": "code",
   "execution_count": 5,
   "metadata": {
    "id": "huD-w0YgPbGK"
   },
   "outputs": [],
   "source": [
    "data['Street'] = pd.get_dummies(data['Street'], drop_first=True)\n",
    "SaleCondition = pd.get_dummies(data['SaleCondition'], drop_first=True)\n",
    "data = data.drop(['SaleCondition'], axis=1)\n",
    "data = pd.concat([data, SaleCondition], axis=1)"
   ]
  },
  {
   "cell_type": "code",
   "execution_count": 7,
   "metadata": {
    "id": "iQxNvpF3PbGK"
   },
   "outputs": [],
   "source": [
    "data['part_garage'] = data['GarageArea']/data['GrLivArea']"
   ]
  },
  {
   "cell_type": "code",
   "execution_count": 8,
   "metadata": {
    "id": "zatATk0UPbGK"
   },
   "outputs": [],
   "source": [
    "x = ['GrLivArea', 'GarageArea', 'OverallQual', 'Street', 'AdjLand', 'Alloca',\n",
    "       'Family', 'Normal', 'Partial', 'part_garage']\n",
    "y = ['SalePrice']"
   ]
  },
  {
   "cell_type": "code",
   "execution_count": 9,
   "metadata": {
    "id": "6wZmnhN_PbGK"
   },
   "outputs": [],
   "source": [
    "from sklearn.model_selection import train_test_split\n",
    "\n",
    "Xtrain, Xtest, ytrain, ytest = train_test_split(data[x], data[y], train_size=0.7, random_state=123) # random_state нужен для воспроизводимости результата"
   ]
  },
  {
   "cell_type": "markdown",
   "metadata": {
    "id": "3FiknUs7PbGK"
   },
   "source": [
    "Обучите решающее дерево с параметрами по умолчанию на тренировочных данных, затем оцените качество на тренировочных и тестовых данных.\n",
    "\n",
    "Везде далее качество – это значении метрики $R^2$.\n",
    "\n",
    "Сделайте выводы:\n",
    "*  хорошая ли получилась модель (по качеству на тесте)?\n",
    "*  переобучена ли модель?"
   ]
  },
  {
   "cell_type": "code",
   "execution_count": 10,
   "metadata": {
    "id": "xVbIexiiPbGL"
   },
   "outputs": [],
   "source": [
    "# ваш код здесь\n",
    "from sklearn.tree import DecisionTreeRegressor\n",
    "from sklearn.metrics import r2_score"
   ]
  },
  {
   "cell_type": "code",
   "execution_count": 11,
   "metadata": {},
   "outputs": [
    {
     "data": {
      "text/plain": [
       "(0.9997875001371536, 0.6253614590142942)"
      ]
     },
     "execution_count": 11,
     "metadata": {},
     "output_type": "execute_result"
    }
   ],
   "source": [
    "model = DecisionTreeRegressor()\n",
    "model.fit(Xtrain, ytrain)\n",
    "\n",
    "pred_train = model.predict(Xtrain)\n",
    "pred_test = model.predict(Xtest)\n",
    "\n",
    "r2_score(ytrain, pred_train), r2_score(ytest, pred_test)"
   ]
  },
  {
   "cell_type": "markdown",
   "metadata": {},
   "source": [
    "Модель явно переобучена: на трейне почти единица, а на тесте очень низкий результат"
   ]
  },
  {
   "cell_type": "markdown",
   "metadata": {
    "id": "4zDIYmGbPbGL"
   },
   "source": [
    "Теперь оцените качество модели (r2) на кросс-валидации с тремя фолдами.\n",
    "\n",
    "Для кросс-валидации используйте все обучающие данные (до разбиения на трейн и тест)."
   ]
  },
  {
   "cell_type": "code",
   "execution_count": 12,
   "metadata": {
    "id": "QRIF8VEBPbGM"
   },
   "outputs": [
    {
     "data": {
      "text/plain": [
       "(0.5602531418543775, 0.03995760173411609)"
      ]
     },
     "execution_count": 12,
     "metadata": {},
     "output_type": "execute_result"
    }
   ],
   "source": [
    "# ваш код здесь\n",
    "from sklearn.model_selection import cross_val_score\n",
    "scores = cross_val_score(model, data[x], data[y], cv=3, scoring='r2')\n",
    "scores.mean(), scores.std()"
   ]
  },
  {
   "cell_type": "markdown",
   "metadata": {
    "id": "-zk0b_DcPbGM"
   },
   "source": [
    "Что вы можете сказать о качестве модели? Совпало ли среднее качество на кросс-валидацией со значением $R^2$ на тестовых данных? Почему?"
   ]
  },
  {
   "cell_type": "markdown",
   "metadata": {
    "id": "C8YKyXPnPbGM"
   },
   "source": [
    "Качество на кросс валидации ниже. На каких-то данных переобучение более выражено. "
   ]
  },
  {
   "cell_type": "markdown",
   "metadata": {
    "id": "MB_0Xyd3PbGM"
   },
   "source": [
    "Давайте улучшать модель.\n",
    "\n",
    "Для начала подберите по кросс-валидации в цикле оптимальную глубину дерева:\n",
    "*   кросс-валидацию делайте только по тренировочным данным (cv=3, scoring='r2')\n",
    "*   глубину ищите в диапазоне от 1 до 20 включительно\n",
    "*   выведите на экран значение max_depth, для которого значение метрики на кросс-валидации максимально"
   ]
  },
  {
   "cell_type": "code",
   "execution_count": 15,
   "metadata": {
    "id": "U-ta8EcfPbGM"
   },
   "outputs": [
    {
     "name": "stdout",
     "output_type": "stream",
     "text": [
      "best_score: 0.631743149647759\n",
      "best_depth: 5\n"
     ]
    }
   ],
   "source": [
    "# ваш код здесь\n",
    "best_score = 0\n",
    "best_depth = 0\n",
    "for i in range(1, 21):\n",
    "    model = DecisionTreeRegressor(max_depth=i)\n",
    "    score = cross_val_score(model, Xtrain, ytrain, cv=3, scoring='r2').mean()\n",
    "    if score > best_score:\n",
    "        best_score = score\n",
    "        best_depth = i\n",
    "print('best_score:', best_score)\n",
    "print('best_depth:', best_depth)"
   ]
  },
  {
   "cell_type": "markdown",
   "metadata": {
    "id": "QpRMgwdPPbGN"
   },
   "source": [
    "Теперь для найденного значения max_depth обучите дерево на всех тренировочных данных, сделайте предсказание на трейне и на тесте и оцените значения метрики.\n",
    "\n",
    "Удалось ли:\n",
    "*  улучшить качество предсказания на тесте?\n",
    "*  снизить переобучение?"
   ]
  },
  {
   "cell_type": "code",
   "execution_count": 16,
   "metadata": {
    "id": "wiQJHkgFPbGN"
   },
   "outputs": [
    {
     "data": {
      "text/plain": [
       "(0.8322959378867607, 0.7795503223741289)"
      ]
     },
     "execution_count": 16,
     "metadata": {},
     "output_type": "execute_result"
    }
   ],
   "source": [
    "# ваш код здесь\n",
    "model_1 = DecisionTreeRegressor(max_depth=best_depth)\n",
    "model_1.fit(Xtrain, ytrain)\n",
    "\n",
    "pred_train1 = model_1.predict(Xtrain)\n",
    "pred_test1 = model_1.predict(Xtest)\n",
    "\n",
    "r2_score(ytrain, pred_train1), r2_score(ytest, pred_test1)"
   ]
  },
  {
   "cell_type": "markdown",
   "metadata": {
    "id": "TXDXq9oUPbGN"
   },
   "source": [
    "Качество модели улучшилось, переобучение снизилось. "
   ]
  },
  {
   "cell_type": "markdown",
   "metadata": {
    "id": "iT2-BKGVPbGO"
   },
   "source": [
    "Теперь для найденной оптимальной глубины дерева подберите значение min_samples_split в диапазоне от 1 до 15 с шагом 1. Также по кросс-валидации на тренировочных данных (как и при подборе max_depth)."
   ]
  },
  {
   "cell_type": "code",
   "execution_count": 17,
   "metadata": {
    "id": "fAotth14PbGO"
   },
   "outputs": [
    {
     "name": "stdout",
     "output_type": "stream",
     "text": [
      "best_score: 0.6611857978599294\n",
      "best_samples: 9\n"
     ]
    }
   ],
   "source": [
    "# ваш код здесь\n",
    "best_score = 0\n",
    "best_samples = 0\n",
    "for i in range(1, 16):\n",
    "    model = DecisionTreeRegressor(max_depth=best_depth, min_samples_split=i)\n",
    "    score = cross_val_score(model, Xtrain, ytrain, cv=3, scoring='r2').mean()\n",
    "    if score > best_score:\n",
    "        best_score = score\n",
    "        best_samples = i\n",
    "print('best_score:', best_score)\n",
    "print('best_samples:', best_samples)"
   ]
  },
  {
   "cell_type": "markdown",
   "metadata": {
    "id": "M0pxonvWPbGO"
   },
   "source": [
    "Теперь для найденного значения max_depth и найденного min_samples_split обучите дерево на всех тренировочных данных, сделайте предсказание на трейне и на тесте и оцените значения метрики.\n",
    "\n",
    "Удалось ли:\n",
    "*  ещё улучшить качество предсказания на тесте?\n",
    "*  ещё снизить переобучение?"
   ]
  },
  {
   "cell_type": "code",
   "execution_count": 18,
   "metadata": {
    "id": "-d1OCzUoPbGO"
   },
   "outputs": [
    {
     "data": {
      "text/plain": [
       "(0.8304914297420238, 0.7811238056960585)"
      ]
     },
     "execution_count": 18,
     "metadata": {},
     "output_type": "execute_result"
    }
   ],
   "source": [
    "# ваш код здесь\n",
    "model_2 = DecisionTreeRegressor(max_depth=best_depth, min_samples_split=best_samples)\n",
    "model_2.fit(Xtrain, ytrain)\n",
    "\n",
    "pred_train2 = model_2.predict(Xtrain)\n",
    "pred_test2 = model_2.predict(Xtest)\n",
    "\n",
    "r2_score(ytrain, pred_train2), r2_score(ytest, pred_test2)"
   ]
  },
  {
   "cell_type": "markdown",
   "metadata": {
    "id": "Xg32f6pTPbGP"
   },
   "source": [
    "Переобучение снизилось немного."
   ]
  },
  {
   "cell_type": "markdown",
   "metadata": {
    "id": "3vLXeLSbPbGP"
   },
   "source": [
    "Сейчас вы подбирали max_depth и min_samples_split последовательно, но, возможно, при одновременном подборе этих гиперпараметров оптимальный набор значений этих гиперпараметров получится другим.\n",
    "\n",
    "При помощи вложенного цикла по той же схеме с кросс-валидацией на тренировочных данных подберите пару значений (max_depth, min_samples_split), для которых достигается наилучшее среднее значение метрики на кросс-валидации.\n",
    "\n",
    "Выведите на экран найденные значения гиперпараметров."
   ]
  },
  {
   "cell_type": "code",
   "execution_count": 25,
   "metadata": {
    "id": "RXuct0r6PbGP"
   },
   "outputs": [
    {
     "name": "stdout",
     "output_type": "stream",
     "text": [
      "best_score: 0.6659305238509861\n",
      "best_depth: 6\n",
      "best_samples: 10\n"
     ]
    }
   ],
   "source": [
    "# ваш код здесь\n",
    "best_score = 0\n",
    "best_depth = 0\n",
    "best_samples = 0\n",
    "for i in range(1, 21):\n",
    "    for j in range(1, 16):\n",
    "        model = DecisionTreeRegressor(max_depth=i, min_samples_split=j)\n",
    "        score = cross_val_score(model, Xtrain, ytrain, cv=3, scoring='r2').mean()\n",
    "        if score > best_score:\n",
    "            best_score = score\n",
    "            best_depth = i\n",
    "            best_samples = j\n",
    "print('best_score:', best_score)\n",
    "print('best_depth:', best_depth)\n",
    "print('best_samples:', best_samples)"
   ]
  },
  {
   "cell_type": "markdown",
   "metadata": {
    "id": "-I497OyVPbGP"
   },
   "source": [
    "Теперь для найденного значения max_depth и найденного min_samples_split обучите дерево на всех тренировочных данных, сделайте предсказание на трейне и на тесте и оцените значения метрики.\n",
    "\n",
    "*  Лучше ли подбирать гиперпараметры одновременно? Что можно сказать о качестве и переобученности алгоритма?"
   ]
  },
  {
   "cell_type": "code",
   "execution_count": 30,
   "metadata": {
    "id": "IgMUDLHjPbGP"
   },
   "outputs": [
    {
     "data": {
      "text/plain": [
       "(0.874009469665285, 0.7622067742643301)"
      ]
     },
     "execution_count": 30,
     "metadata": {},
     "output_type": "execute_result"
    }
   ],
   "source": [
    "# ваш код здесь\n",
    "model_3 = DecisionTreeRegressor(max_depth=best_depth, min_samples_split=best_samples)\n",
    "model_3.fit(Xtrain, ytrain)\n",
    "\n",
    "pred_train3 = model_3.predict(Xtrain)\n",
    "pred_test3 = model_3.predict(Xtest)\n",
    "\n",
    "r2_score(ytrain, pred_train3), r2_score(ytest, pred_test3)"
   ]
  },
  {
   "cell_type": "markdown",
   "metadata": {
    "id": "ydp7Rt5zPbGQ"
   },
   "source": [
    "Полный перебор не дал лучших результатов"
   ]
  },
  {
   "cell_type": "markdown",
   "metadata": {
    "id": "tnDUMH41PbGQ"
   },
   "source": [
    "А теперь попробуйте снизить переобучение не за счёт подбора различных гиперпараметров, ограничивающих структуру дерева, а за счёт стрижки.\n",
    "\n",
    "По аналогии с тем, как было сделано в уроке про стрижку найдите список возможных значений $\\alpha$ для стрижки, вычисляя их по тренировочным данным (нужна функция cost_complexity_pruning_path)."
   ]
  },
  {
   "cell_type": "code",
   "execution_count": 31,
   "metadata": {
    "id": "sA188Us7PbGQ"
   },
   "outputs": [],
   "source": [
    "# ваш код здесь\n",
    "model = DecisionTreeRegressor()\n",
    "path = model.cost_complexity_pruning_path(Xtrain, ytrain)\n",
    "alphas = path['ccp_alphas']\n",
    "score_train, score_test = [], []\n",
    "for i in alphas:\n",
    "    model = DecisionTreeRegressor(ccp_alpha=i)\n",
    "    model.fit(Xtrain, ytrain)\n",
    "    \n",
    "    pred_train = model.predict(Xtrain)\n",
    "    pred_test = model.predict(Xtest)\n",
    "    \n",
    "    score_train.append(r2_score(ytrain, pred_train))\n",
    "    score_test.append(r2_score(ytest, pred_test))"
   ]
  },
  {
   "cell_type": "markdown",
   "metadata": {
    "id": "tmbrc3hdPbGQ"
   },
   "source": [
    "Следуя ноутбуку из того же скринкаста про стрижку, для каждого из найденных значений $\\alpha$ обучите решающее дерево на тренировочных данных, сделайте предсказания на трейне и тесте и вычислите метрику. \n",
    "\n",
    "Постройте графики ошибки на трейне и тесте в зависимости от значения $\\alpha$, оба графика на одной координатной плоскости.\n",
    "\n",
    "Также вычислите значение $\\alpha$, для которого качество на тесте максимально. Выведите его на экран."
   ]
  },
  {
   "cell_type": "code",
   "execution_count": 38,
   "metadata": {
    "id": "6YFs98bFPbGQ"
   },
   "outputs": [
    {
     "data": {
      "image/png": "[encoded data removed]",
      "text/plain": [
       "<Figure size 1400x700 with 1 Axes>"
      ]
     },
     "metadata": {},
     "output_type": "display_data"
    }
   ],
   "source": [
    "# ваш код здесь\n",
    "sns.set()\n",
    "plt.figure(figsize=(14,7))\n",
    "sns.lineplot(y = score_train, x = alphas, label = \"Train Accuracy\")\n",
    "sns.lineplot(y = score_test, x = alphas, label = \"Test Accuracy\")\n",
    "plt.xticks(ticks = np.arange(0.00,0.25,0.01))\n",
    "plt.xscale('log')\n",
    "plt.show()"
   ]
  },
  {
   "cell_type": "code",
   "execution_count": 37,
   "metadata": {},
   "outputs": [
    {
     "data": {
      "text/plain": [
       "(0.8007272709379292, 817)"
      ]
     },
     "execution_count": 37,
     "metadata": {},
     "output_type": "execute_result"
    }
   ],
   "source": [
    "np.max(score_test), np.argmax(score_test)"
   ]
  },
  {
   "cell_type": "code",
   "execution_count": 39,
   "metadata": {},
   "outputs": [
    {
     "data": {
      "text/plain": [
       "16641136.63749563"
      ]
     },
     "execution_count": 39,
     "metadata": {},
     "output_type": "execute_result"
    }
   ],
   "source": [
    "best_alpha = alphas[np.argmax(score_test)]\n",
    "best_alpha"
   ]
  },
  {
   "cell_type": "markdown",
   "metadata": {
    "id": "hjojS0A3PbGR"
   },
   "source": [
    "Для найденного значения $\\alpha$ обучите дерево с параметром ccp_alpha равным $\\alpha$ на тренировочных данных, сделайте предсказание на трейне и тесте и оцените качество предсказания на новых данных и переобучение модели.\n",
    "\n",
    "Какая модель в итоге получилась лучше: с ограничением max_depth и min_samples_split или при помощи стрижки?"
   ]
  },
  {
   "cell_type": "code",
   "execution_count": 40,
   "metadata": {
    "id": "7VOjKzQxPbGR"
   },
   "outputs": [
    {
     "data": {
      "text/plain": [
       "(0.8556259974026101, 0.794217022920247)"
      ]
     },
     "execution_count": 40,
     "metadata": {},
     "output_type": "execute_result"
    }
   ],
   "source": [
    "# ваш код здесь\n",
    "model_4 = DecisionTreeRegressor(ccp_alpha=best_alpha)\n",
    "model_4.fit(Xtrain, ytrain)\n",
    "\n",
    "pred_train4 = model_4.predict(Xtrain)\n",
    "pred_test4 = model_4.predict(Xtest)\n",
    "\n",
    "r2_score(ytrain, pred_train4), r2_score(ytest, pred_test4)"
   ]
  },
  {
   "cell_type": "markdown",
   "metadata": {
    "id": "GZCJNfIiPbGR"
   },
   "source": [
    "Модель со стрижкой получилась лучше"
   ]
  },
  {
   "cell_type": "markdown",
   "metadata": {
    "id": "e6jsvwpOPaZE"
   },
   "source": [
    "|"
   ]
  },
  {
   "cell_type": "markdown",
   "metadata": {
    "id": "JrSB8ytHPdmU"
   },
   "source": [
    "|"
   ]
  },
  {
   "cell_type": "markdown",
   "metadata": {
    "id": "TMdq7W_TPfBU"
   },
   "source": [
    "|"
   ]
  },
  {
   "cell_type": "markdown",
   "metadata": {
    "id": "ofiYLKLUPf49"
   },
   "source": [
    "|"
   ]
  },
  {
   "cell_type": "markdown",
   "metadata": {
    "id": "2TXOLduOPggJ"
   },
   "source": [
    "|"
   ]
  },
  {
   "cell_type": "markdown",
   "metadata": {
    "id": "i1n39NoJ1Y8W"
   },
   "source": [
    "## Ответы для самопроверки"
   ]
  },
  {
   "cell_type": "markdown",
   "metadata": {
    "id": "nT-wKoPuIMdh"
   },
   "source": [
    "Обучите решающее дерево с параметрами по умолчанию на тренировочных данных, затем оцените качество на тренировочных и тестовых данных.\n",
    "\n",
    "Везде далее качество – это значении метрики $R^2$.\n",
    "\n",
    "Сделайте выводы:\n",
    "*  хорошая ли получилась модель (по качеству на тесте)?\n",
    "*  переобучена ли модель?"
   ]
  },
  {
   "cell_type": "code",
   "execution_count": null,
   "metadata": {
    "id": "6Eo9R--rFTut"
   },
   "outputs": [],
   "source": [
    "from sklearn.tree import DecisionTreeRegressor\n",
    "\n",
    "tree = DecisionTreeRegressor()\n",
    "\n",
    "tree.fit(Xtrain, ytrain)\n",
    "\n",
    "pred_train = tree.predict(Xtrain)\n",
    "pred_test = tree.predict(Xtest)"
   ]
  },
  {
   "cell_type": "code",
   "execution_count": null,
   "metadata": {
    "colab": {
     "base_uri": "https://localhost:8080/"
    },
    "id": "rjiOaONCIX7J",
    "outputId": "77e04751-df3f-4e08-f28b-1304c5e32d55"
   },
   "outputs": [
    {
     "data": {
      "text/plain": [
       "(0.9997875001371536, 0.621767874481379)"
      ]
     },
     "execution_count": 29,
     "metadata": {},
     "output_type": "execute_result"
    }
   ],
   "source": [
    "from sklearn.metrics import r2_score\n",
    "\n",
    "r2_score(ytrain, pred_train), r2_score(ytest, pred_test)"
   ]
  },
  {
   "cell_type": "markdown",
   "metadata": {
    "id": "_oxC0EisIqCP"
   },
   "source": [
    "Дерево получилось сильно переобученным. Качество предсказания на новых данных невысокое."
   ]
  },
  {
   "cell_type": "markdown",
   "metadata": {
    "id": "EyzglRYwIux_"
   },
   "source": [
    "Теперь оцените качество модели (r2) на кросс-валидации с тремя фолдами.\n",
    "\n",
    "Для кросс-валидации используйте все обучающие данные (до разбиения на трейн и тест)."
   ]
  },
  {
   "cell_type": "code",
   "execution_count": null,
   "metadata": {
    "colab": {
     "base_uri": "https://localhost:8080/"
    },
    "id": "KFOm2EFhIbWB",
    "outputId": "74482ad7-d054-475f-ee87-1dbb0a22a330"
   },
   "outputs": [
    {
     "data": {
      "text/plain": [
       "0.5766292377175918"
      ]
     },
     "execution_count": 30,
     "metadata": {},
     "output_type": "execute_result"
    }
   ],
   "source": [
    "from sklearn.model_selection import cross_val_score\n",
    "\n",
    "cross_val_score(tree, data[x], data[y], cv=3, scoring='r2').mean()"
   ]
  },
  {
   "cell_type": "markdown",
   "metadata": {
    "id": "XyZ-cCbdJECy"
   },
   "source": [
    "Что вы можете сказать о качестве модели? Совпало ли среднее качество на кросс-валидацией со значением $R^2$ на тестовых данных? Почему?"
   ]
  },
  {
   "cell_type": "markdown",
   "metadata": {
    "id": "uD1oL6xSJMeD"
   },
   "source": [
    "По кросс-валидации качество отличается от скора на тесте в силу того, что модель сильно привязана к разбиению на трейн-тест. Лучше оценивать среднее качество при нескольких разбиениях, то есть по кросс-валидации."
   ]
  },
  {
   "cell_type": "markdown",
   "metadata": {
    "id": "wLaIuACGJQdf"
   },
   "source": [
    "Давайте улучшать модель.\n",
    "\n",
    "Для начала по кросс-валидации в цикле подберите оптимальную глубину дерева:\n",
    "*   кросс-валидацию делайте только по тренировочным данным (cv=3, scoring='r2');\n",
    "*   глубину ищите в диапазоне от 1 до 20 включительно;\n",
    "*   выведите на экран значение max_depth, для которого значение метрики на кросс-валидации максимально."
   ]
  },
  {
   "cell_type": "code",
   "execution_count": null,
   "metadata": {
    "colab": {
     "base_uri": "https://localhost:8080/"
    },
    "id": "nOnHM1ZdJO5w",
    "outputId": "8de38784-11df-4d2d-a727-8bf11cd0fe7c"
   },
   "outputs": [
    {
     "name": "stdout",
     "output_type": "stream",
     "text": [
      "1 0.4730286732671081\n",
      "2 0.5848595301105214\n",
      "3 0.5704306628708652\n",
      "4 0.5988254812315529\n",
      "5 0.613141168470157\n",
      "6 0.6142723013418843\n",
      "7 0.5945088256234881\n",
      "8 0.594931027780477\n",
      "9 0.5962672634579836\n",
      "10 0.5811833340079992\n",
      "11 0.5492549954831768\n",
      "12 0.5416982403574959\n",
      "13 0.5360269331294188\n",
      "14 0.5522864929770348\n",
      "15 0.5413494374004723\n",
      "16 0.5600645407892677\n",
      "17 0.5497188578011336\n",
      "18 0.5575258861753952\n",
      "19 0.5415662488177513\n",
      "20 0.5349656580181782\n",
      "6\n"
     ]
    }
   ],
   "source": [
    "max_score = -1\n",
    "depth = -1\n",
    "\n",
    "for d in np.arange(1,21):\n",
    "    tree = DecisionTreeRegressor(max_depth = d)\n",
    "\n",
    "    score = cross_val_score(tree, Xtrain, ytrain, cv=3, scoring='r2').mean()\n",
    "    print(d, score)\n",
    "\n",
    "    if score > max_score:\n",
    "        max_score = score\n",
    "        depth = d\n",
    "\n",
    "print(depth)"
   ]
  },
  {
   "cell_type": "markdown",
   "metadata": {
    "id": "yu5Twp5CKjeZ"
   },
   "source": [
    "Теперь для найденного значения max_depth обучите дерево на всех тренировочных данных, сделайте предсказание на трейне и на тесте и оцените значения метрики.\n",
    "\n",
    "Удалось ли:\n",
    "*  улучшить качество предсказания на тесте?\n",
    "*  снизить переобучение?"
   ]
  },
  {
   "cell_type": "code",
   "execution_count": null,
   "metadata": {
    "id": "06L4MR7xJDAl"
   },
   "outputs": [],
   "source": [
    "tree2 = DecisionTreeRegressor(max_depth = depth)\n",
    "\n",
    "tree2.fit(Xtrain, ytrain)\n",
    "\n",
    "pred_train = tree2.predict(Xtrain)\n",
    "pred_test = tree2.predict(Xtest)"
   ]
  },
  {
   "cell_type": "code",
   "execution_count": null,
   "metadata": {
    "colab": {
     "base_uri": "https://localhost:8080/"
    },
    "id": "xjbSODsFKuwL",
    "outputId": "6666b487-1ec0-474b-f0b1-94b21da4efa5"
   },
   "outputs": [
    {
     "data": {
      "text/plain": [
       "(0.8793304502214313, 0.7470043177837036)"
      ]
     },
     "execution_count": 41,
     "metadata": {},
     "output_type": "execute_result"
    }
   ],
   "source": [
    "r2_score(ytrain, pred_train), r2_score(ytest, pred_test)"
   ]
  },
  {
   "cell_type": "markdown",
   "metadata": {
    "id": "ZCeOy3WnLCg-"
   },
   "source": [
    "Переобучение снизилось. Качество предсказания на новых данных подросло."
   ]
  },
  {
   "cell_type": "markdown",
   "metadata": {
    "id": "LRpEOfRqLJVk"
   },
   "source": [
    "Теперь для найденной оптимальной глубины дерева подберите значение min_samples_split в диапазоне от 1 до 15 с шагом 1. Также по кросс-валидации на тренировочных данных (как и при подборе max_depth)."
   ]
  },
  {
   "cell_type": "code",
   "execution_count": null,
   "metadata": {
    "colab": {
     "base_uri": "https://localhost:8080/"
    },
    "id": "6pOpbuMBLAV2",
    "outputId": "c1bfc6dc-dd2e-435f-8ef2-c85c3ceb065d"
   },
   "outputs": [
    {
     "name": "stdout",
     "output_type": "stream",
     "text": [
      "10\n"
     ]
    }
   ],
   "source": [
    "max_score = -1\n",
    "mss = -1\n",
    "\n",
    "for m in np.arange(1,16):\n",
    "    tree = DecisionTreeRegressor(max_depth = depth, min_samples_split = m)\n",
    "\n",
    "    score = cross_val_score(tree, Xtrain, ytrain, cv=3, scoring='r2').mean()\n",
    "\n",
    "    if score > max_score:\n",
    "        max_score = score\n",
    "        mss = m\n",
    "\n",
    "print(mss)"
   ]
  },
  {
   "cell_type": "markdown",
   "metadata": {
    "id": "mqzwtbBRLyjf"
   },
   "source": [
    "Теперь для найденного значения max_depth и найденного min_samples_split обучите дерево на всех тренировочных данных, сделайте предсказание на трейне и на тесте и оцените значения метрики.\n",
    "\n",
    "Удалось ли:\n",
    "*  ещё улучшить качество предсказания на тесте?\n",
    "*  ещё снизить переобучение?"
   ]
  },
  {
   "cell_type": "code",
   "execution_count": null,
   "metadata": {
    "colab": {
     "base_uri": "https://localhost:8080/"
    },
    "id": "fStIH36QLi2e",
    "outputId": "3867b94a-7d45-4c90-eafd-bfb4800e30b6"
   },
   "outputs": [
    {
     "data": {
      "text/plain": [
       "(0.874009469665285, 0.7622744406802879)"
      ]
     },
     "execution_count": 52,
     "metadata": {},
     "output_type": "execute_result"
    }
   ],
   "source": [
    "tree3 = DecisionTreeRegressor(max_depth = depth, min_samples_split = mss)\n",
    "\n",
    "tree3.fit(Xtrain, ytrain)\n",
    "\n",
    "pred_train = tree3.predict(Xtrain)\n",
    "pred_test = tree3.predict(Xtest)\n",
    "\n",
    "r2_score(ytrain, pred_train), r2_score(ytest, pred_test)"
   ]
  },
  {
   "cell_type": "markdown",
   "metadata": {
    "id": "yCLhoEExMCal"
   },
   "source": [
    "Переобучение снизилось ещё сильнее. Модель стала работать на новых данных ещё лучше."
   ]
  },
  {
   "cell_type": "markdown",
   "metadata": {
    "id": "3EeC5xIjMFPs"
   },
   "source": [
    "Сейчас вы подбирали max_depth и min_samples_split последовательно, но, возможно, при одновременном подборе этих гиперпараметров оптимальный набор значений этих гиперпараметров получится другим.\n",
    "\n",
    "При помощи вложенного цикла по той же схеме с кросс-валидацией на тренировочных данных подберите пару значений (max_depth, min_samples_split), для которых достигается наилучшее среднее значение метрики на кросс-валидации.\n",
    "\n",
    "Выведите на экран найденные значения гиперпараметров."
   ]
  },
  {
   "cell_type": "code",
   "execution_count": null,
   "metadata": {
    "colab": {
     "base_uri": "https://localhost:8080/"
    },
    "id": "3kMJB5nHMAI7",
    "outputId": "39fbcbd9-537e-4dcd-de4b-7e7c2158178f"
   },
   "outputs": [
    {
     "name": "stdout",
     "output_type": "stream",
     "text": [
      "5 9\n"
     ]
    }
   ],
   "source": [
    "max_score = -1\n",
    "depth = -1\n",
    "mss = -1\n",
    "\n",
    "for d in np.arange(1,21):\n",
    "    for m in np.arange(1,16):\n",
    "        tree = DecisionTreeRegressor(max_depth = d, min_samples_split = m)\n",
    "\n",
    "        score = cross_val_score(tree, Xtrain, ytrain, cv=3, scoring='r2').mean()\n",
    "\n",
    "        if score > max_score:\n",
    "            max_score = score\n",
    "            depth = d\n",
    "            mss = m\n",
    "\n",
    "print(depth, mss)"
   ]
  },
  {
   "cell_type": "markdown",
   "metadata": {
    "id": "OBwguQwGMstG"
   },
   "source": [
    "Теперь для найденного значения max_depth и найденного min_samples_split обучите дерево на всех тренировочных данных, сделайте предсказание на трейне и на тесте и оцените значения метрики.\n",
    "\n",
    "*  Лучше ли подбирать гиперпараметры одновременно? Что можно сказать о качестве и переобученности алгоритма?"
   ]
  },
  {
   "cell_type": "code",
   "execution_count": null,
   "metadata": {
    "colab": {
     "base_uri": "https://localhost:8080/"
    },
    "id": "_y6UZft3MrVT",
    "outputId": "557086e7-ae7d-4e47-e2bd-7a4a6b30c9dd"
   },
   "outputs": [
    {
     "data": {
      "text/plain": [
       "(0.8304914297420238, 0.7811238056960585)"
      ]
     },
     "execution_count": 54,
     "metadata": {},
     "output_type": "execute_result"
    }
   ],
   "source": [
    "tree4 = DecisionTreeRegressor(max_depth = depth, min_samples_split = mss)\n",
    "\n",
    "tree4.fit(Xtrain, ytrain)\n",
    "\n",
    "pred_train = tree4.predict(Xtrain)\n",
    "pred_test = tree4.predict(Xtest)\n",
    "\n",
    "r2_score(ytrain, pred_train), r2_score(ytest, pred_test)"
   ]
  },
  {
   "cell_type": "markdown",
   "metadata": {
    "id": "n-KZ3YTIM95e"
   },
   "source": [
    "Одновременный подбор гиперпараметров точнее, чем поочередный. Это можно видеть по метрикам."
   ]
  },
  {
   "cell_type": "markdown",
   "metadata": {
    "id": "7FBe8oQWM_tc"
   },
   "source": [
    "А теперь попробуйте снизить переобучение не за счёт подбора различных гиперпараметров, ограничивающих структуру дерева, а за счёт стрижки.\n",
    "\n",
    "По аналогии с тем, как было сделано в уроке про стрижку, найдите список возможных значений $\\alpha$ для стрижки, вычисляя их по тренировочным данным (нужна функция cost_complexity_pruning_path)."
   ]
  },
  {
   "cell_type": "code",
   "execution_count": null,
   "metadata": {
    "id": "0DijmR91M7Ql"
   },
   "outputs": [],
   "source": [
    "tree = DecisionTreeRegressor()\n",
    "\n",
    "path = tree.cost_complexity_pruning_path(Xtrain, ytrain)\n",
    "alphas = path['ccp_alphas']"
   ]
  },
  {
   "cell_type": "markdown",
   "metadata": {
    "id": "usTnmyQ1N6P2"
   },
   "source": [
    "Следуя ноутбуку из того же скринкаста про стрижку, для каждого из найденных значений $\\alpha$ обучите решающее дерево на тренировочных данных, сделайте предсказания на трейне и тесте и вычислите метрику. \n",
    "\n",
    "Постройте графики ошибки на трейне и тесте в зависимости от значения $\\alpha$, оба графика на одной координатной плоскости.\n",
    "\n",
    "Также вычислите значение $\\alpha$, для которого качество на тесте максимально. Выведите его на экран."
   ]
  },
  {
   "cell_type": "code",
   "execution_count": null,
   "metadata": {
    "colab": {
     "base_uri": "https://localhost:8080/",
     "height": 461
    },
    "id": "u4wlnAKeNjGQ",
    "outputId": "38594822-ceac-4f1c-a8eb-2e1c5bfe8b42"
   },
   "outputs": [
    {
     "data": {
      "image/png": "[encoded data removed]",
      "text/plain": [
       "<Figure size 1008x504 with 1 Axes>"
      ]
     },
     "metadata": {},
     "output_type": "display_data"
    },
    {
     "name": "stdout",
     "output_type": "stream",
     "text": [
      "15142504.949450381\n"
     ]
    }
   ],
   "source": [
    "r2_train, r2_test=[], []\n",
    "\n",
    "max_score = -1\n",
    "alpha = -1\n",
    "\n",
    "for i in alphas:\n",
    "    tree = DecisionTreeRegressor(ccp_alpha = i)\n",
    "    \n",
    "    tree.fit(Xtrain, ytrain)\n",
    "    ytrain_pred = tree.predict(Xtrain)\n",
    "    ytest_pred = tree.predict(Xtest)\n",
    "    \n",
    "    r2_train.append(r2_score(ytrain, ytrain_pred))\n",
    "    r2_test.append(r2_score(ytest, ytest_pred))\n",
    "\n",
    "    if r2_score(ytest, ytest_pred) > max_score:\n",
    "        max_score = r2_score(ytest, ytest_pred)\n",
    "        alpha = i\n",
    "    \n",
    "    \n",
    "sns.set()\n",
    "plt.figure(figsize=(14,7))\n",
    "sns.lineplot(y = r2_train, x = alphas, label = \"Train r2\")\n",
    "sns.lineplot(y = r2_test, x = alphas, label = \"Test r2\")\n",
    "plt.show()\n",
    "print(alpha)"
   ]
  },
  {
   "cell_type": "markdown",
   "metadata": {
    "id": "dw062q8TOgWY"
   },
   "source": [
    "Для найденного значения $\\alpha$ обучите дерево с параметром ccp_alpha равным $\\alpha$ на тренировочных данных, сделайте предсказание на трейне и тесте и оцените качество предсказания на новых данных и переобучение модели.\n",
    "\n",
    "Какая модель в итоге получилась лучше: с ограничением max_depth и min_samples_split или при помощи стрижки?"
   ]
  },
  {
   "cell_type": "code",
   "execution_count": null,
   "metadata": {
    "colab": {
     "base_uri": "https://localhost:8080/"
    },
    "id": "JOVRCfRpNs8N",
    "outputId": "af68b36a-9c0d-473a-d2fc-a5e396475347"
   },
   "outputs": [
    {
     "data": {
      "text/plain": [
       "(0.8605964058410931, 0.798560696099226)"
      ]
     },
     "execution_count": 65,
     "metadata": {},
     "output_type": "execute_result"
    }
   ],
   "source": [
    "tree5 = DecisionTreeRegressor(ccp_alpha = alpha)\n",
    "\n",
    "tree5.fit(Xtrain, ytrain)\n",
    "\n",
    "pred_train = tree5.predict(Xtrain)\n",
    "pred_test = tree5.predict(Xtest)\n",
    "\n",
    "r2_score(ytrain, pred_train), r2_score(ytest, pred_test)"
   ]
  },
  {
   "cell_type": "markdown",
   "metadata": {
    "id": "mqVkwTfDPOdY"
   },
   "source": [
    "Стрижка выдала наиболее качественную модель: она лучше всех предсказывает на новых данных и при этом слабо переобучена."
   ]
  }
 ],
 "metadata": {
  "colab": {
   "collapsed_sections": [
    "fXc3niR9PbGL",
    "C8YKyXPnPbGM",
    "TXDXq9oUPbGN",
    "Xg32f6pTPbGP",
    "ydp7Rt5zPbGQ",
    "GZCJNfIiPbGR"
   ],
   "provenance": []
  },
  "kernelspec": {
   "display_name": "Python 3 (ipykernel)",
   "language": "python",
   "name": "python3"
  },
  "language_info": {
   "codemirror_mode": {
    "name": "ipython",
    "version": 3
   },
   "file_extension": ".py",
   "mimetype": "text/x-python",
   "name": "python",
   "nbconvert_exporter": "python",
   "pygments_lexer": "ipython3",
   "version": "3.10.9"
  }
 },
 "nbformat": 4,
 "nbformat_minor": 1
}
