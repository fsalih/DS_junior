{
  "nbformat": 4,
  "nbformat_minor": 0,
  "metadata": {
    "colab": {
      "name": "4. Функция потерь .ipynb",
      "provenance": [],
      "collapsed_sections": []
    },
    "kernelspec": {
      "name": "python3",
      "display_name": "Python 3"
    },
    "language_info": {
      "name": "python"
    }
  },
  "cells": [
    {
      "cell_type": "markdown",
      "source": [
        "# Функция потерь"
      ],
      "metadata": {
        "id": "9zH7MLlLxC4N"
      }
    },
    {
      "cell_type": "markdown",
      "source": [
        "Рассмотрим простейшие функции потерь для задачи регрессии"
      ],
      "metadata": {
        "id": "MPR2pNCRxNgK"
      }
    },
    {
      "cell_type": "code",
      "source": [
        "%matplotlib inline\n",
        "import matplotlib.pyplot as plt\n",
        "import numpy as np"
      ],
      "metadata": {
        "id": "0PFzO-r0xUTl"
      },
      "execution_count": null,
      "outputs": []
    },
    {
      "cell_type": "markdown",
      "source": [
        "Используется `np.array` вместо обычных списков:"
      ],
      "metadata": {
        "id": "e9Sro_d9rkfU"
      }
    },
    {
      "cell_type": "code",
      "source": [
        "[1, 2] + [1, 2]"
      ],
      "metadata": {
        "colab": {
          "base_uri": "https://localhost:8080/"
        },
        "id": "r4PG8jk4rjQW",
        "outputId": "bddb9fc0-b4fe-40cb-dff8-9be9f5799927"
      },
      "execution_count": null,
      "outputs": [
        {
          "output_type": "execute_result",
          "data": {
            "text/plain": [
              "[1, 2, 1, 2]"
            ]
          },
          "metadata": {},
          "execution_count": 2
        }
      ]
    },
    {
      "cell_type": "code",
      "source": [
        "np.array([1, 2]) + np.array([1, 2])"
      ],
      "metadata": {
        "colab": {
          "base_uri": "https://localhost:8080/"
        },
        "id": "s6cpSmo_rtWA",
        "outputId": "2955b5db-3b21-4efc-a8fa-0012802cc912"
      },
      "execution_count": null,
      "outputs": [
        {
          "output_type": "execute_result",
          "data": {
            "text/plain": [
              "array([2, 4])"
            ]
          },
          "metadata": {},
          "execution_count": 3
        }
      ]
    },
    {
      "cell_type": "markdown",
      "source": [
        "## Пример 1"
      ],
      "metadata": {
        "id": "614uBSdqxHuj"
      }
    },
    {
      "cell_type": "markdown",
      "source": [
        "Пусть имеется набор точек `x = [0, 1, 2, 3, 4, 5]` и `y = [0, 1, 2, 3, 4, 5]`"
      ],
      "metadata": {
        "id": "EGefMigxxoyR"
      }
    },
    {
      "cell_type": "markdown",
      "source": [
        "про нампай"
      ],
      "metadata": {
        "id": "GODlZ9JiznD_"
      }
    },
    {
      "cell_type": "code",
      "source": [
        "x = np.array([0, 1, 2, 3, 4, 5])\n",
        "y = np.array([0, 1, 2, 3, 4, 5])"
      ],
      "metadata": {
        "id": "4UxmjZQCx5Da"
      },
      "execution_count": null,
      "outputs": []
    },
    {
      "cell_type": "markdown",
      "source": [
        "Отобразим их на графике"
      ],
      "metadata": {
        "id": "3rtaL_8Zx8Hj"
      }
    },
    {
      "cell_type": "code",
      "source": [
        "plt.scatter(y, y, s=30)\n",
        "plt.xlabel('x')\n",
        "plt.ylabel('y')\n",
        "plt.show()"
      ],
      "metadata": {
        "colab": {
          "base_uri": "https://localhost:8080/",
          "height": 278
        },
        "id": "G25PddWGx5oL",
        "outputId": "b772160c-066b-4194-940c-f55fafcb5628"
      },
      "execution_count": null,
      "outputs": [
        {
          "output_type": "display_data",
          "data": {
            "text/plain": [
              "<Figure size 432x288 with 1 Axes>"
            ],
            "image/png": "[encoded data removed]"
          },
          "metadata": {
            "needs_background": "light"
          }
        }
      ]
    },
    {
      "cell_type": "markdown",
      "source": [
        "Очевидно, что точки лежат на одной линии, но представим, что мы этого не знаем и нам надо определить эту линию.\n",
        "\n",
        "Вариантов может быть достаточно много:"
      ],
      "metadata": {
        "id": "Ujpimdq6yAVD"
      }
    },
    {
      "cell_type": "code",
      "source": [
        "y1 = np.array([0, 1, 2, 3, 4, 5])\n",
        "y2 = np.array([0, 1, 1, 10, 4, 5])\n",
        "y3 = np.array([0, 1, 4, 4, 5, 5])"
      ],
      "metadata": {
        "id": "pgxJqahDumxw"
      },
      "execution_count": null,
      "outputs": []
    },
    {
      "cell_type": "code",
      "source": [
        "plt.scatter(y, y, s=30)\n",
        "plt.plot(y1, 'g')\n",
        "plt.plot(y2, 'r')\n",
        "plt.plot(y3, 'r')\n",
        "plt.xlabel('x')\n",
        "plt.ylabel('y')\n",
        "plt.show()"
      ],
      "metadata": {
        "colab": {
          "base_uri": "https://localhost:8080/",
          "height": 278
        },
        "id": "jS_Sl12OwkV-",
        "outputId": "d2846eb7-ac7e-4a3d-d88b-6d223ebcec49"
      },
      "execution_count": null,
      "outputs": [
        {
          "output_type": "display_data",
          "data": {
            "text/plain": [
              "<Figure size 432x288 with 1 Axes>"
            ],
            "image/png": "[encoded data removed]"
          },
          "metadata": {
            "needs_background": "light"
          }
        }
      ]
    },
    {
      "cell_type": "markdown",
      "source": [
        "Видим, что зеленая линия - это то, что мы хотели найти. \n",
        "\n",
        "Осталось доказать математичеки, что это наилучшее приближение функции (линии) к исходному набору данных (точкам)."
      ],
      "metadata": {
        "id": "syEpNzsCyWTp"
      }
    },
    {
      "cell_type": "markdown",
      "source": [
        "Воспользуемся самой простой идеей и вычтем из правильных ответов предсказанные и сложим результат.\n",
        "\n",
        "Для `y3` получим следующее:\n",
        "\n",
        "(0-0)+(1-1)+(2-4)+(3-4)+(4-5)+(5-5) = -4\n",
        "\n",
        "Аналогично посчитаем для `y1` и `y2`, а использование типа данных `numpy array` упростит наши вычисления:"
      ],
      "metadata": {
        "id": "rRafmGIR7aN5"
      }
    },
    {
      "cell_type": "code",
      "source": [
        "e1 = sum(y - y1)\n",
        "e2 = sum(y - y2)\n",
        "e3 = sum(y - y3)\n",
        "\n",
        "print(e1)\n",
        "print(e2)\n",
        "print(e3)"
      ],
      "metadata": {
        "colab": {
          "base_uri": "https://localhost:8080/"
        },
        "id": "djpnvAP_u77I",
        "outputId": "e9f62b81-ecf2-46c3-c57c-78fe9f213f17"
      },
      "execution_count": null,
      "outputs": [
        {
          "output_type": "stream",
          "name": "stdout",
          "text": [
            "0\n",
            "-6\n",
            "-4\n"
          ]
        }
      ]
    },
    {
      "cell_type": "markdown",
      "source": [
        "И для получения средней ошибки для каждого объекта разделим полученное значение на число объектов.\n",
        "\n",
        "Для `y3` получим следующее:\n",
        "\n",
        "((0-0)+(1-1)+(2-4)+(3-4)+(4-5)+(5-5)) / 6 = -4 / 6 = -0.66"
      ],
      "metadata": {
        "id": "Oeq_uW17-4UH"
      }
    },
    {
      "cell_type": "code",
      "source": [
        "e1 = sum(y - y1)/len(y)\n",
        "e2 = sum(y - y2)/len(y)\n",
        "e3 = sum(y - y3)/len(y)\n",
        "\n",
        "print(e1)\n",
        "print(e2)\n",
        "print(e3)"
      ],
      "metadata": {
        "colab": {
          "base_uri": "https://localhost:8080/"
        },
        "id": "9UNCT7f7-3v3",
        "outputId": "9cb759df-ca1b-48c2-ef9a-ac7d93891a41"
      },
      "execution_count": null,
      "outputs": [
        {
          "output_type": "stream",
          "name": "stdout",
          "text": [
            "0.0\n",
            "-1.0\n",
            "-0.6666666666666666\n"
          ]
        }
      ]
    },
    {
      "cell_type": "markdown",
      "source": [
        "**Функция потерь** в машинном обучении является мерой того, насколько точно полученная модель способна предсказать целевую функцию (правильные ответы).\n",
        "\n",
        "В рассмотренном примере: \n",
        "мы посчитали самую простую функцию потерь и получили, что \n",
        "в `y1` наиболее точные предсказания."
      ],
      "metadata": {
        "id": "MPuLp4Ox8wuj"
      }
    },
    {
      "cell_type": "markdown",
      "source": [
        "Функция потерь по всем объектам называется **эмпирическим риском**. Чем меньше эмпирический риск, тем точнее работает модель машинного обучения.\n"
      ],
      "metadata": {
        "id": "-uI5WHonDWWV"
      }
    },
    {
      "cell_type": "markdown",
      "source": [
        "Только рассмотренную функцию используют редко, а вот ее небольшое видоизменение довольно таки часто: называется такая функция потерь **MAE** - mean absolute error - \n",
        "cредняя абсолютная ошибка. Это еще одна функция потерь, используемая в регрессионных моделях. \n",
        "\n",
        "MAE - это сумма абсолютного значения разницы  (то есть по модулю) между целевым значением и прогнозируемым значением. \n",
        "Он только измеряет среднюю длину модуля предсказанной ошибки значения, независимо от направления, и диапазон значений составляет от 0 до положительной бесконечности.\n",
        "\n",
        "То есть, чем ближе MAE к 0, тем модель лучше."
      ],
      "metadata": {
        "id": "SlHYHdLz9gHm"
      }
    },
    {
      "cell_type": "markdown",
      "source": [
        "Рассчитаем MAE для нашего примера:"
      ],
      "metadata": {
        "id": "66cEBxMl7ZBH"
      }
    },
    {
      "cell_type": "code",
      "source": [
        "e1 = sum(abs(y - y1))/len(y)\n",
        "e2 = sum(abs(y - y2))/len(y)\n",
        "e3 = sum(abs(y - y3))/len(y)\n",
        "\n",
        "print(e1)\n",
        "print(e2)\n",
        "print(e3)"
      ],
      "metadata": {
        "colab": {
          "base_uri": "https://localhost:8080/"
        },
        "id": "TOyvfh6Fu79K",
        "outputId": "a005f7b9-12e3-40a5-c1bc-8b72e7077cfc"
      },
      "execution_count": null,
      "outputs": [
        {
          "output_type": "stream",
          "name": "stdout",
          "text": [
            "0.0\n",
            "1.3333333333333333\n",
            "0.6666666666666666\n"
          ]
        }
      ]
    },
    {
      "cell_type": "markdown",
      "source": [
        "Аналогичный функцонал есть в библиотеке `sklearn`:"
      ],
      "metadata": {
        "id": "y4TF7FqE-iGK"
      }
    },
    {
      "cell_type": "code",
      "source": [
        "from sklearn.metrics import mean_absolute_error\n",
        "\n",
        "mean_absolute_error(y, y3)"
      ],
      "metadata": {
        "colab": {
          "base_uri": "https://localhost:8080/"
        },
        "id": "vmO_zMMwv9ET",
        "outputId": "e9bb384e-031c-4710-bb41-eaee29bb9dd8"
      },
      "execution_count": null,
      "outputs": [
        {
          "output_type": "execute_result",
          "data": {
            "text/plain": [
              "0.6666666666666666"
            ]
          },
          "metadata": {},
          "execution_count": 13
        }
      ]
    },
    {
      "cell_type": "markdown",
      "source": [
        "Рассмотрим следующий пример"
      ],
      "metadata": {
        "id": "_KRP9b_1_ew0"
      }
    },
    {
      "cell_type": "markdown",
      "source": [
        "## Пример 2"
      ],
      "metadata": {
        "id": "G3YyMgpmxW0U"
      }
    },
    {
      "cell_type": "markdown",
      "source": [
        "Сгенерируем большее количество точек, для это воспользуемся функционалом `numpy random`"
      ],
      "metadata": {
        "id": "1fF7tb6S_mtq"
      }
    },
    {
      "cell_type": "markdown",
      "source": [
        "Команда `np.random.rand(10, 1)` сгенерирует 10 случайных чисел со значениями 0 до 1"
      ],
      "metadata": {
        "id": "vi31w4hg_5ZY"
      }
    },
    {
      "cell_type": "code",
      "source": [
        "np.random.rand(10, 1)"
      ],
      "metadata": {
        "colab": {
          "base_uri": "https://localhost:8080/"
        },
        "id": "syYmDZ4v_3Km",
        "outputId": "d9bf89b6-6244-4748-d57f-278db271c44c"
      },
      "execution_count": null,
      "outputs": [
        {
          "output_type": "execute_result",
          "data": {
            "text/plain": [
              "array([[0.89984445],\n",
              "       [0.65435709],\n",
              "       [0.76107974],\n",
              "       [0.4546634 ],\n",
              "       [0.51032297],\n",
              "       [0.44049049],\n",
              "       [0.3941815 ],\n",
              "       [0.25895252],\n",
              "       [0.90411821],\n",
              "       [0.22347952]])"
            ]
          },
          "metadata": {},
          "execution_count": 18
        }
      ]
    },
    {
      "cell_type": "markdown",
      "source": [
        "Команда `np.random.randn(10, 1)` сгенерирует 10 случайных чисел, среднее которых будет равно 0"
      ],
      "metadata": {
        "id": "JaQ0qYovAh7L"
      }
    },
    {
      "cell_type": "code",
      "source": [
        "np.random.randn(10, 1)"
      ],
      "metadata": {
        "colab": {
          "base_uri": "https://localhost:8080/"
        },
        "id": "M98tVpu3AQZM",
        "outputId": "1185e74b-7916-4ef7-a017-c07ebe20359e"
      },
      "execution_count": null,
      "outputs": [
        {
          "output_type": "execute_result",
          "data": {
            "text/plain": [
              "array([[ 0.0616352 ],\n",
              "       [-0.12105073],\n",
              "       [ 0.87713122],\n",
              "       [-0.12899918],\n",
              "       [ 0.94563367],\n",
              "       [-0.01826823],\n",
              "       [ 1.74189031],\n",
              "       [-0.26926341],\n",
              "       [ 1.32004379],\n",
              "       [ 0.4835326 ]])"
            ]
          },
          "metadata": {},
          "execution_count": 19
        }
      ]
    },
    {
      "cell_type": "markdown",
      "source": [
        "Пусть нам заданы 100 точек:"
      ],
      "metadata": {
        "id": "uDgfctR5AwdB"
      }
    },
    {
      "cell_type": "code",
      "source": [
        "np.random.seed(0) # для воспроизведения результатов\n",
        "x = np.random.rand(100, 1)\n",
        "y = 1 + 5 * x + np.random.randn(100, 1)"
      ],
      "metadata": {
        "id": "vWdemqChAvk0"
      },
      "execution_count": null,
      "outputs": []
    },
    {
      "cell_type": "code",
      "source": [
        "plt.scatter(x, y, s=10)\n",
        "plt.xlabel('x')\n",
        "plt.ylabel('y')\n",
        "plt.show()"
      ],
      "metadata": {
        "colab": {
          "base_uri": "https://localhost:8080/",
          "height": 279
        },
        "id": "23djStjBBHdQ",
        "outputId": "082ad161-9fbd-4e63-f5d6-e68633347f55"
      },
      "execution_count": null,
      "outputs": [
        {
          "output_type": "display_data",
          "data": {
            "image/png": "[encoded data removed]",
            "text/plain": [
              "<Figure size 432x288 with 1 Axes>"
            ]
          },
          "metadata": {
            "needs_background": "light"
          }
        }
      ]
    },
    {
      "cell_type": "markdown",
      "source": [
        "У нас вновь может быть несколько вариантов того, как модель может выглядеть: наша задача определить, какая модель будет лучше - то есть с минимальной функцией потерь."
      ],
      "metadata": {
        "id": "WwqTYF9dBRHW"
      }
    },
    {
      "cell_type": "code",
      "source": [
        "y1 = 1 + 5 * x\n",
        "y2 = 3 + 5 * x\n",
        "y3 = 1 + 1 * x\n",
        "\n",
        "# plot\n",
        "plt.scatter(x, y, s=10)\n",
        "plt.plot(x, y1, 'g')\n",
        "plt.plot(x, y2, 'r')\n",
        "plt.plot(x, y3, 'r')\n",
        "plt.xlabel('x')\n",
        "plt.ylabel('y')\n",
        "plt.show()"
      ],
      "metadata": {
        "colab": {
          "base_uri": "https://localhost:8080/",
          "height": 279
        },
        "id": "z48xLU7bk7oJ",
        "outputId": "03f982ad-ed18-4518-82e7-88e9000ea63f"
      },
      "execution_count": null,
      "outputs": [
        {
          "output_type": "display_data",
          "data": {
            "image/png": "[encoded data removed]",
            "text/plain": [
              "<Figure size 432x288 with 1 Axes>"
            ]
          },
          "metadata": {
            "needs_background": "light"
          }
        }
      ]
    },
    {
      "cell_type": "markdown",
      "source": [
        "Определим, какая модель лучше с помощью уже известной нам MAE:"
      ],
      "metadata": {
        "id": "lE7XfwTfBgGg"
      }
    },
    {
      "cell_type": "code",
      "source": [
        "e1 = mean_absolute_error(y, y1)\n",
        "e2 = mean_absolute_error(y, y2)\n",
        "e3 = mean_absolute_error(y, y3)\n",
        "\n",
        "print(e1)\n",
        "print(e2)\n",
        "print(e3)"
      ],
      "metadata": {
        "colab": {
          "base_uri": "https://localhost:8080/"
        },
        "id": "OBUWOl6PwWfr",
        "outputId": "df67a3e8-1bb5-4605-8ad9-8f7511e38350"
      },
      "execution_count": null,
      "outputs": [
        {
          "output_type": "stream",
          "name": "stdout",
          "text": [
            "0.8623845994287561\n",
            "1.8153285514201543\n",
            "2.180005707537805\n"
          ]
        }
      ]
    },
    {
      "cell_type": "markdown",
      "source": [
        "Получаем, что ответы модели `y1` (зеленая линия на графике) дают минимальное значение MAE, что обозначает, что прогноз, согласно модели 1, наиболее точный."
      ],
      "metadata": {
        "id": "S0oOyiRYB0Yx"
      }
    }
  ]
}