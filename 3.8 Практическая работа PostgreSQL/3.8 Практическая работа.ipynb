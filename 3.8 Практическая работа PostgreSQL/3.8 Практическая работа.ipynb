{
 "cells": [
  {
   "cell_type": "markdown",
   "id": "fb2ea7c6",
   "metadata": {},
   "source": [
    "# Задача"
   ]
  },
  {
   "cell_type": "markdown",
   "id": "a5b15623",
   "metadata": {},
   "source": [
    "## 1. Напишите запросы к базе данных."
   ]
  },
  {
   "cell_type": "markdown",
   "id": "62e021c5",
   "metadata": {},
   "source": [
    "### a. Найдите модели принтеров, имеющих самую высокую цену. Вывести: model, price."
   ]
  },
  {
   "cell_type": "markdown",
   "id": "a1b55746",
   "metadata": {},
   "source": [
    "Код запроса:"
   ]
  },
  {
   "cell_type": "raw",
   "id": "b43872ac",
   "metadata": {},
   "source": [
    "select \n",
    "\tmodel,\n",
    "\tprice \n",
    "from\n",
    "\tlaptop\n",
    "where price=(select \n",
    "\t\t\t\tmax(price) \n",
    "\t\t\t from laptop);"
   ]
  },
  {
   "cell_type": "markdown",
   "id": "025e6a39",
   "metadata": {},
   "source": [
    "ИЛИ:"
   ]
  },
  {
   "cell_type": "raw",
   "id": "f20955d6",
   "metadata": {},
   "source": [
    "select \n",
    "\tmodel,\n",
    "\tprice \n",
    "from\n",
    "\t(select \n",
    "\t\tmodel,\n",
    "\t\tprice,\n",
    "\t\tmax(price) over() max_price\n",
    "\tfrom laptop\n",
    "\t) q1\n",
    "where price=max_price;"
   ]
  },
  {
   "cell_type": "markdown",
   "id": "9b4a8139",
   "metadata": {},
   "source": [
    "Вывод:"
   ]
  },
  {
   "cell_type": "raw",
   "id": "c5571eb7",
   "metadata": {},
   "source": [
    "model\tprice\n",
    "1325\t1000.0000\n",
    "1327\t1000.0000\n",
    "1336\t1000.0000\n",
    "1405\t1000.0000\n",
    "1406\t1000.0000"
   ]
  },
  {
   "cell_type": "markdown",
   "id": "42a0aebd",
   "metadata": {},
   "source": [
    "### b. Найдите среднюю скорость ПК."
   ]
  },
  {
   "cell_type": "markdown",
   "id": "cb75fa6c",
   "metadata": {},
   "source": [
    "Код запроса:"
   ]
  },
  {
   "cell_type": "raw",
   "id": "94953f2c",
   "metadata": {},
   "source": [
    "select avg(speed) from PC;"
   ]
  },
  {
   "cell_type": "markdown",
   "id": "2ff95cf6",
   "metadata": {},
   "source": [
    "Вывод:\n",
    "\n"
   ]
  },
  {
   "cell_type": "raw",
   "id": "e6bd1e79",
   "metadata": {},
   "source": [
    "avg\n",
    "680.7692307692307692"
   ]
  },
  {
   "cell_type": "markdown",
   "id": "f1ff02a6",
   "metadata": {},
   "source": [
    "### c. Найдите производителя, продающего ПК, но не ноутбуки."
   ]
  },
  {
   "cell_type": "markdown",
   "id": "c4cca39f",
   "metadata": {},
   "source": [
    "Код запроса:"
   ]
  },
  {
   "cell_type": "raw",
   "id": "532a0750",
   "metadata": {},
   "source": [
    "INSERT INTO PRODUCT\n",
    "VALUES\n",
    "('F', 1, 'PC');\n",
    "\n",
    "INSERT INTO PRODUCT\n",
    "VALUES\n",
    "('P', 2, 'Printer');\n",
    "\n",
    "select \n",
    "\tmaker,\n",
    "\tcount(*),\n",
    "\ttype\n",
    "from product\n",
    "where maker not in(select \n",
    "\t\t\t\t\t  maker \n",
    "\t\t\t\t  from (  \n",
    "\t\t\t\t\t\tselect \n",
    "\t\t\t\t\t\t\tmaker,\n",
    "\t\t\t\t\t\t\tcount(*),\n",
    "\t\t\t\t\t\t\ttype\n",
    "\t\t\t\t\t\tfrom product\n",
    "\t\t\t\t\t\twhere type='Laptop'\n",
    "\t\t\t\t\t\tgroup by maker, type\n",
    "\t\t\t\t\t\t) q2\n",
    "\t\t\t\t ) \n",
    "\t\t\t\t and type='PC'\n",
    "group by maker, type;"
   ]
  },
  {
   "cell_type": "markdown",
   "id": "31ea5be6",
   "metadata": {},
   "source": [
    "Вывод:"
   ]
  },
  {
   "cell_type": "raw",
   "id": "ad4463ac",
   "metadata": {},
   "source": [
    "maker\tcount\t\"type\"\n",
    "F\t1\tPC"
   ]
  },
  {
   "cell_type": "markdown",
   "id": "ef8e11cb",
   "metadata": {},
   "source": [
    "## 2. Загрязните специально датасет (вставьте новые значения с уникальным кодом, но всеми остальными дублирующими полями)."
   ]
  },
  {
   "cell_type": "markdown",
   "id": "d646d745",
   "metadata": {},
   "source": [
    "Код:"
   ]
  },
  {
   "cell_type": "raw",
   "id": "77a13104",
   "metadata": {},
   "source": [
    "INSERT INTO PC\n",
    "VALUES\n",
    "(601, 1121, 900, 128, 20, '44x', 400),\n",
    "(602, 1122, 600, 96, 5, '44x', 800),\n",
    "(603, 1123, 800, 96, 20, '24x', 750),\n",
    "(604, 1124, 700, 96, 10, '52x', 950),\n",
    "(605, 1125, 500, 96, 15, '20x', 950),\n",
    "(606, 1126, 600, 96, 15, '32x', 650),\n",
    "(607, 1127, 800, 64, 5, '16x', 850),\n",
    "(608, 1128, 600, 64, 10, '24x', 950),\n",
    "(609, 1129, 500, 32, 20, '36x', 1000),\n",
    "(6010, 1130, 500, 128, 5, '20x', 650),\n",
    "(6011, 1131, 900, 32, 20, '32x', 350),\n",
    "(6012, 1132, 600, 128, 20, '48x', 400),\n",
    "(6013, 1133, 700, 128, 15, '28x', 650),\n",
    "(6014, 1134, 500, 64, 20, '32x', 900),\n",
    "(6015, 1135, 500, 64, 20, '24x', 800);"
   ]
  },
  {
   "cell_type": "markdown",
   "id": "592c5238",
   "metadata": {},
   "source": [
    "## 3. Напишите оконную функцию, которая поможет вам обнаружить эти строки-редиски."
   ]
  },
  {
   "cell_type": "markdown",
   "id": "ed981ce7",
   "metadata": {},
   "source": [
    "Код:"
   ]
  },
  {
   "cell_type": "raw",
   "id": "1b7efade",
   "metadata": {},
   "source": [
    "select * from\n",
    "\t(select \n",
    "\t\tcode,\n",
    "\t\tmodel,\n",
    "\t\tspeed,\n",
    "\t\tram,\n",
    "\t\thd,\n",
    "\t\tcd,\n",
    "\t\tprice,\n",
    "\t\tcount(*) over(partition by model, speed, ram, hd, cd, price order by code asc) as cnt\t\n",
    "\tfrom pc) q1\n",
    "where q1.cnt>1;"
   ]
  },
  {
   "cell_type": "markdown",
   "id": "04ccde80",
   "metadata": {},
   "source": [
    "Вывод:"
   ]
  },
  {
   "cell_type": "raw",
   "id": "c1575474",
   "metadata": {},
   "source": [
    "code\tmodel\tspeed\tram\thd\tcd\tprice\tcnt\n",
    "601\t1121\t900\t128\t20.0\t44x\t400.0000\t2\n",
    "602\t1122\t600\t96\t5.0\t44x\t800.0000\t2\n",
    "603\t1123\t800\t96\t20.0\t24x\t750.0000\t2\n",
    "604\t1124\t700\t96\t10.0\t52x\t950.0000\t2\n",
    "605\t1125\t500\t96\t15.0\t20x\t950.0000\t2\n",
    "606\t1126\t600\t96\t15.0\t32x\t650.0000\t2\n",
    "607\t1127\t800\t64\t5.0\t16x\t850.0000\t2\n",
    "608\t1128\t600\t64\t10.0\t24x\t950.0000\t2\n",
    "609\t1129\t500\t32\t20.0\t36x\t1000.0000\t2\n",
    "6010\t1130\t500\t128\t5.0\t20x\t650.0000\t2\n",
    "6011\t1131\t900\t32\t20.0\t32x\t350.0000\t2\n",
    "6012\t1132\t600\t128\t20.0\t48x\t400.0000\t2\n",
    "6013\t1133\t700\t128\t15.0\t28x\t650.0000\t2\n",
    "6014\t1134\t500\t64\t20.0\t32x\t900.0000\t2\n",
    "6015\t1135\t500\t64\t20.0\t24x\t800.0000\t2"
   ]
  },
  {
   "cell_type": "markdown",
   "id": "fd6c2cfb",
   "metadata": {},
   "source": [
    "## 4. Обновите название колонки в таблице printer с color на color_type и поменяйте тип поля."
   ]
  },
  {
   "cell_type": "markdown",
   "id": "f1838716",
   "metadata": {},
   "source": [
    "Код:"
   ]
  },
  {
   "cell_type": "raw",
   "id": "ca46d059",
   "metadata": {},
   "source": [
    "alter table printer rename column color to color_type;\n",
    "\n",
    "ALTER TABLE printer ALTER COLUMN color_type type VARCHAR(16);"
   ]
  },
  {
   "cell_type": "markdown",
   "id": "8a8cfa31",
   "metadata": {},
   "source": [
    "## 5. В последнем пункте выполните слияние двух запросов из таблиц PC и Laptop, выбрав только те значения, у которых цена больше 500, а ram = 64."
   ]
  },
  {
   "cell_type": "markdown",
   "id": "f5510f03",
   "metadata": {},
   "source": [
    "Код"
   ]
  },
  {
   "cell_type": "raw",
   "id": "3ae61e47",
   "metadata": {},
   "source": [
    "(select \n",
    "\tcode,\n",
    "\tmodel,\n",
    "\tspeed,\n",
    "\tram,\n",
    "\thd,\n",
    "\tprice\n",
    "from laptop\n",
    "where (price>500)and(ram=64))\n",
    "union all\n",
    "(select \n",
    "\tcode,\n",
    "\tmodel,\n",
    "\tspeed,\n",
    "\tram,\n",
    "\thd,\n",
    "\tprice\n",
    "from pc\n",
    "where (price>500)and(ram=64));"
   ]
  },
  {
   "cell_type": "markdown",
   "id": "513b265f",
   "metadata": {},
   "source": [
    "Вывод:"
   ]
  },
  {
   "cell_type": "raw",
   "id": "95d19c38",
   "metadata": {},
   "source": [
    "code\tmodel\tspeed\tram\thd\tprice\n",
    "206\t1327\t500\t64\t15.0\t1000.0000\n",
    "209\t1330\t600\t64\t20.0\t750.0000\n",
    "218\t1339\t700\t64\t15.0\t600.0000\n",
    "220\t1341\t600\t64\t5.0\t600.0000\n",
    "222\t1343\t800\t64\t5.0\t650.0000\n",
    "228\t1349\t900\t64\t15.0\t850.0000\n",
    "231\t1352\t800\t64\t20.0\t950.0000\n",
    "234\t1355\t900\t64\t5.0\t700.0000\n",
    "237\t1358\t800\t64\t10.0\t950.0000\n",
    "238\t1359\t500\t64\t5.0\t800.0000\n",
    "240\t1361\t500\t64\t20.0\t700.0000\n",
    "245\t1366\t900\t64\t20.0\t650.0000\n",
    "249\t1370\t500\t64\t20.0\t700.0000\n",
    "251\t1372\t500\t64\t5.0\t600.0000\n",
    "262\t1383\t900\t64\t5.0\t650.0000\n",
    "266\t1387\t800\t64\t15.0\t650.0000\n",
    "284\t1405\t700\t64\t10.0\t1000.0000\n",
    "285\t1406\t600\t64\t10.0\t1000.0000\n",
    "288\t1409\t700\t64\t10.0\t850.0000\n",
    "294\t1415\t800\t64\t10.0\t700.0000\n",
    "301\t1422\t700\t64\t5.0\t700.0000\n",
    "7\t1127\t800\t64\t5.0\t850.0000\n",
    "8\t1128\t600\t64\t10.0\t950.0000\n",
    "14\t1134\t500\t64\t20.0\t900.0000\n",
    "15\t1135\t500\t64\t20.0\t800.0000\n",
    "23\t1143\t600\t64\t15.0\t750.0000\n",
    "24\t1144\t500\t64\t10.0\t1000.0000\n",
    "25\t1145\t600\t64\t15.0\t950.0000\n",
    "29\t1149\t600\t64\t5.0\t800.0000\n",
    "31\t1151\t600\t64\t5.0\t900.0000\n",
    "35\t1155\t600\t64\t15.0\t900.0000\n",
    "36\t1156\t900\t64\t15.0\t750.0000\n",
    "37\t1157\t800\t64\t5.0\t1000.0000\n",
    "38\t1158\t500\t64\t5.0\t850.0000\n",
    "43\t1163\t700\t64\t5.0\t900.0000\n",
    "47\t1167\t900\t64\t20.0\t700.0000\n",
    "81\t1201\t500\t64\t10.0\t850.0000\n",
    "82\t1202\t500\t64\t15.0\t1000.0000\n",
    "90\t1210\t900\t64\t10.0\t750.0000\n",
    "97\t1217\t700\t64\t15.0\t1000.0000\n",
    "98\t1218\t500\t64\t20.0\t900.0000\n",
    "607\t1127\t800\t64\t5.0\t850.0000\n",
    "608\t1128\t600\t64\t10.0\t950.0000\n",
    "6014\t1134\t500\t64\t20.0\t900.0000\n",
    "6015\t1135\t500\t64\t20.0\t800.0000"
   ]
  }
 ],
 "metadata": {
  "kernelspec": {
   "display_name": "Python 3 (ipykernel)",
   "language": "python",
   "name": "python3"
  },
  "language_info": {
   "codemirror_mode": {
    "name": "ipython",
    "version": 3
   },
   "file_extension": ".py",
   "mimetype": "text/x-python",
   "name": "python",
   "nbconvert_exporter": "python",
   "pygments_lexer": "ipython3",
   "version": "3.10.9"
  }
 },
 "nbformat": 4,
 "nbformat_minor": 5
}
