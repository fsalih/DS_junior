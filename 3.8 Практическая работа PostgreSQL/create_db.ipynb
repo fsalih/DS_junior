{
 "cells": [
  {
   "cell_type": "code",
   "execution_count": 1,
   "id": "a2779df9",
   "metadata": {},
   "outputs": [],
   "source": [
    "import random"
   ]
  },
  {
   "cell_type": "code",
   "execution_count": 2,
   "id": "ade596e4",
   "metadata": {},
   "outputs": [],
   "source": [
    "with open('create_and_fill_PC.sql', 'w') as file:\n",
    "    file.write(\n",
    "        'CREATE TABLE PC (code INTEGER, model INTEGER, speed INTEGER, ram INTEGER, '\n",
    "        'hd NUMERIC(10,1), cd VARCHAR(50), price NUMERIC(10,4));\\n'\n",
    "    )\n",
    "    file.write('INSERT INTO PC\\n')\n",
    "    file.write('VALUES\\n')\n",
    "\n",
    "    values = []\n",
    "    for code, i in enumerate(range(1121, 1225), start=1):\n",
    "        values.append(\n",
    "            f'({code}, {i}, {random.randrange(500, 901, 100)},'\n",
    "            f' {random.randrange(32, 129, 32)}, {random.randrange(5, 21, 5)},'\n",
    "            f' \\'{random.randrange(12, 53, 4)}x\\', {random.randrange(350, 1001, 50)})'\n",
    "        )\n",
    "\n",
    "    # Чтобы в конце не стояла запятая и код корректно сработал\n",
    "    file.write(',\\n'.join(values) + ';\\n')"
   ]
  },
  {
   "cell_type": "code",
   "execution_count": 67,
   "id": "f34362e7",
   "metadata": {},
   "outputs": [],
   "source": [
    "with open('create_and_fill_laptop.sql', 'w') as file:\n",
    "    file.write(\n",
    "        'CREATE TABLE LAPTOP (code INTEGER, model INTEGER, speed INTEGER, ram INTEGER, '\n",
    "        'hd NUMERIC(10,1), screen NUMERIC(10,1), price NUMERIC(10,4));\\n'\n",
    "    )\n",
    "    file.write('INSERT INTO LAPTOP\\n')\n",
    "    file.write('VALUES\\n')\n",
    "\n",
    "    values = []\n",
    "    for code, i in enumerate(range(1321, 1425), start=200):\n",
    "        values.append(\n",
    "            f'({code}, {i}, {random.randrange(500, 901, 100)},'\n",
    "            f' {random.randrange(32, 129, 32)}, {random.randrange(5, 21, 5)},'\n",
    "            f' {random.randrange(12, 33, 1)}, {random.randrange(350, 1001, 50)})'\n",
    "        )\n",
    "\n",
    "    # Чтобы в конце не стояла запятая и код корректно сработал\n",
    "    file.write(',\\n'.join(values) + ';\\n')"
   ]
  },
  {
   "cell_type": "code",
   "execution_count": 71,
   "id": "eb0668df",
   "metadata": {},
   "outputs": [],
   "source": [
    "with open('create_and_fill_printer.sql', 'w') as file:\n",
    "    file.write(\n",
    "        'CREATE TABLE PRINTER (code INTEGER, model INTEGER, color VARCHAR(8), type VARCHAR(32), '\n",
    "        'price NUMERIC(10,4));\\n'\n",
    "    )\n",
    "    file.write('INSERT INTO PRINTER\\n')\n",
    "    file.write('VALUES\\n')\n",
    "\n",
    "    values = []\n",
    "    for code, i in enumerate(range(1521, 1625), start=400):\n",
    "        values.append(\n",
    "            f'({code}, {i}, \\'{random.choice([\"y\", \"n\"])}\\','\n",
    "            f' \\'{random.choice([\"Laser\", \"Jet\", \"Matrix\"])}\\', {random.randrange(350, 1001, 50)})'\n",
    "        )\n",
    "\n",
    "    # Чтобы в конце не стояла запятая и код корректно сработал\n",
    "    file.write(',\\n'.join(values) + ';\\n')"
   ]
  },
  {
   "cell_type": "code",
   "execution_count": 76,
   "id": "272c3ee7",
   "metadata": {},
   "outputs": [],
   "source": [
    "with open('create_and_fill_product.sql', 'w') as file:\n",
    "    file.write(\n",
    "        'CREATE TABLE PRODUCT (maker VARCHAR(16), code INTEGER, type VARCHAR(32));\\n'\n",
    "    )\n",
    "    file.write('INSERT INTO PRODUCT\\n')\n",
    "    file.write('VALUES\\n')\n",
    "    \n",
    "    MAKERS = ['A', 'B', 'company C', 'D']\n",
    "\n",
    "    values = []\n",
    "    for code in range(1, 105):\n",
    "        values.append(f'(\\'{random.choice(MAKERS)}\\', {code}, \\'PC\\')')\n",
    "    for code in range(200, 304):\n",
    "        values.append(f'(\\'{random.choice(MAKERS)}\\', {code}, \\'Laptop\\')')\n",
    "    for code in range(400, 504):\n",
    "        values.append(f'(\\'{random.choice(MAKERS)}\\', {code}, \\'Printer\\')')\n",
    "\n",
    "    # Чтобы в конце не стояла запятая и код корректно сработал\n",
    "    file.write(',\\n'.join(values) + ';\\n')"
   ]
  },
  {
   "cell_type": "code",
   "execution_count": null,
   "id": "621e5ff0",
   "metadata": {},
   "outputs": [],
   "source": []
  }
 ],
 "metadata": {
  "kernelspec": {
   "display_name": "Python 3 (ipykernel)",
   "language": "python",
   "name": "python3"
  },
  "language_info": {
   "codemirror_mode": {
    "name": "ipython",
    "version": 3
   },
   "file_extension": ".py",
   "mimetype": "text/x-python",
   "name": "python",
   "nbconvert_exporter": "python",
   "pygments_lexer": "ipython3",
   "version": "3.10.9"
  }
 },
 "nbformat": 4,
 "nbformat_minor": 5
}
