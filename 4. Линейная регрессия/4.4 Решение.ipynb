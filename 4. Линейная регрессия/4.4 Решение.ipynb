{
 "cells": [
  {
   "cell_type": "code",
   "execution_count": 4,
   "id": "dde5ae98",
   "metadata": {},
   "outputs": [],
   "source": [
    "import numpy as np\n",
    "import scipy as sp\n",
    "from sympy import *"
   ]
  },
  {
   "cell_type": "code",
   "execution_count": 7,
   "id": "1bb159d7",
   "metadata": {},
   "outputs": [],
   "source": [
    "X = Matrix([[5.4, 25, 50], [25, 165.4, 330], [50, 330, 660.4]])"
   ]
  },
  {
   "cell_type": "code",
   "execution_count": 8,
   "id": "121f9f99",
   "metadata": {},
   "outputs": [
    {
     "data": {
      "text/latex": [
       "$\\displaystyle 532.863999999943$"
      ],
      "text/plain": [
       "532.863999999943"
      ]
     },
     "execution_count": 8,
     "metadata": {},
     "output_type": "execute_result"
    }
   ],
   "source": [
    "X.det()"
   ]
  },
  {
   "cell_type": "code",
   "execution_count": 9,
   "id": "48b75ccc",
   "metadata": {},
   "outputs": [
    {
     "data": {
      "text/latex": [
       "$\\displaystyle \\left[\\begin{matrix}0.619595243814557 & -0.0187665145327867 & -0.0375330290655788\\\\-0.0187665145327888 & 2.00081071342782 & -0.998378573144367\\\\-0.0375330290655777 & -0.998378573144367 & 0.503242853711266\\end{matrix}\\right]$"
      ],
      "text/plain": [
       "Matrix([\n",
       "[  0.619595243814557, -0.0187665145327867, -0.0375330290655788],\n",
       "[-0.0187665145327888,    2.00081071342782,  -0.998378573144367],\n",
       "[-0.0375330290655777,  -0.998378573144367,   0.503242853711266]])"
      ]
     },
     "execution_count": 9,
     "metadata": {},
     "output_type": "execute_result"
    }
   ],
   "source": [
    "X**-1"
   ]
  },
  {
   "cell_type": "code",
   "execution_count": 11,
   "id": "5f5e903f",
   "metadata": {},
   "outputs": [],
   "source": [
    "xt = Matrix([[1,1,1,1,1],[1,3,5,7,9],[2,6,10,14,18]])"
   ]
  },
  {
   "cell_type": "code",
   "execution_count": 12,
   "id": "43b6f123",
   "metadata": {},
   "outputs": [
    {
     "data": {
      "text/latex": [
       "$\\displaystyle \\left[\\begin{matrix}1 & 1 & 1 & 1 & 1\\\\1 & 3 & 5 & 7 & 9\\\\2 & 6 & 10 & 14 & 18\\end{matrix}\\right]$"
      ],
      "text/plain": [
       "Matrix([\n",
       "[1, 1,  1,  1,  1],\n",
       "[1, 3,  5,  7,  9],\n",
       "[2, 6, 10, 14, 18]])"
      ]
     },
     "execution_count": 12,
     "metadata": {},
     "output_type": "execute_result"
    }
   ],
   "source": [
    "xt\n"
   ]
  },
  {
   "cell_type": "code",
   "execution_count": 15,
   "id": "3a8e6a83",
   "metadata": {},
   "outputs": [
    {
     "data": {
      "text/latex": [
       "$\\displaystyle \\left[\\begin{matrix}13\\\\19\\\\25\\\\31\\\\37\\end{matrix}\\right]$"
      ],
      "text/plain": [
       "Matrix([\n",
       "[13],\n",
       "[19],\n",
       "[25],\n",
       "[31],\n",
       "[37]])"
      ]
     },
     "execution_count": 15,
     "metadata": {},
     "output_type": "execute_result"
    }
   ],
   "source": [
    "y = Matrix([13, 19, 25, 31, 37])\n",
    "y"
   ]
  },
  {
   "cell_type": "code",
   "execution_count": 14,
   "id": "6ff82a4a",
   "metadata": {},
   "outputs": [
    {
     "data": {
      "text/latex": [
       "$\\displaystyle \\left[\\begin{matrix}125\\\\745\\\\1490\\end{matrix}\\right]$"
      ],
      "text/plain": [
       "Matrix([\n",
       "[ 125],\n",
       "[ 745],\n",
       "[1490]])"
      ]
     },
     "execution_count": 14,
     "metadata": {},
     "output_type": "execute_result"
    }
   ],
   "source": [
    "xt*y"
   ]
  },
  {
   "cell_type": "code",
   "execution_count": 16,
   "id": "95d458e2",
   "metadata": {},
   "outputs": [
    {
     "data": {
      "text/latex": [
       "$\\displaystyle \\left[\\begin{matrix}7.54413884218111\\\\0.674093202017585\\\\1.34818640403562\\end{matrix}\\right]$"
      ],
      "text/plain": [
       "Matrix([\n",
       "[ 7.54413884218111],\n",
       "[0.674093202017585],\n",
       "[ 1.34818640403562]])"
      ]
     },
     "execution_count": 16,
     "metadata": {},
     "output_type": "execute_result"
    }
   ],
   "source": [
    "X**-1*xt*y"
   ]
  }
 ],
 "metadata": {
  "kernelspec": {
   "display_name": "Python 3 (ipykernel)",
   "language": "python",
   "name": "python3"
  },
  "language_info": {
   "codemirror_mode": {
    "name": "ipython",
    "version": 3
   },
   "file_extension": ".py",
   "mimetype": "text/x-python",
   "name": "python",
   "nbconvert_exporter": "python",
   "pygments_lexer": "ipython3",
   "version": "3.10.9"
  }
 },
 "nbformat": 4,
 "nbformat_minor": 5
}
