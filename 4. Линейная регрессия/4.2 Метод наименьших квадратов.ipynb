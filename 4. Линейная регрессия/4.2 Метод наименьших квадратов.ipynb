{
  "nbformat": 4,
  "nbformat_minor": 0,
  "metadata": {
    "colab": {
      "name": "Урок 2. Метод наименьших квадратов",
      "provenance": [],
      "collapsed_sections": []
    },
    "kernelspec": {
      "name": "python3",
      "display_name": "Python 3"
    },
    "language_info": {
      "name": "python"
    }
  },
  "cells": [
    {
      "cell_type": "code",
      "execution_count": null,
      "metadata": {
        "id": "eutMfwipdnwh"
      },
      "outputs": [],
      "source": [
        "import numpy as np"
      ]
    },
    {
      "cell_type": "code",
      "source": [
        "x = np.array([1, 2, 3, 4, 5])\n",
        "y = np.array([1, 2, 3, 4, 5])\n",
        "y1 = np.array([1, 2, 3, 4, 5])\n",
        "y2 = np.array([1, 1, 4, 9, 0])"
      ],
      "metadata": {
        "id": "Wg77DgeffTVM"
      },
      "execution_count": null,
      "outputs": []
    },
    {
      "cell_type": "code",
      "source": [
        "%matplotlib inline\n",
        "import matplotlib.pyplot as plt\n"
      ],
      "metadata": {
        "id": "Romz_Z-ufh8q"
      },
      "execution_count": null,
      "outputs": []
    },
    {
      "cell_type": "code",
      "source": [
        "plt.scatter(x, y, s=30)\n",
        "plt.plot(x, y1, 'g')\n",
        "plt.plot(x, y2, 'r')\n",
        "plt.xlabel('x')\n",
        "plt.ylabel('y')\n",
        "plt.show()"
      ],
      "metadata": {
        "colab": {
          "base_uri": "https://localhost:8080/",
          "height": 300
        },
        "id": "1UFbEPsgf3aw",
        "outputId": "60c0bb23-bf54-48f4-a7e1-b502559ab258"
      },
      "execution_count": null,
      "outputs": [
        {
          "output_type": "display_data",
          "data": {
            "text/plain": [
              "<Figure size 432x288 with 1 Axes>"
            ],
            "image/png": "[encoded data removed]"
          },
          "metadata": {
            "needs_background": "light"
          }
        }
      ]
    },
    {
      "cell_type": "code",
      "source": [
        "err1 = sum(y1-y)\n",
        "err2 = sum(y2-y)\n",
        "\n",
        "print('ошибка err1:', err1)\n",
        "print('ошибка err2:', err2)"
      ],
      "metadata": {
        "colab": {
          "base_uri": "https://localhost:8080/"
        },
        "id": "ClwgNd8MgKyg",
        "outputId": "ebf6389f-18b5-4ee4-c920-a7211b43998f"
      },
      "execution_count": null,
      "outputs": [
        {
          "output_type": "stream",
          "name": "stdout",
          "text": [
            "ошибка err1: 0\n",
            "ошибка err2: 0\n"
          ]
        }
      ]
    },
    {
      "cell_type": "code",
      "source": [
        "err1 = sum((y1-y)**2)\n",
        "err2 = sum((y2-y)**2)\n",
        "\n",
        "print('ошибка err1:', err1)\n",
        "print('ошибка err2:', err2)"
      ],
      "metadata": {
        "colab": {
          "base_uri": "https://localhost:8080/"
        },
        "id": "LCcNhXwCgsO8",
        "outputId": "2abfb769-4ca6-452b-e952-834d4626c85c"
      },
      "execution_count": null,
      "outputs": [
        {
          "output_type": "stream",
          "name": "stdout",
          "text": [
            "ошибка err1: 0\n",
            "ошибка err2: 52\n"
          ]
        }
      ]
    }
  ]
}