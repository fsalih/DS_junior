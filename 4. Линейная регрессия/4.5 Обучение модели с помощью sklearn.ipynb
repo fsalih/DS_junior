{
  "nbformat": 4,
  "nbformat_minor": 0,
  "metadata": {
    "colab": {
      "name": "Урок 5 Обучение модели с помощью sklearn.ipynb",
      "provenance": [],
      "collapsed_sections": []
    },
    "kernelspec": {
      "name": "python3",
      "display_name": "Python 3"
    },
    "language_info": {
      "name": "python"
    }
  },
  "cells": [
    {
      "cell_type": "markdown",
      "source": [
        "# Обучение модели с помощью sklearn"
      ],
      "metadata": {
        "id": "Bg0HRgT0wlqF"
      }
    },
    {
      "cell_type": "code",
      "source": [
        "%matplotlib inline\n",
        "import matplotlib.pyplot as plt\n",
        "import numpy as np\n",
        "import pandas as pd"
      ],
      "metadata": {
        "id": "7Re8dEmpwkpk"
      },
      "execution_count": null,
      "outputs": []
    },
    {
      "cell_type": "markdown",
      "source": [
        "## Пример 1"
      ],
      "metadata": {
        "id": "0piVL_t5xWUz"
      }
    },
    {
      "cell_type": "markdown",
      "source": [
        "Пусть нам заданы 1000 точек — это матрица **X**, и есть целевая функция **Y**."
      ],
      "metadata": {
        "id": "uIGcDfqU5c-v"
      }
    },
    {
      "cell_type": "code",
      "source": [
        "np.random.seed(0) # для воспроизведения результатов\n",
        "x = np.random.rand(1000, 1)\n",
        "y = 1 + 3 * x + np.random.randn(1000, 1)\n",
        "\n",
        "d = {'x': x.reshape(1,1000)[0], 'y': y.reshape(1,1000)[0]}\n",
        "df = pd.DataFrame(data=d)\n",
        "df.head()"
      ],
      "metadata": {
        "colab": {
          "base_uri": "https://localhost:8080/",
          "height": 204
        },
        "id": "cFwPutr7wkrj",
        "outputId": "282c1808-069a-4f9f-d088-13da99c4fb61"
      },
      "execution_count": null,
      "outputs": [
        {
          "output_type": "execute_result",
          "data": {
            "text/plain": [
              "          x         y\n",
              "0  0.548814  2.544743\n",
              "1  0.715189  3.164847\n",
              "2  0.602763  4.657881\n",
              "3  0.544883  2.420483\n",
              "4  0.423655  1.771948"
            ],
            "text/html": [
              "\n",
              "  <div id=\"df-bc16b03e-904d-4114-90b6-6daf94161fe2\">\n",
              "    <div class=\"colab-df-container\">\n",
              "      <div>\n",
              "<style scoped>\n",
              "    .dataframe tbody tr th:only-of-type {\n",
              "        vertical-align: middle;\n",
              "    }\n",
              "\n",
              "    .dataframe tbody tr th {\n",
              "        vertical-align: top;\n",
              "    }\n",
              "\n",
              "    .dataframe thead th {\n",
              "        text-align: right;\n",
              "    }\n",
              "</style>\n",
              "<table border=\"1\" class=\"dataframe\">\n",
              "  <thead>\n",
              "    <tr style=\"text-align: right;\">\n",
              "      <th></th>\n",
              "      <th>x</th>\n",
              "      <th>y</th>\n",
              "    </tr>\n",
              "  </thead>\n",
              "  <tbody>\n",
              "    <tr>\n",
              "      <th>0</th>\n",
              "      <td>0.548814</td>\n",
              "      <td>2.544743</td>\n",
              "    </tr>\n",
              "    <tr>\n",
              "      <th>1</th>\n",
              "      <td>0.715189</td>\n",
              "      <td>3.164847</td>\n",
              "    </tr>\n",
              "    <tr>\n",
              "      <th>2</th>\n",
              "      <td>0.602763</td>\n",
              "      <td>4.657881</td>\n",
              "    </tr>\n",
              "    <tr>\n",
              "      <th>3</th>\n",
              "      <td>0.544883</td>\n",
              "      <td>2.420483</td>\n",
              "    </tr>\n",
              "    <tr>\n",
              "      <th>4</th>\n",
              "      <td>0.423655</td>\n",
              "      <td>1.771948</td>\n",
              "    </tr>\n",
              "  </tbody>\n",
              "</table>\n",
              "</div>\n",
              "      <button class=\"colab-df-convert\" onclick=\"convertToInteractive('df-bc16b03e-904d-4114-90b6-6daf94161fe2')\"\n",
              "              title=\"Convert this dataframe to an interactive table.\"\n",
              "              style=\"display:none;\">\n",
              "        \n",
              "  <svg xmlns=\"http://www.w3.org/2000/svg\" height=\"24px\"viewBox=\"0 0 24 24\"\n",
              "       width=\"24px\">\n",
              "    <path d=\"M0 0h24v24H0V0z\" fill=\"none\"/>\n",
              "    <path d=\"M18.56 5.44l.94 2.06.94-2.06 2.06-.94-2.06-.94-.94-2.06-.94 2.06-2.06.94zm-11 1L8.5 8.5l.94-2.06 2.06-.94-2.06-.94L8.5 2.5l-.94 2.06-2.06.94zm10 10l.94 2.06.94-2.06 2.06-.94-2.06-.94-.94-2.06-.94 2.06-2.06.94z\"/><path d=\"M17.41 7.96l-1.37-1.37c-.4-.4-.92-.59-1.43-.59-.52 0-1.04.2-1.43.59L10.3 9.45l-7.72 7.72c-.78.78-.78 2.05 0 2.83L4 21.41c.39.39.9.59 1.41.59.51 0 1.02-.2 1.41-.59l7.78-7.78 2.81-2.81c.8-.78.8-2.07 0-2.86zM5.41 20L4 18.59l7.72-7.72 1.47 1.35L5.41 20z\"/>\n",
              "  </svg>\n",
              "      </button>\n",
              "      \n",
              "  <style>\n",
              "    .colab-df-container {\n",
              "      display:flex;\n",
              "      flex-wrap:wrap;\n",
              "      gap: 12px;\n",
              "    }\n",
              "\n",
              "    .colab-df-convert {\n",
              "      background-color: #E8F0FE;\n",
              "      border: none;\n",
              "      border-radius: 50%;\n",
              "      cursor: pointer;\n",
              "      display: none;\n",
              "      fill: #1967D2;\n",
              "      height: 32px;\n",
              "      padding: 0 0 0 0;\n",
              "      width: 32px;\n",
              "    }\n",
              "\n",
              "    .colab-df-convert:hover {\n",
              "      background-color: #E2EBFA;\n",
              "      box-shadow: 0px 1px 2px rgba(60, 64, 67, 0.3), 0px 1px 3px 1px rgba(60, 64, 67, 0.15);\n",
              "      fill: #174EA6;\n",
              "    }\n",
              "\n",
              "    [theme=dark] .colab-df-convert {\n",
              "      background-color: #3B4455;\n",
              "      fill: #D2E3FC;\n",
              "    }\n",
              "\n",
              "    [theme=dark] .colab-df-convert:hover {\n",
              "      background-color: #434B5C;\n",
              "      box-shadow: 0px 1px 3px 1px rgba(0, 0, 0, 0.15);\n",
              "      filter: drop-shadow(0px 1px 2px rgba(0, 0, 0, 0.3));\n",
              "      fill: #FFFFFF;\n",
              "    }\n",
              "  </style>\n",
              "\n",
              "      <script>\n",
              "        const buttonEl =\n",
              "          document.querySelector('#df-bc16b03e-904d-4114-90b6-6daf94161fe2 button.colab-df-convert');\n",
              "        buttonEl.style.display =\n",
              "          google.colab.kernel.accessAllowed ? 'block' : 'none';\n",
              "\n",
              "        async function convertToInteractive(key) {\n",
              "          const element = document.querySelector('#df-bc16b03e-904d-4114-90b6-6daf94161fe2');\n",
              "          const dataTable =\n",
              "            await google.colab.kernel.invokeFunction('convertToInteractive',\n",
              "                                                     [key], {});\n",
              "          if (!dataTable) return;\n",
              "\n",
              "          const docLinkHtml = 'Like what you see? Visit the ' +\n",
              "            '<a target=\"_blank\" href=https://colab.research.google.com/notebooks/data_table.ipynb>data table notebook</a>'\n",
              "            + ' to learn more about interactive tables.';\n",
              "          element.innerHTML = '';\n",
              "          dataTable['output_type'] = 'display_data';\n",
              "          await google.colab.output.renderOutput(dataTable, element);\n",
              "          const docLink = document.createElement('div');\n",
              "          docLink.innerHTML = docLinkHtml;\n",
              "          element.appendChild(docLink);\n",
              "        }\n",
              "      </script>\n",
              "    </div>\n",
              "  </div>\n",
              "  "
            ]
          },
          "metadata": {},
          "execution_count": 2
        }
      ]
    },
    {
      "cell_type": "code",
      "source": [
        "plt.scatter(df['x'], df['y'], s=10)\n",
        "plt.xlabel('x')\n",
        "plt.ylabel('y')\n",
        "plt.show()"
      ],
      "metadata": {
        "colab": {
          "base_uri": "https://localhost:8080/",
          "height": 279
        },
        "id": "WC1pUS-jxRm3",
        "outputId": "beccfe82-53d5-41f5-b76d-4e556617e95b"
      },
      "execution_count": null,
      "outputs": [
        {
          "output_type": "display_data",
          "data": {
            "text/plain": [
              "<Figure size 432x288 with 1 Axes>"
            ],
            "image/png": "[encoded data removed]"
          },
          "metadata": {
            "needs_background": "light"
          }
        }
      ]
    },
    {
      "cell_type": "markdown",
      "source": [
        "Мы хотим найти зависимость с помощью линейной регресии.\n",
        "\n",
        "Разделим исходные данные на обучающую и тестовую выборки в соотношении 70% и 30%."
      ],
      "metadata": {
        "id": "Mei-BNcY6B9m"
      }
    },
    {
      "cell_type": "code",
      "source": [
        "from sklearn.model_selection import train_test_split\n",
        "\n",
        "train, test = train_test_split(df, train_size=0.7, random_state=123) # random_state нужен для воспроизводимости результата"
      ],
      "metadata": {
        "id": "a5c74OInxZXf"
      },
      "execution_count": null,
      "outputs": []
    },
    {
      "cell_type": "markdown",
      "source": [
        "Для построения самой модели импортируем класс `LinearRegression` из `sklearn.linear_model`."
      ],
      "metadata": {
        "id": "sT0Y8swW6PQV"
      }
    },
    {
      "cell_type": "code",
      "source": [
        "from sklearn.linear_model import LinearRegression"
      ],
      "metadata": {
        "id": "IcNMIiCH5Ar3"
      },
      "execution_count": null,
      "outputs": []
    },
    {
      "cell_type": "markdown",
      "source": [
        "Теперь у нас есть всё необходимое для построения модели."
      ],
      "metadata": {
        "id": "qZY20r2Y6Zni"
      }
    },
    {
      "cell_type": "markdown",
      "source": [
        "Создадим экземпляр класса `LinearRegression`, который будет содержать в себе модель регрессии."
      ],
      "metadata": {
        "id": "2GMSQLT66iXh"
      }
    },
    {
      "cell_type": "code",
      "source": [
        "model = LinearRegression()"
      ],
      "metadata": {
        "id": "0DI-ER6sxZZ3"
      },
      "execution_count": null,
      "outputs": []
    },
    {
      "cell_type": "markdown",
      "source": [
        "Чтобы обучить модель, необходимо вызвать метод `.fit()` на объект `model`. В качестве аргументов здесь передаются матрица **X** и целевая функция **Y**. Обучать модель будем на обучающей выборке."
      ],
      "metadata": {
        "id": "GsaVsp348YUH"
      }
    },
    {
      "cell_type": "code",
      "source": [
        "model.fit(train[['x']], train[['y']])"
      ],
      "metadata": {
        "colab": {
          "base_uri": "https://localhost:8080/"
        },
        "id": "0X4RiVRR4cY_",
        "outputId": "a27805f8-4a9c-4994-a24c-d27b0b2a1c66"
      },
      "execution_count": null,
      "outputs": [
        {
          "output_type": "execute_result",
          "data": {
            "text/plain": [
              "LinearRegression()"
            ]
          },
          "metadata": {},
          "execution_count": 7
        }
      ]
    },
    {
      "cell_type": "markdown",
      "source": [
        "Поздравляем, модель готова!"
      ],
      "metadata": {
        "id": "in-cPQCT9quc"
      }
    },
    {
      "cell_type": "markdown",
      "source": [
        "Можно сделать всё проще, в одну строчку. Эта операция делает то же самое.\n",
        "\n",
        "```\n",
        "model = LinearRegression().fit(train[['x']], train[['y']])\n",
        "```\n",
        "\n"
      ],
      "metadata": {
        "id": "OzhDBAq44l3U"
      }
    },
    {
      "cell_type": "markdown",
      "source": [
        "У полученного объекта `model` есть атрибуты: \n",
        "`.intercept_` — представляет собой коэффициент w0,\n",
        "`.coef_` — представляют собой w1, ..., wk."
      ],
      "metadata": {
        "id": "P5kCItA49gRR"
      }
    },
    {
      "cell_type": "code",
      "source": [
        "print('w_0:', model.intercept_)\n",
        "print('w_1:', model.coef_)"
      ],
      "metadata": {
        "colab": {
          "base_uri": "https://localhost:8080/"
        },
        "id": "k_aRB0hh4vAn",
        "outputId": "690d0a6c-4e4d-4eb2-f928-c5aaa0eced6f"
      },
      "execution_count": null,
      "outputs": [
        {
          "output_type": "stream",
          "name": "stdout",
          "text": [
            "w_0: [1.08258227]\n",
            "w_1: [[2.84716323]]\n"
          ]
        }
      ]
    },
    {
      "cell_type": "markdown",
      "source": [
        "Полученная модель имеет вид `y* = 1.08 + 2.85*x1`\n",
        "\n",
        "Напомним, что исходная модель — `y = 1 + 3 * x + np.random.randn(1000, 1)`"
      ],
      "metadata": {
        "id": "0Qgm202J95Ph"
      }
    },
    {
      "cell_type": "markdown",
      "source": [
        "Теперь можно использовать модель для прогноза значений. Для этого будем использовать метод `.predict()`. В качестве аргументов для данного метода требуется матрица **X**."
      ],
      "metadata": {
        "id": "J8jgTDnB-J4j"
      }
    },
    {
      "cell_type": "code",
      "source": [
        "y_predict_train = model.predict(train[['x']])\n",
        "print(y_predict_train[:, 0][:10])"
      ],
      "metadata": {
        "colab": {
          "base_uri": "https://localhost:8080/"
        },
        "id": "tcxQJqm54vC_",
        "outputId": "53649ce5-449b-4e95-e83b-a61ed162cc66"
      },
      "execution_count": null,
      "outputs": [
        {
          "output_type": "stream",
          "name": "stdout",
          "text": [
            "[1.78985595 1.45860173 2.99601208 2.15810342 3.66369375 1.16785573\n",
            " 1.80559558 1.45979619 1.11593418 2.08447907]\n"
          ]
        }
      ]
    },
    {
      "cell_type": "markdown",
      "source": [
        "Проверим этот расчёт по найденной формуле."
      ],
      "metadata": {
        "id": "gLCXZkU8AW_L"
      }
    },
    {
      "cell_type": "code",
      "source": [
        "y_predict_train = model.intercept_ + model.coef_ * train[['x']]\n",
        "print(y_predict_train[:10])"
      ],
      "metadata": {
        "colab": {
          "base_uri": "https://localhost:8080/"
        },
        "id": "H0xy8mLX43EO",
        "outputId": "6663c4f1-9a56-4729-d39b-0cf3da304708"
      },
      "execution_count": null,
      "outputs": [
        {
          "output_type": "stream",
          "name": "stdout",
          "text": [
            "            x\n",
            "498  1.789856\n",
            "243  1.458602\n",
            "314  2.996012\n",
            "202  2.158103\n",
            "300  3.663694\n",
            "682  1.167856\n",
            "230  1.805596\n",
            "306  1.459796\n",
            "166  1.115934\n",
            "620  2.084479\n"
          ]
        }
      ]
    },
    {
      "cell_type": "markdown",
      "source": [
        "Посмотрим на графике, какую модель получили."
      ],
      "metadata": {
        "id": "uI79wwmVBH07"
      }
    },
    {
      "cell_type": "code",
      "source": [
        "plt.plot(train['x'], y_predict_train, linewidth=4, c='g')\n",
        "plt.scatter(train['x'], train['y'], s=10, c='b')\n",
        "plt.scatter(test['x'], test['y'], s=10, c='r')\n",
        "plt.xlabel('x')\n",
        "plt.ylabel('y')\n",
        "plt.show()"
      ],
      "metadata": {
        "colab": {
          "base_uri": "https://localhost:8080/",
          "height": 279
        },
        "id": "aZH86xJP9UI-",
        "outputId": "980aa2d7-fff1-4441-9187-3b07cc5e8592"
      },
      "execution_count": null,
      "outputs": [
        {
          "output_type": "display_data",
          "data": {
            "text/plain": [
              "<Figure size 432x288 with 1 Axes>"
            ],
            "image/png": "[encoded data removed]"
          },
          "metadata": {
            "needs_background": "light"
          }
        }
      ]
    },
    {
      "cell_type": "markdown",
      "source": [
        "Чтобы получить результаты модели по тестовой выборке, выполним следующее:"
      ],
      "metadata": {
        "id": "QUpYWIJUBt3p"
      }
    },
    {
      "cell_type": "code",
      "source": [
        "y_predict_test = model.predict(test[['x']])"
      ],
      "metadata": {
        "id": "0HYrk9Qw47hj"
      },
      "execution_count": null,
      "outputs": []
    },
    {
      "cell_type": "markdown",
      "source": [
        "Оценим качество модели с помощью MSE."
      ],
      "metadata": {
        "id": "ophA-rR4BlkH"
      }
    },
    {
      "cell_type": "code",
      "source": [
        "from sklearn.metrics import mean_squared_error\n",
        "\n",
        "train_mse = mean_squared_error(train[['y']], y_predict_train)\n",
        "test_mse = mean_squared_error(test[['y']], y_predict_test)\n",
        "print(\"Train MSE: {}\".format(train_mse))\n",
        "print(\"Test MSE: {}\".format(test_mse))"
      ],
      "metadata": {
        "colab": {
          "base_uri": "https://localhost:8080/"
        },
        "id": "9FziZglr_2Q5",
        "outputId": "e2369bd0-518f-4886-c20d-c82ab13b9c00"
      },
      "execution_count": null,
      "outputs": [
        {
          "output_type": "stream",
          "name": "stdout",
          "text": [
            "Train MSE: 0.9599829425512107\n",
            "Test MSE: 0.8715242272540316\n"
          ]
        }
      ]
    },
    {
      "cell_type": "markdown",
      "source": [
        "Оценим также качество модели с помощью MAE."
      ],
      "metadata": {
        "id": "ZrTvAkHmPhqU"
      }
    },
    {
      "cell_type": "code",
      "source": [
        "from sklearn.metrics import mean_absolute_error\n",
        "\n",
        "train_mae = mean_absolute_error(train[['y']], y_predict_train)\n",
        "test_mae = mean_absolute_error(test[['y']], y_predict_test)\n",
        "print(\"Train MAE: {}\".format(train_mae))\n",
        "print(\"Test MAE: {}\".format(test_mae))"
      ],
      "metadata": {
        "colab": {
          "base_uri": "https://localhost:8080/"
        },
        "id": "2Mjn7-hKPRCK",
        "outputId": "21b795a7-f7a4-4e9a-9d94-f40bce26da50"
      },
      "execution_count": null,
      "outputs": [
        {
          "output_type": "stream",
          "name": "stdout",
          "text": [
            "Train MAE: 0.7845720071057997\n",
            "Test MAE: 0.7261670560834567\n"
          ]
        }
      ]
    },
    {
      "cell_type": "markdown",
      "source": [
        "Именно эти метрики чаще всего используются в задаче регрессии. Остановимся на них подробнее."
      ],
      "metadata": {
        "id": "JKtHcrnsQEB7"
      }
    },
    {
      "cell_type": "markdown",
      "source": [
        "Для примера посмотрим на задачу прогноза цены на автомобиль. Допустим, у нас нет ни одного параметра об автомобилях, есть только сами значения целевой функции. То есть прогнозировать будем модель следующего вида: `y* = w_0`. По факту это означает, что будем прогнозировать для всех объектов одно число — константу."
      ],
      "metadata": {
        "id": "wq9vqN6EPZtk"
      }
    },
    {
      "cell_type": "markdown",
      "source": [
        "Возникает вопрос, какое число нужно выбрать, если мы будем использовать оценку ошибки MAE? А если будем использовать ошибку MSE?"
      ],
      "metadata": {
        "id": "UwXstnaLPZwL"
      }
    },
    {
      "cell_type": "markdown",
      "source": [
        "Итак, наилучшее качество такой модели при использовании метрики MAE будет достигаться при медиане `w_0 = median(y)`."
      ],
      "metadata": {
        "id": "vB-ws88eS_fj"
      }
    },
    {
      "cell_type": "markdown",
      "source": [
        "А при использовании метрики MSE наилучшее качество такой модели будет достигаться при среднем значении `w_0 = mean(y)`."
      ],
      "metadata": {
        "id": "74EwifsDTVKv"
      }
    },
    {
      "cell_type": "markdown",
      "source": [
        "Таким образом, можно отметить, что в метрике MAE по сравнению с MSE существенно меньший вклад в ошибку будут вносить примеры, сильно удалённые от ответов модели. Так как используется модуль расстояния, а не квадрат."
      ],
      "metadata": {
        "id": "ftTdeQfCThqE"
      }
    },
    {
      "cell_type": "markdown",
      "source": [
        "И функция потерь MAE уместна в случаях, когда в данных большое количество выбросов в целевой функции."
      ],
      "metadata": {
        "id": "xEcRYzzxVKch"
      }
    },
    {
      "cell_type": "markdown",
      "source": [
        "Перейдём к следующему примеру."
      ],
      "metadata": {
        "id": "rekuytg5VMuW"
      }
    },
    {
      "cell_type": "markdown",
      "source": [
        "## Пример 2"
      ],
      "metadata": {
        "id": "yxd3nBZkxa0J"
      }
    },
    {
      "cell_type": "markdown",
      "source": [
        "Пусть нам также заданы 1000 точек — это матрица **X**, и есть целевая функция **Y**. Однако теперь сама по себе искомая зависимость нелинейная."
      ],
      "metadata": {
        "id": "5-l6vF9OLvvS"
      }
    },
    {
      "cell_type": "code",
      "source": [
        "np.random.seed(0) # для воспроизведения результатов\n",
        "x = np.random.rand(1000, 1)\n",
        "y = 1 + 3 * np.log(x) + np.random.randn(1000, 1)\n",
        "\n",
        "d = {'x': x.reshape(1,1000)[0], 'y': y.reshape(1,1000)[0]}\n",
        "df = pd.DataFrame(data=d)\n",
        "df.head()"
      ],
      "metadata": {
        "colab": {
          "base_uri": "https://localhost:8080/",
          "height": 204
        },
        "id": "OC8s3ZgBxdHR",
        "outputId": "be2a089a-89ce-426b-d1cb-4dc0025af77d"
      },
      "execution_count": null,
      "outputs": [
        {
          "output_type": "execute_result",
          "data": {
            "text/plain": [
              "          x         y\n",
              "0  0.548814 -0.901687\n",
              "1  0.715189  0.013656\n",
              "2  0.602763  1.330900\n",
              "3  0.544883 -1.035718\n",
              "4  0.423655 -2.075526"
            ],
            "text/html": [
              "\n",
              "  <div id=\"df-c9987a82-0f48-4928-a282-569ff012cb2f\">\n",
              "    <div class=\"colab-df-container\">\n",
              "      <div>\n",
              "<style scoped>\n",
              "    .dataframe tbody tr th:only-of-type {\n",
              "        vertical-align: middle;\n",
              "    }\n",
              "\n",
              "    .dataframe tbody tr th {\n",
              "        vertical-align: top;\n",
              "    }\n",
              "\n",
              "    .dataframe thead th {\n",
              "        text-align: right;\n",
              "    }\n",
              "</style>\n",
              "<table border=\"1\" class=\"dataframe\">\n",
              "  <thead>\n",
              "    <tr style=\"text-align: right;\">\n",
              "      <th></th>\n",
              "      <th>x</th>\n",
              "      <th>y</th>\n",
              "    </tr>\n",
              "  </thead>\n",
              "  <tbody>\n",
              "    <tr>\n",
              "      <th>0</th>\n",
              "      <td>0.548814</td>\n",
              "      <td>-0.901687</td>\n",
              "    </tr>\n",
              "    <tr>\n",
              "      <th>1</th>\n",
              "      <td>0.715189</td>\n",
              "      <td>0.013656</td>\n",
              "    </tr>\n",
              "    <tr>\n",
              "      <th>2</th>\n",
              "      <td>0.602763</td>\n",
              "      <td>1.330900</td>\n",
              "    </tr>\n",
              "    <tr>\n",
              "      <th>3</th>\n",
              "      <td>0.544883</td>\n",
              "      <td>-1.035718</td>\n",
              "    </tr>\n",
              "    <tr>\n",
              "      <th>4</th>\n",
              "      <td>0.423655</td>\n",
              "      <td>-2.075526</td>\n",
              "    </tr>\n",
              "  </tbody>\n",
              "</table>\n",
              "</div>\n",
              "      <button class=\"colab-df-convert\" onclick=\"convertToInteractive('df-c9987a82-0f48-4928-a282-569ff012cb2f')\"\n",
              "              title=\"Convert this dataframe to an interactive table.\"\n",
              "              style=\"display:none;\">\n",
              "        \n",
              "  <svg xmlns=\"http://www.w3.org/2000/svg\" height=\"24px\"viewBox=\"0 0 24 24\"\n",
              "       width=\"24px\">\n",
              "    <path d=\"M0 0h24v24H0V0z\" fill=\"none\"/>\n",
              "    <path d=\"M18.56 5.44l.94 2.06.94-2.06 2.06-.94-2.06-.94-.94-2.06-.94 2.06-2.06.94zm-11 1L8.5 8.5l.94-2.06 2.06-.94-2.06-.94L8.5 2.5l-.94 2.06-2.06.94zm10 10l.94 2.06.94-2.06 2.06-.94-2.06-.94-.94-2.06-.94 2.06-2.06.94z\"/><path d=\"M17.41 7.96l-1.37-1.37c-.4-.4-.92-.59-1.43-.59-.52 0-1.04.2-1.43.59L10.3 9.45l-7.72 7.72c-.78.78-.78 2.05 0 2.83L4 21.41c.39.39.9.59 1.41.59.51 0 1.02-.2 1.41-.59l7.78-7.78 2.81-2.81c.8-.78.8-2.07 0-2.86zM5.41 20L4 18.59l7.72-7.72 1.47 1.35L5.41 20z\"/>\n",
              "  </svg>\n",
              "      </button>\n",
              "      \n",
              "  <style>\n",
              "    .colab-df-container {\n",
              "      display:flex;\n",
              "      flex-wrap:wrap;\n",
              "      gap: 12px;\n",
              "    }\n",
              "\n",
              "    .colab-df-convert {\n",
              "      background-color: #E8F0FE;\n",
              "      border: none;\n",
              "      border-radius: 50%;\n",
              "      cursor: pointer;\n",
              "      display: none;\n",
              "      fill: #1967D2;\n",
              "      height: 32px;\n",
              "      padding: 0 0 0 0;\n",
              "      width: 32px;\n",
              "    }\n",
              "\n",
              "    .colab-df-convert:hover {\n",
              "      background-color: #E2EBFA;\n",
              "      box-shadow: 0px 1px 2px rgba(60, 64, 67, 0.3), 0px 1px 3px 1px rgba(60, 64, 67, 0.15);\n",
              "      fill: #174EA6;\n",
              "    }\n",
              "\n",
              "    [theme=dark] .colab-df-convert {\n",
              "      background-color: #3B4455;\n",
              "      fill: #D2E3FC;\n",
              "    }\n",
              "\n",
              "    [theme=dark] .colab-df-convert:hover {\n",
              "      background-color: #434B5C;\n",
              "      box-shadow: 0px 1px 3px 1px rgba(0, 0, 0, 0.15);\n",
              "      filter: drop-shadow(0px 1px 2px rgba(0, 0, 0, 0.3));\n",
              "      fill: #FFFFFF;\n",
              "    }\n",
              "  </style>\n",
              "\n",
              "      <script>\n",
              "        const buttonEl =\n",
              "          document.querySelector('#df-c9987a82-0f48-4928-a282-569ff012cb2f button.colab-df-convert');\n",
              "        buttonEl.style.display =\n",
              "          google.colab.kernel.accessAllowed ? 'block' : 'none';\n",
              "\n",
              "        async function convertToInteractive(key) {\n",
              "          const element = document.querySelector('#df-c9987a82-0f48-4928-a282-569ff012cb2f');\n",
              "          const dataTable =\n",
              "            await google.colab.kernel.invokeFunction('convertToInteractive',\n",
              "                                                     [key], {});\n",
              "          if (!dataTable) return;\n",
              "\n",
              "          const docLinkHtml = 'Like what you see? Visit the ' +\n",
              "            '<a target=\"_blank\" href=https://colab.research.google.com/notebooks/data_table.ipynb>data table notebook</a>'\n",
              "            + ' to learn more about interactive tables.';\n",
              "          element.innerHTML = '';\n",
              "          dataTable['output_type'] = 'display_data';\n",
              "          await google.colab.output.renderOutput(dataTable, element);\n",
              "          const docLink = document.createElement('div');\n",
              "          docLink.innerHTML = docLinkHtml;\n",
              "          element.appendChild(docLink);\n",
              "        }\n",
              "      </script>\n",
              "    </div>\n",
              "  </div>\n",
              "  "
            ]
          },
          "metadata": {},
          "execution_count": 15
        }
      ]
    },
    {
      "cell_type": "code",
      "source": [
        "plt.scatter(df['x'], df['y'], s=10)\n",
        "plt.xlabel('x')\n",
        "plt.ylabel('y')\n",
        "plt.show()"
      ],
      "metadata": {
        "colab": {
          "base_uri": "https://localhost:8080/",
          "height": 279
        },
        "id": "hVu_iw0UC_Mn",
        "outputId": "f1ef9db5-cb69-4b5e-e007-7138abf2503e"
      },
      "execution_count": null,
      "outputs": [
        {
          "output_type": "display_data",
          "data": {
            "text/plain": [
              "<Figure size 432x288 with 1 Axes>"
            ],
            "image/png": "[encoded data removed]"
          },
          "metadata": {
            "needs_background": "light"
          }
        }
      ]
    },
    {
      "cell_type": "markdown",
      "source": [
        "Построим модель линейной регресии, используя уже известные нам команды."
      ],
      "metadata": {
        "id": "FShxu3r2L_Zu"
      }
    },
    {
      "cell_type": "code",
      "source": [
        "train, test = train_test_split(df, train_size=0.7, random_state=123) # random_state нужен для воспроизводимости результата"
      ],
      "metadata": {
        "id": "RPcLkzk7C_Qg"
      },
      "execution_count": null,
      "outputs": []
    },
    {
      "cell_type": "code",
      "source": [
        "model = LinearRegression()\n",
        "model.fit(train[['x']], train[['y']])"
      ],
      "metadata": {
        "colab": {
          "base_uri": "https://localhost:8080/"
        },
        "id": "CHfsNg9lDGcl",
        "outputId": "630d8fcb-cb44-41a5-f8d1-202ff39103cd"
      },
      "execution_count": null,
      "outputs": [
        {
          "output_type": "execute_result",
          "data": {
            "text/plain": [
              "LinearRegression()"
            ]
          },
          "metadata": {},
          "execution_count": 18
        }
      ]
    },
    {
      "cell_type": "code",
      "source": [
        "y_predict_train = model.predict(train[['x']])\n",
        "y_predict_test = model.predict(test[['x']])"
      ],
      "metadata": {
        "id": "T4hniBJODStw"
      },
      "execution_count": null,
      "outputs": []
    },
    {
      "cell_type": "code",
      "source": [
        "plt.scatter(train['x'], train['y'], s=10, c='b')\n",
        "plt.scatter(test['x'], test['y'], s=10, c='r')\n",
        "plt.scatter(train['x'], y_predict_train, s=10, c='g')\n",
        "plt.xlabel('x')\n",
        "plt.ylabel('y')\n",
        "plt.show()"
      ],
      "metadata": {
        "colab": {
          "base_uri": "https://localhost:8080/",
          "height": 279
        },
        "id": "3AmQGbvkDGe3",
        "outputId": "1c0aa148-019f-4c8a-aee1-2250a95c684f"
      },
      "execution_count": null,
      "outputs": [
        {
          "output_type": "display_data",
          "data": {
            "text/plain": [
              "<Figure size 432x288 with 1 Axes>"
            ],
            "image/png": "[encoded data removed]"
          },
          "metadata": {
            "needs_background": "light"
          }
        }
      ]
    },
    {
      "cell_type": "markdown",
      "source": [
        "Очевидно, получилось не самое лучшее решение. Посмотрим на качество модели."
      ],
      "metadata": {
        "id": "pQ0iAFvuMSQb"
      }
    },
    {
      "cell_type": "code",
      "source": [
        "train_mse = mean_squared_error(train[['y']], y_predict_train)\n",
        "test_mse = mean_squared_error(test[['y']], y_predict_test)\n",
        "print(\"Train MSE: {}\".format(train_mse))\n",
        "print(\"Test MSE: {}\".format(test_mse))"
      ],
      "metadata": {
        "colab": {
          "base_uri": "https://localhost:8080/"
        },
        "id": "N7BqsIdADP_i",
        "outputId": "ed513422-611c-4706-f64e-edecf76696fe"
      },
      "execution_count": null,
      "outputs": [
        {
          "output_type": "stream",
          "name": "stdout",
          "text": [
            "Train MSE: 3.137684915760023\n",
            "Test MSE: 1.9666504105743103\n"
          ]
        }
      ]
    },
    {
      "cell_type": "code",
      "source": [
        "from sklearn.metrics import mean_absolute_error\n",
        "\n",
        "train_mae = mean_absolute_error(train[['y']], y_predict_train)\n",
        "test_mae = mean_absolute_error(test[['y']], y_predict_test)\n",
        "print(\"Train MAE: {}\".format(train_mae))\n",
        "print(\"Test MAE: {}\".format(test_mae))"
      ],
      "metadata": {
        "colab": {
          "base_uri": "https://localhost:8080/"
        },
        "id": "8qnJn--uPnZ4",
        "outputId": "12b39593-7d24-4b74-f6fe-b8b5cb3c6f45"
      },
      "execution_count": null,
      "outputs": [
        {
          "output_type": "stream",
          "name": "stdout",
          "text": [
            "Train MAE: 1.2394688443948811\n",
            "Test MAE: 1.0749333352063293\n"
          ]
        }
      ]
    },
    {
      "cell_type": "markdown",
      "source": [
        "Как вы знаете, задача машинного обучения — найти наиболее оптимальную модель. Попробуем улучшить модель, добавив переменную логарифм от переменной `x`."
      ],
      "metadata": {
        "id": "mn4iwSH7NAH9"
      }
    },
    {
      "cell_type": "code",
      "source": [
        "df['x2'] = df['x'].apply(lambda x: np.log(x))"
      ],
      "metadata": {
        "id": "9P6m3n6CDaS8"
      },
      "execution_count": null,
      "outputs": []
    },
    {
      "cell_type": "code",
      "source": [
        "train, test = train_test_split(df, train_size=0.7, random_state=123) # random_state нужен для воспроизводимости результата"
      ],
      "metadata": {
        "id": "xHWJiozgDaV2"
      },
      "execution_count": null,
      "outputs": []
    },
    {
      "cell_type": "markdown",
      "source": [
        "Обратите внимание, здесь и далее будем использовать уже две переменных: `x` и `x2`."
      ],
      "metadata": {
        "id": "oBYVwkPkNkkw"
      }
    },
    {
      "cell_type": "code",
      "source": [
        "model = LinearRegression()\n",
        "model.fit(train[['x', 'x2']], train[['y']])"
      ],
      "metadata": {
        "colab": {
          "base_uri": "https://localhost:8080/"
        },
        "id": "CKzFk1qUDaYd",
        "outputId": "116f6dbb-4dcc-40f3-83c5-aaecfc39a720"
      },
      "execution_count": null,
      "outputs": [
        {
          "output_type": "execute_result",
          "data": {
            "text/plain": [
              "LinearRegression()"
            ]
          },
          "metadata": {},
          "execution_count": 25
        }
      ]
    },
    {
      "cell_type": "code",
      "source": [
        "y_predict_train = model.predict(train[['x', 'x2']])\n",
        "y_predict_test = model.predict(test[['x', 'x2']])"
      ],
      "metadata": {
        "id": "RIV94DT9DQEZ"
      },
      "execution_count": null,
      "outputs": []
    },
    {
      "cell_type": "code",
      "source": [
        "plt.scatter(train['x'], train['y'], s=10, c='b')\n",
        "plt.scatter(test['x'], test['y'], s=10, c='r')\n",
        "plt.scatter(train['x'], y_predict_train, s=10, c='g')\n",
        "plt.xlabel('x')\n",
        "plt.ylabel('y')\n",
        "plt.show()"
      ],
      "metadata": {
        "colab": {
          "base_uri": "https://localhost:8080/",
          "height": 279
        },
        "id": "5cI6SruNDvyS",
        "outputId": "6ce09d72-0586-4f4e-94d1-ae07fc8c5102"
      },
      "execution_count": null,
      "outputs": [
        {
          "output_type": "display_data",
          "data": {
            "text/plain": [
              "<Figure size 432x288 with 1 Axes>"
            ],
            "image/png": "[encoded data removed]"
          },
          "metadata": {
            "needs_background": "light"
          }
        }
      ]
    },
    {
      "cell_type": "markdown",
      "source": [
        "График уже выглядит лучше. Оценим качество."
      ],
      "metadata": {
        "id": "jjuXJ5AdN1PD"
      }
    },
    {
      "cell_type": "code",
      "source": [
        "train_mse = mean_squared_error(train[['y']], y_predict_train)\n",
        "test_mse = mean_squared_error(test[['y']], y_predict_test)\n",
        "print(\"Train MSE: {}\".format(train_mse))\n",
        "print(\"Test MSE: {}\".format(test_mse))"
      ],
      "metadata": {
        "colab": {
          "base_uri": "https://localhost:8080/"
        },
        "id": "IZkwft1RDv0n",
        "outputId": "9cb1d555-53eb-4271-904d-8fca994568e9"
      },
      "execution_count": null,
      "outputs": [
        {
          "output_type": "stream",
          "name": "stdout",
          "text": [
            "Train MSE: 0.9500342328699919\n",
            "Test MSE: 0.8666177085273008\n"
          ]
        }
      ]
    },
    {
      "cell_type": "code",
      "source": [
        "from sklearn.metrics import mean_absolute_error\n",
        "\n",
        "train_mae = mean_absolute_error(train[['y']], y_predict_train)\n",
        "test_mae = mean_absolute_error(test[['y']], y_predict_test)\n",
        "print(\"Train MAE: {}\".format(train_mae))\n",
        "print(\"Test MAE: {}\".format(test_mae))"
      ],
      "metadata": {
        "colab": {
          "base_uri": "https://localhost:8080/"
        },
        "id": "aPjyylR7Poan",
        "outputId": "9885f555-0738-4331-cea2-fd7f8bb8c31e"
      },
      "execution_count": null,
      "outputs": [
        {
          "output_type": "stream",
          "name": "stdout",
          "text": [
            "Train MAE: 0.7802681943269093\n",
            "Test MAE: 0.7283304269248566\n"
          ]
        }
      ]
    },
    {
      "cell_type": "markdown",
      "source": [
        "Действительно, добавление переменной логарифма от `x` позволило улучшить качество модели, то есть снизить ошибку."
      ],
      "metadata": {
        "id": "n6c_PStiN8OY"
      }
    }
  ]
}